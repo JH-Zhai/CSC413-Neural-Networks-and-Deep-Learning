{
  "cells": [
    {
      "cell_type": "markdown",
      "metadata": {
        "id": "V3szwJAdaoQa"
      },
      "source": [
        "## Enable rendering OpenAI Gym environments from CoLab\n",
        "\n",
        "In this assignemnt, We will use [OpenAI Gym](https://gym.openai.com/) for rendering game envionment for our agent to play and learn. It is possible and important to visualize the game your agent is playing, even on Colab. This section imports the necessary package and functions needed to generate a video in Colab. The video processing steps credit to [here](https://colab.research.google.com/drive/1flu31ulJlgiRL1dnN2ir8wGh9p7Zij2t)."
      ]
    },
    {
      "cell_type": "code",
      "execution_count": 2,
      "metadata": {
        "colab": {
          "base_uri": "https://localhost:8080/"
        },
        "id": "M9fFfA-gb8oC",
        "outputId": "5053a1f0-2646-48ec-d7ae-e8db6942d238"
      },
      "outputs": [
        {
          "output_type": "stream",
          "name": "stdout",
          "text": [
            "Looking in indexes: https://pypi.org/simple, https://us-python.pkg.dev/colab-wheels/public/simple/\n",
            "Requirement already satisfied: setuptools in /usr/local/lib/python3.9/dist-packages (67.6.1)\n"
          ]
        }
      ],
      "source": [
        "# You will need to run this block twice to make it effective\n",
        "!apt-get update > /dev/null 2>&1\n",
        "!apt-get install cmake > /dev/null 2>&1\n",
        "!pip install --upgrade setuptools 2>&1\n",
        "!pip install ez_setup > /dev/null 2>&1\n",
        "!pip install gym[atari] > /dev/null 2>&1\n",
        "!pip install box2d-py > /dev/null 2>&1\n",
        "!pip install gym[Box_2D] > /dev/null 2>&1"
      ]
    },
    {
      "cell_type": "code",
      "execution_count": 3,
      "metadata": {
        "id": "NE1QQOVX27dp"
      },
      "outputs": [],
      "source": [
        "!pip install gym==0.15.3 pyvirtualdisplay > /dev/null 2>&1\n",
        "!apt-get install -y xvfb python-opengl ffmpeg > /dev/null 2>&1"
      ]
    },
    {
      "cell_type": "markdown",
      "metadata": {
        "id": "QfTPg6uZckCm"
      },
      "source": [
        "Import openAI gym and define the functions used to show the video."
      ]
    },
    {
      "cell_type": "code",
      "execution_count": 23,
      "metadata": {
        "id": "JLl9cs6ncAf0"
      },
      "outputs": [],
      "source": [
        "import gym\n",
        "from gym.wrappers import Monitor\n",
        "import glob\n",
        "import io\n",
        "import base64\n",
        "from IPython.display import HTML\n",
        "from pyvirtualdisplay import Display\n",
        "from IPython import display as ipythondisplay\n",
        "\n",
        "display = Display(visible=0, size=(1400, 900))\n",
        "display.start()\n",
        "\n",
        "\"\"\"\n",
        "Utility functions to enable video recording of gym environment \n",
        "and displaying it.\n",
        "To enable video, just do \"env = wrap_env(env)\"\"\n",
        "\"\"\"\n",
        "\n",
        "def show_video():\n",
        "  mp4list = glob.glob('video/*.mp4')\n",
        "  if len(mp4list) > 0:\n",
        "    mp4 = mp4list[0]\n",
        "    video = io.open(mp4, 'r+b').read()\n",
        "    encoded = base64.b64encode(video)\n",
        "    ipythondisplay.display(HTML(data='''<video alt=\"test\" autoplay \n",
        "                loop controls style=\"height: 400px;\">\n",
        "                <source src=\"data:video/mp4;base64,{0}\" type=\"video/mp4\" />\n",
        "             </video>'''.format(encoded.decode('ascii'))))\n",
        "  else: \n",
        "    print(\"Could not find video\")\n",
        "    \n",
        "\n",
        "def wrap_env(env):\n",
        "  env = Monitor(env, './video', force=True)\n",
        "  return env"
      ]
    },
    {
      "cell_type": "markdown",
      "metadata": {
        "id": "UHkrflTWakKd"
      },
      "source": [
        "Import other packages:\n",
        "\n",
        "We will use Pytorch for building and learning our DQN network."
      ]
    },
    {
      "cell_type": "code",
      "execution_count": 5,
      "metadata": {
        "id": "9KvZYSl6RrzD"
      },
      "outputs": [],
      "source": [
        "import torch\n",
        "from torch import nn\n",
        "import copy\n",
        "from collections import deque\n",
        "import random\n",
        "from tqdm import tqdm\n",
        "import matplotlib.pyplot as plt\n",
        "\n",
        "random.seed(42)"
      ]
    },
    {
      "cell_type": "markdown",
      "metadata": {
        "id": "zrLGCk-3ditk"
      },
      "source": [
        "## Run the game with random agent."
      ]
    },
    {
      "cell_type": "code",
      "execution_count": 6,
      "metadata": {
        "id": "ZMcGALcWeWfh",
        "outputId": "0f0a34cd-665d-4612-ee1e-29b4d63b9d07",
        "colab": {
          "base_uri": "https://localhost:8080/",
          "height": 459
        }
      },
      "outputs": [
        {
          "output_type": "stream",
          "name": "stderr",
          "text": [
            "100%|██████████| 20/20 [00:05<00:00,  3.48it/s]"
          ]
        },
        {
          "output_type": "stream",
          "name": "stdout",
          "text": [
            "average reward per episode : 19.4\n"
          ]
        },
        {
          "output_type": "stream",
          "name": "stderr",
          "text": [
            "\n"
          ]
        },
        {
          "output_type": "display_data",
          "data": {
            "text/plain": [
              "<IPython.core.display.HTML object>"
            ],
            "text/html": [
              "<video alt=\"test\" autoplay \n",
              "                loop controls style=\"height: 400px;\">\n",
              "                <source src=\"data:video/mp4;base64,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\" type=\"video/mp4\" />\n",
              "             </video>"
            ]
          },
          "metadata": {}
        }
      ],
      "source": [
        "from torch import randint\n",
        "from time import sleep\n",
        "\n",
        "env = wrap_env(gym.make('CartPole-v1'))\n",
        "reward_arr = []\n",
        "episode_count = 20\n",
        "for i in tqdm(range(episode_count)):\n",
        "    obs, done, rew = env.reset(), False, 0\n",
        "    env.render()\n",
        "    while not done:\n",
        "        A = randint(0, env.action_space.n, (1,))\n",
        "        obs, reward, done, info = env.step(A.item())\n",
        "        rew += reward\n",
        "        sleep(0.01)\n",
        "    reward_arr.append(rew)\n",
        "print(\"average reward per episode :\", sum(reward_arr) / len(reward_arr))\n",
        "env.close()\n",
        "show_video()"
      ]
    },
    {
      "cell_type": "markdown",
      "metadata": {
        "id": "Ope0zHAjfXQh"
      },
      "source": [
        "The episode ends when the pole is more than 15 degrees from vertical, or the cart moves more than 2.4 units from the center. The video is short (< 1s) because the pole loses balance immediately. \n",
        "\n",
        "You can see that a random agent is having trouble balancing the CartPole, just like you. However, a difficult game for human may be very simple to a computer. Let's see how we can use DQN to train a agent. "
      ]
    },
    {
      "cell_type": "markdown",
      "metadata": {
        "id": "OjP_2jn3SFgv"
      },
      "source": [
        "## Experience Replay\n",
        "\n",
        "The technique of experience replay was first proposed in to resolve temporal correlation in the input data by mixing recent experiences as well past experiences, essentially forcing the input to become independent and identically distributed (i.i.d.). It has been shown that this greatly stabilizes\n",
        "and improves the DQN training procedure."
      ]
    },
    {
      "cell_type": "code",
      "execution_count": 8,
      "metadata": {
        "id": "SoxW1Jlnk8mS"
      },
      "outputs": [],
      "source": [
        "import numpy as np\n",
        "\n",
        "class ExperienceReplay(object):\n",
        "      def __init__(self, length):\n",
        "        self.experience_replay = deque(maxlen=length)\n",
        "\n",
        "      def collect(self, experience):\n",
        "        self.experience_replay.append(experience)\n",
        "        return\n",
        "\n",
        "      # def sample_from_experience(self, sample_size):\n",
        "      #   if len(self.experience_replay) < sample_size:\n",
        "      #       sample_size = len(self.experience_replay)\n",
        "      #   sample = random.sample(self.experience_replay, sample_size)\n",
        "      #   state = torch.tensor([exp[0] for exp in sample]).float()\n",
        "      #   action = torch.tensor([exp[1] for exp in sample]).float()\n",
        "      #   reward = torch.tensor([exp[2] for exp in sample]).float()\n",
        "      #   next_state = torch.tensor([exp[3] for exp in sample]).float()\n",
        "      #   return state, action, reward, next_state\n",
        "\n",
        "      # to make it faster\n",
        "      def sample_from_experience(self, sample_size):\n",
        "          if len(self.experience_replay) < sample_size:\n",
        "              sample_size = len(self.experience_replay)\n",
        "          sample = random.sample(self.experience_replay, sample_size)\n",
        "          state = torch.tensor(np.array([exp[0] for exp in sample])).float()\n",
        "          action = torch.tensor(np.array([exp[1] for exp in sample])).float()\n",
        "          reward = torch.tensor(np.array([exp[2] for exp in sample])).float()\n",
        "          next_state = torch.tensor(np.array([exp[3] for exp in sample])).float()\n",
        "          return state, action, reward, next_state"
      ]
    },
    {
      "cell_type": "markdown",
      "metadata": {
        "id": "CgXwmV2im4Sx"
      },
      "source": [
        "## Build our DQN Network\n",
        "\n",
        "We will use a simple multi-layer neural network to learn the optimal actions. We will use Adam Optimizor and MSE loss for training. **Notice that the loss function and gamma is given to you in the class attribute.** "
      ]
    },
    {
      "cell_type": "code",
      "execution_count": 9,
      "metadata": {
        "id": "Wmd1pfuRm7MQ"
      },
      "outputs": [],
      "source": [
        "class DQN_Network:\n",
        "\n",
        "    def __init__(self, layer_size_list, lr, seed=1423):\n",
        "        torch.manual_seed(seed)\n",
        "        self.policy_net = self.create_network(layer_size_list)\n",
        "        self.target_net = copy.deepcopy(self.policy_net)\n",
        "  \n",
        "        self.loss_fn = torch.nn.MSELoss() # the loss function\n",
        "        self.optimizer = torch.optim.Adam(self.policy_net.parameters(), lr=lr)\n",
        "\n",
        "        self.step = 0\n",
        "        self.gamma = torch.tensor(0.95).float()\n",
        "        return\n",
        "\n",
        "    def create_network(self, layer_size_list):\n",
        "        assert len(layer_size_list) > 1\n",
        "\n",
        "        layers = []\n",
        "        for i in range(len(layer_size_list) - 1):\n",
        "            linear = nn.Linear(layer_size_list[i], layer_size_list[i + 1])\n",
        "\n",
        "            if i < len(layer_size_list) - 2:\n",
        "              activation = nn.Tanh()\n",
        "            else:\n",
        "              activation = nn.Identity()\n",
        "\n",
        "            layers += (linear, activation)\n",
        "        return nn.Sequential(*layers)\n",
        "\n",
        "    def load_pretrained_model(self, model_path):\n",
        "        self.policy_net.load_state_dict(torch.load(model_path))\n",
        "\n",
        "    def save_trained_model(self, model_path=\"cartpole-dqn.pth\"):\n",
        "        torch.save(self.policy_net.state_dict(), model_path)\n"
      ]
    },
    {
      "cell_type": "markdown",
      "metadata": {
        "id": "xKVV16YctASm"
      },
      "source": [
        "## **[Your task]**: complete the function that chooses the next action\n",
        "\n",
        "Choose next action based on **$\\epsilon$-greedy**:\n",
        "\n",
        "\\begin{align}\\text{where} \\quad \\mathcal{a_{t+1}} = \\begin{cases}\n",
        "     \\text{argmax}_{a}Q(a, s)  & \\text{with probability }: 1 - \\epsilon, \\text{exploitation}\\\\\n",
        "     \\text{Uniform}\\{a_{1},...,a_{n}\\} & \\text{with probability}:   \\epsilon, \\text{exploration} \\\\\n",
        "   \\end{cases}\\end{align}"
      ]
    },
    {
      "cell_type": "code",
      "execution_count": 10,
      "metadata": {
        "id": "iE0gVweYs8xW"
      },
      "outputs": [],
      "source": [
        "def get_action(model, state, action_space_len, epsilon):\n",
        "    # We do not require gradient at this point, because this function will be used either\n",
        "    # during experience collection or during inference\n",
        "\n",
        "    with torch.no_grad():\n",
        "        Qp = model.policy_net(torch.from_numpy(state).float())\n",
        "\n",
        "    ## TODO: select and return action based on epsilon-greedy\n",
        "    if torch.rand(1).item() > epsilon:\n",
        "        # Exploitation: choose the action with the highest Q-value\n",
        "        action = torch.argmax(Qp).view(1)\n",
        "    else:\n",
        "        # Exploration: choose a random action from the available actions\n",
        "        action = torch.randint(0, action_space_len, (1,))\n",
        "    \n",
        "    return action"
      ]
    },
    {
      "cell_type": "markdown",
      "metadata": {
        "id": "iF9a5-IbazjQ"
      },
      "source": [
        "### **[Your task]**: complete the function that train the network for one step\n",
        "\n",
        "Here, you can find an ``train`` function that performs a\n",
        "single step of the optimization. \n",
        "\n",
        "For our training update rule, the loss you are trying to minimize is:\n",
        "\n",
        "\\begin{align}\\text{loss} = Q(s, a) - (r + \\gamma \\max_a Q(s', a))\\end{align}"
      ]
    },
    {
      "cell_type": "code",
      "execution_count": 12,
      "metadata": {
        "id": "mtx4FAiab0Hp"
      },
      "outputs": [],
      "source": [
        "import torch.nn.functional as F\n",
        "\n",
        "def train(model, batch_size):\n",
        "    state, action, reward, next_state = memory.sample_from_experience(sample_size=batch_size)\n",
        "\n",
        "    # TODO: predict expected return of current state using main network\n",
        "    state_action_values = model.policy_net(state).gather(1, action.long().unsqueeze(1))\n",
        "    # TODO: get target return using target network\n",
        "    next_state_values = model.target_net(next_state).max(1)[0].detach()\n",
        "    expected_state_action_values = (next_state_values * model.gamma) + reward\n",
        "\n",
        "    # TODO: compute the loss\n",
        "    loss = F.smooth_l1_loss(state_action_values, expected_state_action_values.unsqueeze(1))\n",
        "    model.optimizer.zero_grad()\n",
        "    loss.backward(retain_graph=True)\n",
        "    model.optimizer.step()\n",
        "\n",
        "    model.step += 1\n",
        "    if model.step % 5 == 0:\n",
        "        model.target_net.load_state_dict(model.policy_net.state_dict())\n",
        "\n",
        "    return loss.item()"
      ]
    },
    {
      "cell_type": "markdown",
      "metadata": {
        "id": "uskoe87Uz-Jg"
      },
      "source": [
        "### **[Your task]**: Finish the training loop\n",
        "\n",
        "In this part, you can play around with ```exp_replay_size```, ```episode```, ```epsilon``` and the \"episodo decay\" logic to train your model. **If you have done correctly, you will observe that the training time for the latter episodes is longer than the early episodes. This is because your agent is getting better and better at playing the game and thus each episode takes longer**"
      ]
    },
    {
      "cell_type": "code",
      "execution_count": 17,
      "metadata": {
        "id": "3NfNnyD6SPpN",
        "colab": {
          "base_uri": "https://localhost:8080/"
        },
        "outputId": "86800300-ca9a-44d7-f37e-2ff8df8cd9c4"
      },
      "outputs": [
        {
          "output_type": "stream",
          "name": "stderr",
          "text": [
            "100%|██████████| 20000/20000 [03:16<00:00, 101.75it/s]"
          ]
        },
        {
          "output_type": "stream",
          "name": "stdout",
          "text": [
            "Saving trained model\n"
          ]
        },
        {
          "output_type": "stream",
          "name": "stderr",
          "text": [
            "\n"
          ]
        }
      ],
      "source": [
        "# Create the model\n",
        "env = gym.make('CartPole-v0')\n",
        "input_dim = env.observation_space.shape[0]\n",
        "output_dim = env.action_space.n\n",
        "agent = DQN_Network(layer_size_list=[input_dim, 64, output_dim], lr=1e-3)\n",
        "\n",
        "# Main training loop\n",
        "losses_list, reward_list, episode_len_list, epsilon_list = [], [], [], []\n",
        "\n",
        "# TODO: try different values, it normally takes more than 6k episodes to train\n",
        "exp_replay_size = 5000\n",
        "memory = ExperienceReplay(exp_replay_size)\n",
        "episodes = 20000\n",
        "epsilon = 1 # episilon start from 1 and decay gradually. \n",
        "\n",
        "# initiliaze experiance replay\n",
        "index = 0\n",
        "for i in range(exp_replay_size):\n",
        "    obs = env.reset()\n",
        "    done = False\n",
        "    while not done:\n",
        "        A = get_action(agent, obs, env.action_space.n, epsilon=1)\n",
        "        obs_next, reward, done, _ = env.step(A.item())\n",
        "        memory.collect([obs, A.item(), reward, obs_next])\n",
        "        obs = obs_next\n",
        "        index += 1\n",
        "        if index > exp_replay_size:\n",
        "            break\n",
        "\n",
        "index = 128\n",
        "for i in tqdm(range(episodes)):\n",
        "    obs, done, losses, ep_len, rew = env.reset(), False, 0, 0, 0\n",
        "    while not done:\n",
        "        ep_len += 1\n",
        "        A = get_action(agent, obs, env.action_space.n, epsilon)\n",
        "        obs_next, reward, done, _ = env.step(A.item())\n",
        "        memory.collect([obs, A.item(), reward, obs_next])\n",
        "\n",
        "        obs = obs_next\n",
        "        rew += reward\n",
        "        index += 1\n",
        "\n",
        "        if index > 128:\n",
        "            index = 0\n",
        "            for j in range(4):\n",
        "                loss = train(agent, batch_size=16)\n",
        "                losses += loss\n",
        "    \n",
        "    # TODO: add epsilon decay rule here!\n",
        "    epsilon *= 0.95\n",
        "\n",
        "\n",
        "    losses_list.append(losses / ep_len), reward_list.append(rew)\n",
        "    episode_len_list.append(ep_len), epsilon_list.append(epsilon)\n",
        "\n",
        "print(\"Saving trained model\")\n",
        "agent.save_trained_model(\"cartpole-dqn.pth\")"
      ]
    },
    {
      "cell_type": "markdown",
      "metadata": {
        "id": "CCow7jNXf5YT"
      },
      "source": [
        "## Last Step: evaluate your trained model! **Make sure to include your visualizations (plot+video) in the notebook for your submission!**\n",
        "\n",
        "First we can plot the reward vs. episode. **If you have done correctly, you should see the reward can stabilize at 200 in later episodes**\\"
      ]
    },
    {
      "cell_type": "code",
      "execution_count": 18,
      "metadata": {
        "id": "-Hy_FP7yeXA4",
        "colab": {
          "base_uri": "https://localhost:8080/",
          "height": 472
        },
        "outputId": "139e7381-a0b0-4e95-fcae-917c188496da"
      },
      "outputs": [
        {
          "output_type": "display_data",
          "data": {
            "text/plain": [
              "<Figure size 640x480 with 1 Axes>"
            ],
            "image/png": "[encoded data removed]"
          },
          "metadata": {}
        }
      ],
      "source": [
        "def plot_reward(r):\n",
        "    plt.figure(2)\n",
        "    plt.clf()\n",
        "    plt.title('Result')\n",
        "    plt.xlabel('Episode')\n",
        "    plt.ylabel('Reward')\n",
        "    plt.plot(r)\n",
        "\n",
        "plot_reward(reward_list)"
      ]
    },
    {
      "cell_type": "markdown",
      "metadata": {
        "id": "EixOpGakoyi4"
      },
      "source": [
        "Next let check out how well your agent plays the game. **If you have done correctly, you should see a relatively longer video (> 3~4s) with a self-balancing pole.**"
      ]
    },
    {
      "cell_type": "code",
      "execution_count": 24,
      "metadata": {
        "id": "EMEivKldTGVG",
        "colab": {
          "base_uri": "https://localhost:8080/",
          "height": 459
        },
        "outputId": "ef918364-e5f4-479e-81d5-f137aff455bb"
      },
      "outputs": [
        {
          "output_type": "stream",
          "name": "stderr",
          "text": [
            "100%|██████████| 200/200 [00:20<00:00,  9.83it/s]"
          ]
        },
        {
          "output_type": "stream",
          "name": "stdout",
          "text": [
            "average reward per episode : 195.25\n"
          ]
        },
        {
          "output_type": "stream",
          "name": "stderr",
          "text": [
            "\n"
          ]
        },
        {
          "output_type": "display_data",
          "data": {
            "text/plain": [
              "<IPython.core.display.HTML object>"
            ],
            "text/html": [
              "<video alt=\"test\" autoplay \n",
              "                loop controls style=\"height: 400px;\">\n",
              "                <source src=\"data:video/mp4;base64,AAAAIGZ0eXBpc29tAAACAGlzb21pc28yYXZjMW1wNDEAAAAIZnJlZQAAeYRtZGF0AAACrgYF//+q3EXpvebZSLeWLNgg2SPu73gyNjQgLSBjb3JlIDE1NSByMjkxNyAwYTg0ZDk4IC0gSC4yNjQvTVBFRy00IEFWQyBjb2RlYyAtIENvcHlsZWZ0IDIwMDMtMjAxOCAtIGh0dHA6Ly93d3cudmlkZW9sYW4ub3JnL3gyNjQuaHRtbCAtIG9wdGlvbnM6IGNhYmFjPTEgcmVmPTMgZGVibG9jaz0xOjA6MCBhbmFseXNlPTB4MzoweDExMyBtZT1oZXggc3VibWU9NyBwc3k9MSBwc3lfcmQ9MS4wMDowLjAwIG1peGVkX3JlZj0xIG1lX3JhbmdlPTE2IGNocm9tYV9tZT0xIHRyZWxsaXM9MSA4eDhkY3Q9MSBjcW09MCBkZWFkem9uZT0yMSwxMSBmYXN0X3Bza2lwPTEgY2hyb21hX3FwX29mZnNldD0tMiB0aHJlYWRzPTMgbG9va2FoZWFkX3RocmVhZHM9MSBzbGljZWRfdGhyZWFkcz0wIG5yPTAgZGVjaW1hdGU9MSBpbnRlcmxhY2VkPTAgYmx1cmF5X2NvbXBhdD0wIGNvbnN0cmFpbmVkX2ludHJhPTAgYmZyYW1lcz0zIGJfcHlyYW1pZD0yIGJfYWRhcHQ9MSBiX2JpYXM9MCBkaXJlY3Q9MSB3ZWlnaHRiPTEgb3Blbl9nb3A9MCB3ZWlnaHRwPTIga2V5aW50PTI1MCBrZXlpbnRfbWluPTI1IHNjZW5lY3V0PTQwIGludHJhX3JlZnJlc2g9MCByY19sb29rYWhlYWQ9NDAgcmM9Y3JmIG1idHJlZT0xIGNyZj0yMy4wIHFjb21wPTAuNjAgcXBtaW49MCBxcG1heD02OSBxcHN0ZXA9NCBpcF9yYXRpbz0xLjQwIGFxPTE6MS4wMACAAAACP2WIhAAv//72rvzLK0cLlS4dWXuzUfLoSXL9iDB9aAAAAwAAAwAAJuKiZ0WFMeJsgAAALmAIWElDyDzETFWKgSvGXwe4jgAG2U/wgaiauUjI2KsSvlL3DWNVdk82H+HApDtpKmvxJ0kxSbWaFql3tw8j8IxY9v/r6i3i8nbzz8Y//spujcCTbxVGFuZk1on+wOjueKb5vXjVvAjmHLC9uF29oBqyKaw8KC/WImRXnd0IJEAGMKeM3rBCfmzl+joxxmCgB2U4aKWtiIIKTmhR8+t6PcmV3TDkuoqm7fVHn3kfKlgpiyEZL3DAHrwIb0oB4Y7m02TO75RcS2X0UE0IaIVs/YyCX4uptT/xFgNAQiI0UsmrCxXGpXinNV8eCnrRlhwvviikowoP3dq7wJADvbU2v3i9V3fNUcoCVM8TC1YK1eV0bjELtvIULuhYtITgZ9eW2zWwrjhgnj4U8hh8rVEYSxT4UDr9T9MWQecQLU8FK81YF7CvW6FF57t8kFvPNA9JoVzfictYOidCBaC8D2YTEYsIx7vFkMFlX6h8eke6xNkupCUirUIuHqPEw8foaqB/Llswn3Fhcl5mFvPu+OP5WRX2W+F6VgPbZHehgtozKcj6tLhpaYPYlcZ+Sh644XOKBdLZ3alfYUx2zN6hEAnXgMsgLIaGt/PLZ5oTFipTMI97jMlio9YH70hFF4/l7RDlBO1eKB3ATSaIEsaqC0SOQHVyZl5k97gAAGEAADZLgAAAAwAAAwAAAwAAAwEzAAAA0UGaJGxCv/44QAABDUioAWryUZzu0TzCG2t/G3ZoWKzbm+CfGxYr/m+77gTXuIrJh01ooRykUIVz+Qs3vlxvem+3fyi8NltyOxbMda3WWc+gdcnraUT25/xzrYWGbpAvlkzBugot9wDPSQfuRHYwtgIC0v2RwV7f7qgjsAX7BoZdfSv4l2d0Q8VhE1OqDxLsgyWHtPxKxeSF8z2me6HgnK2jnG+1ML6mvl/mPozkSfrLTfBt4ec8PqkTxUWdcqxcIuaJTXLePVMyLVRc+MKgp9ycAAAAbEGeQniEfwAAFrVYrhjIMSIm3IgMtB55f51lSnT3V7a7r9+Mc4GLABapNrOjgVRvUaxhg+9Hh646ZE4+NvbFoD5vo3SAB1q7sVL2N0tONpCoSTzXQ0MooJIEmwHSWTgAALXEpmMW+qZYKiAR3QAAAE4BnmF0R/8AACOsOWTjY4z04kcT9MA+gsfCpEDAIDADTPXRMBYtuEf4kSdipFVRByqtS0QKoO3531H3wMthJ1bpqx5PAAASfuAlUywALSAAAABOAZ5jakf/AAANgmkBhpM0IwLobivH1Y9zk44ZyZIxPq54JeMdFWnYxln7gMS2n99jI9r0jUjJJkK6VpfWzn88Ze2S0kAAGQvdtUywAIeBAAAAY0GaZUmoQWiZTAhf//6MsAAAGq0nSecMeTgRz2Cf/GUqRLOdn39nDef09W+5jjyFlIaVFBIdSKF8sLuBJC+6N/64CK/cji1V0XCKLsDAs4lPJLzjjO6+wH2fDqKE9S1KoACggQAAAH1BmoZJ4QpSZTAhn/6eEAAACe8AHQju16P7jRPlX+5akFAB84F1fkk7Kx5UHWkAXgf9H3cGJTFw7vS1In3qgr3qpnPidepg7btfT5OxH+sJFZGCzjUhs7vCabmtgCnf3dXyeCo7WTWyNAuHo2zpHyfbB53WpVAhJqRwuiAQsQAAAHxBmqpJ4Q6JlMCGf/6eEAAARVS+veuFdg92E7dyoSYL6RBIZ9yduPuUtDeltCzCYNtwlPpkMAGQBYzWQUdUnUAx/C8+L+a2zR1DAf7bP84m773U8ByCKZ+Azk23Q8gBCtX23mcbZO9JPAm4Og7d8UJzm5hhUnjzg7IV8CthAAAAPEGeyEURPCP/AAAWtVkMRIg9lAB+Hk6LvuqsYErOScswjN8tcYzQaTKOiw6U+NA0AAADAAAdWejR4gyhQQAAAC0Bnud0R/8AAAUgjFkcfMyRi/6Ul7E6YnMDrEnEolDOcyrAAAADAAAJZqZYF3AAAAA1AZ7pakf/AAANeUtzK8Q8kxYlkvzLp1WqMY4AH3w+5UhCR6mqUEO1zBoYtsAAAAf6mOjLAu8AAAA4QZruSahBaJlMCF///oywAABGFFtYk3Ff3x7/qHW1vMZe4PY2ayM7rZi1rvGUYRPrs91lkUwzMhoAAAA6QZ8MRREsI/8AABa8Tp39KySgA/J/jSbDIbuNQVeh10oi7kpATC3GEtHRv7XMVw974QaILVt7R2yfmAAAACUBnyt0R/8AAA1+EoKWdktCcRx1cdpepnJ84hJ0KNa38QFb8CkhAAAAPQGfLWpH/wAAI7IlxV9gAljzb9P6cT8Thc58xoYVzi1xTsJr3cPrNV6mkbpxRQGuVwOHnbYZMFvkbh6ZqUkAAABhQZsySahBbJlMCF///oywAABGAtpZwA6R63v5LHznsIBmdh0qPtOyEvdt5hiMMVAhqmd5hl8Fi6P08wUZWFaFSt67aVIklI9JajKrHk1JoE1e0/0pIrQhLkWOpqI7Kwf+TQAAAEtBn1BFFSwj/wAAFsBIRwcjw7+MFenCBqqMCXaijp1ghKsXvFfLWqksh96ay5qJWMwiwEv4qLmiljYnJ97IT6PKUH9vRE9AguEy4DEAAAAhAZ9vdEf/AAAjt/9BQRbyKoO2rxU/mgmYWoew4bPhLH58AAAAKwGfcWpH/wAADYdeoqjfOVK1HQdn0K1Z9iaQAfh8/LBsIAaTZw3lekbEWzEAAABQQZt0SahBbJlMFEwz//6eEAAARUUF76HqvrFde9AP2JWm06jPVceWUPr+7MusL7YO8VuYY2zYAKtq96yf1K3QvaucFzJ3wpSDLLBJASgkycgAAAAjAZ+Takf/AAAjvxrOYHE+hZhG0rbRCOGNLQ6gj4TL8yIxN8AAAAB0QZuYSeEKUmUwIZ/+nhAAAEVrST+wARkeqSoxbAgqLcIQMqF5UOd24yw5BL1h+BrJ64k3UochLebNEKKum94/rCLTc4JSqRj3nU5HL8y8AVj5XOPOSs6LztJ0UtyqxAf4PvJdDFC7AXDq+d4qWvVgmNdS56MAAAApQZ+2RTRMI/8AABa8ThruU/M/G7aFsrxX03oqrpPFOQJ6bSOi9uIp4MAAAAAzAZ/VdEf/AAANfhOJx/cRXiecXpp9IzvYH/ACV9CYbCJ/g3uvgFwd78g3sQUdJoDP7MAhAAAAHgGf12pH/wAAI54U0lskBtJCBQid+l/CeI38KbYRgQAAAIpBm9xJqEFomUwIZ//+nhAAAEdFINnPc22ADoG8FnpqNE1jKuiA7wJWDaZIzSF1l7xfI8RSYuoD5ZP0/bXGjjv7HJaQ/QDOfSVDxqiVqRz6nFc1QJLvSq4cnh63z0Wl/QvzGxOkHXxY4YySHU22ewhGur2Eghrddx3GScwsgYiw8u5bv1K8Gp3VsaQAAAA1QZ/6RREsI/8AABdFE4vcl2RYY044eHyB5HRtpaJXjsN7tvBRV8RADQ2yiV04KDwGj7FSAGMAAAAgAZ4ZdEf/AAAkq/hbeBKdaCOISbpbKd2kC1kpwLVVMIwAAAAxAZ4bakf/AAAjsjy/ib2S6UAIqfpdLAJmqDnGSQY0V7+/Noiv0XnZO+4e3cyHsxg68QAAAIFBmgBJqEFsmUwIZ//+nhAAAEdUkLwmOK02movd0InXWZgAVFq58AAl8cBLlHJ45X1gpOpLMt1AFpZqpmEkgvIvXGkIYZdL+bxu8eqvjT6DEg1YuY63gIXefnXjZyDiA1+I9QMPMBW0uI26YarxapL9m0E5zffX+QONuC+JmkFM8C8AAAA5QZ4+RRUsI/8AABdDR7cNuRvtaV7woHZwUTuuF8gAXUF0HBjryTPswaC2ivSbBj4roSHCPybmN/mAAAAAJwGeXXRH/wAAJKv4W3gX1TbzoOQTKchFhJqBEpUqaCnGS1w7/ERWpAAAACIBnl9qR/8AACSxzAlwbDhGwx0LC1y4N2TWmr3oAC+x2ZFhAAAAeEGaREmoQWyZTAhn//6eEAAAR0UINAHFKuc15eBNUeVD2AumKrs5Pc8qSDOIZ/+G9gRYejQhCH2AO/L7/o2Y69IbUItKNST+1haypHIauAl9ifWEks/xXpesUFFo/STJoAw1RPzRCvUI+0p37aVEgN2qrraMsdjEEAAAAE1BnmJFFSwj/wAAF0UtzVAFalGmbA+5v8BB5pkoK3c9I8KLULsVqLHB7VpbO4gVv25gyvq476cm5r8x1BF/ZvqI/7Xtg/nUecGn3lUEOQAAAC4BnoF0R/8AACTDF2WzdU08oVM3F/V1mrRbQVr4IAGo0SNvb6bJ/ftH+dCXH2DwAAAAIAGeg2pH/wAAI78fjDe6m47O3mD8cmLDWAN3PPWxjZ+7AAAAXkGaiEmoQWyZTAhn//6eEAAAR1EKHQANrVcWbQpNeiQUf865tFfNAE/ZW5Gd4Kt6IvoAOXhYnUcUDglcPcvNtPVY2djCI4npvrCSuIP15RG2ORWiisQewl1cQ6hlq8sAAAAtQZ6mRRUsI/8AABdLineNCkjYRBgirkUETWZ+2P5MLIr/KqvBAPhSBVh5NWfBAAAAHgGexXRH/wAAJLf+8/Nnc125CmilzoKa+yiS8J3LwwAAAB4BnsdqR/8AACSxyu59iG/eJjVp32jirzPTyWH5+pAAAABkQZrMSahBbJlMCGf//p4QAABHRQkgAGlG+1SXLCaFlUP7JPuL14aNASKpeElrYim79qIGKTo9jnabQvrMaamFJ3xn9YSc+ODG73hXEuZJHPa0jifVKZc/laR437rw1DXzk+qoagAAAC9BnupFFSwj/wAAF1BWhYDwMDDgKvcVYl9ubOIKLhf3CTfJOEojpxyu5gu8cXvUgQAAABsBnwl0R/8AACTDPggIlE7fAoIcvdX79SQppvQAAAAdAZ8Lakf/AAAkscwJcFpxCNhjvk7mKjXi0TYFDpgAAABQQZsQSahBbJlMCGf//p4QAABHVKk+4/yBb6Z25yycZQAF0EHJENRI29F6/JfsP+wMA1mVQwJcHWcOq81v9YSXK8ubTYwkYu8WDziwq8M5zV0AAAAvQZ8uRRUsI/8AABdFKzdrWl+RzZQA47eBOyknAc6p77pmyTZ1TGUgpxP5NFUwDFkAAAAaAZ9NdEf/AAAkq/hbeBKdaCOIEeXOB6g6wvEAAAAfAZ9Pakf/AAADAfF+lsnylpmrl6iCtCaFDfF22b2vcAAAAFhBm1RJqEFsmUwIZ//+nhAAAEdEWmxBZ0GF9PC+Ynmkkpabe7Q4PR+55jkhYe1DL8cGjz9WB8B/xywBQzJkmSQppC61PJ/zh+GI6EbDrhfXRVWLA5MLGgLTAAAAH0GfckUVLCP/AAAXQ0e3DbkcL+XTz5qvHFxWRA2CDFkAAAAWAZ+RdEf/AAAkq/hbeBKdaCr8lVhZ/wAAAB4Bn5NqR/8AACS/BCcSyWmauFZTkCN3tPiSrTR+RYAAAAAxQZuYSahBbJlMCGf//p4QAABHRQXvV33r6vvdlL23glf4cqRZm/4Ak/S7BsF/CnSvOQAAADFBn7ZFFSwj/wAAF0xObMLYSwxrPgaSeU6yB/i+AEH2MuxXg1ZD+D0wBgKoYxDBSMPcAAAAFgGf1XRH/wAAAwAKh7Q9gzsHryn2eWEAAAAoAZ/Xakf/AAAknoUdIQAcWEPHCqzValpYGdoTpy9N0Wj6e4u6GZt1DwAAAFFBm9xJqEFsmUwIZ//+nhAAAEdRCh0AB0DeCvCMVUTlWftQ6fkW3b6uh6ZYl9yorWp9jSTAbzvFqNey7vRkaCQLHe1vVbylDnaZloVvaDMeDIAAAAArQZ/6RRUsI/8AABdMTmzC2EsLSxz4wAJxiUE+P9HSb9iNVCqv5PawexdqQQAAAC0Bnhl0R/8AACSf+t8mAG5mBWRUJbF/HiTHmfUnS7pXdXvqAgaooucWAHkZQsAAAAAmAZ4bakf/AAAkmlrNtArkdS8aqyDfAP6GtjmAAJadz6Itv/tAzIEAAAA+QZoASahBbJlMCGf//p4QAABHUQl6QtviJfc8AtM4nIrwH7e6Na6ubzaWAEFhV54dr7omC3QYc5IVcU1Vn0EAAAArQZ4+RRUsI/8AABdMTmzC0pPDIAS1QCMY/6OGj0LpQVSIhvKgZC12yOP9MAAAACgBnl10R/8AACSf+s3qtaYZlMftyeUzgZvbGd49AB75sk/jBtnp/YWAAAAAGAGeX2pH/wAAJJpazbQK5GIgdTHlq6vlxQAAAEJBmkRJqEFsmUwIZ//+nhAAAEdFBe+eDZx027m0KAaApSWCDsGYBqKY4R6gbCHaMEB045tA1ZhwmMrqGQifC2pYTmgAAAAdQZ5iRRUsI/8AABdFWFWKzj/Y1G3JBHRrxQ8unYEAAAAjAZ6BdEf/AAAkn/qZ5Xn/6QaYSfM10SWLE2bAE6qeLanF33QAAAAjAZ6Dakf/AAAkmlqbTFABxuhei/YxJI7H0VkElmpqdW3oC7kAAABAQZqISahBbJlMCGf//p4QAABHVKlOdYSfCmT35TN4tuGvpo9a/j8WvR+4HoVAEBVtdM9l55/8Ws2GpEvU2TJl+QAAAB1BnqZFFSwj/wAAF0VYVYrOP9ihGRWmuDrXyI+htwAAADABnsV0R/8AACSf+ptMUAHG6F6L9agGSxk87r088WqGGFjS1arbaWamp1baam+Tz4EAAAAnAZ7Hakf/AAAkmlqbTFABxudoFB9a7H2e6RM/N3v8qXPIdM4WJg4sAAAAYEGazEmoQWyZTAhn//6eEAAAR0UF77rebQoulUHptrAF4Nt20Ecz94AAKDbtWVzx/cjMplZVAYhB2LJzRlf9++S++XHP1u2i/1JRKpeQu/hT5Dw0+KoIdSAqG4osh3TSQAAAACFBnupFFSwj/wAAF0VYVYrOP9ihGtAC+tHUgXjfVAWNXWEAAABBAZ8JdEf/AAAkmIC8L8wALWRymTBC9N/jFyJuPccuWUsnZzl5XTwNzFxMWeOL+TQ6WmxV9+j0wAruuU5GTEKYTbgAAAAwAZ8Lakf/AAAkmR6UbxQAcTe3CYEL03/GZ+qQXQmS20yYkEAioQnl/Fu76H/kaWfAAAAAPUGbEEmoQWyZTAhn//6eEAAASVSpPuP8gW+mduct79hoCB4k9fNaBwhqajkf5jXiX3TYd9EYrhi0yCJkWfEAAAAkQZ8uRRUsI/8AABfiazdrWl64oooZ9awtypa8E9MdqSOzvM7rAAAALgGfTXRH/wAAJbCrLYTJpSADdV/7mfGM/2DfTR4DnqXWMBFbB2/H1gj/DPtIl4EAAAAuAZ9Pakf/AAAluc1WsyaUgA3Vf+5ny8hPTYbA1dsVJSab1+1eSwR/hnglQzttOAAAAFNBm1RJqEFsmUwIZ//+nhAAAElFCDQBxQZLvAsXUyc6XF527cHjds0xVxhYSE2yamJYRXkQ0bVAoTCXrgJcbMisRcADcKge3NYHuIkN6vU6/+CyYAAAACpBn3JFFSwj/wAAF+JrN222gBbarCFJ5WUuvu6PbSBi2i0FUGQwlyT/LPkAAAAqAZ+RdEf/AAAlsKt130ADiwaXxEq3B3hw/OXYcTgvMa229w323TltvaXgAAAAMAGfk2pH/wAAJbnOSakAG5mBWRUn5flwBBX6AX/liOw68oYpV5evzIjngjEAZ8jpwAAAAE9Bm5hJqEFsmUwIZ//+nhAAAElFBR8aUD2j2hfIx2+wAc4MHde36pFxbEROu71vWlVhGznGvDEPWmWGO6erViL5F2UGzu282ng6w4lStj2BAAAAIkGftkUVLCP/AAAX4ms5c2M9Z1bDEnrgYVYs6+w/QfP+yDAAAAApAZ/VdEf/AAAlsKt130AEYCKY+3gLjmPDh+gffniFukoiXBDJpcbe0vEAAAAxAZ/Xakf/AAAluc5JqQAiQRTH28B+trOjRvr2iyVMXIlQvm/qYSH0C8HvnuY2UW+04QAAADxBm9xJqEFsmUwIZ//+nhAAAElUqUH2JvATcIwz3H5LrAh7NhuWR+qavRpspQZZTYg5j1aFPzaxHO/GLoAAAAAkQZ/6RRUsI/8AABfifs2qdRhRGe/DC7/UIQQawjQaP/iAchUnAAAAEgGeGXRH/wAAJawKm2nwtABUwAAAAB0BnhtqR/8AACSyPL+Jw4+/HeBqYTGH7mQVMWnFnwAAAFxBmgBJqEFsmUwIZ//+nhAAAElEfRsANqjJWJwZcSXn7Vs8L478FrUtiXTujbyop5h4kV+92sw+CnXSFvBoBGQLM/ou6c3tFpD9kh0sMi534mvbMTWPclJOdaDg1QAAACZBnj5FFSwj/wAAF+jKlGSXlrBqComDH0iVH6KkOWpPToyG7E/1AgAAABQBnl10R/8AACWr+GeA9Qy2NQzQOAAAAB8Bnl9qR/8AACW/BCcSyWmauFZTHyo/FHUPY0YdwTutAAAAUUGaREmoQWyZTAhn//6eEAAASVSphcgGr68Fo4D5ot97icxgegfZn4/0nv5RaCIKuyzjbRbAZQRgrRDtxpG0aWbyPitVNOIYRYIynk6k4YWGQAAAAC1BnmJFFSwj/wAAF+2Wd8mRNZxKh7ZmiJMiNI2ygAXQ80lePLhTEmgNxxxfYQMAAAAZAZ6BdEf/AAAlq/hngnQ5D5Ma2vRBFi0QIAAAACYBnoNqR/8AACW/Gswf8TcdTDiDdIAEjhcAMB+S3PmCQhUHFx0/VQAAAE1BmohJqEFsmUwIZ//+nhAAAElo8kAAJyh1h8ll3cdbrQcJykgb8SdeH+W36hpHt4MMm9cpourzEzhM6/sHGTrWdfpOf7d/CYIcV9A9xQAAADBBnqZFFSwj/wAAF+JrOsh5oR6acaOH/hXbk0OAE0wgHoDR1+J84bQhnxSj/x0COk8AAAAcAZ7FdEf/AAAkrEJUJRiekOjbb0RI8vYZ1fsJwQAAABoBnsdqR/8AAA4r9LZPlLTMj3xNyeL4AdPywAAAAEFBmsxJqEFsmUwIZ//+nhAAAElUqT7j/zDR/xgxc2o4ALU8mSbYzsptpJwIkWDFovUT0kRJAxaLJZHgD3soktGo5AAAACFBnupFFSwj/wAAF0VfRyAHqHBYJ5wv7pveAjD6cyUT0nEAAAAjAZ8JdEf/AAAl1SEAHFKhFn+mfV6F8xM639ma0i4aHkLXKTgAAAAXAZ8Lakf/AAAlsjTb6etg+oG5YgyKAf4AAAB0QZsQSahBbJlMCGf//p4QAABJNm6Da+EAzLEGfRObvoYS1S4+tJo0vrU8mvpksWbEf//j2nhcy0Page7/jC+o7+lfQgylHx0ch8NgKqj6Hq5KOFKqMLx6gonhCKfG7eX4MngzjytsPD2jk8fNKC8qxZ2DKqEAAAAvQZ8uRRUsI/8AABeVd04SkR39pvZBZCkgAnbWNdyz323+rjstZUfoxpkhpCUEQIEAAAAeAZ9NdEf/AAAlq/hbeBKd1Vb9m+kWvv/yTh/E4PSBAAAAKwGfT2pH/wAAJb8cVZj1Lq1gAXHlBhaF0t37LIEQkbPhFTmRrtK1oQKsBiwAAABwQZtUSahBbJlMCGf//p4QAABJVKl6CASn+HANsZl5X9LVOy84LQYGWpHppgxpo3u37gUkMThrfesKDDqBJ71D1sP2+jjlXs81m9wXR33PS2J4enm0ImKbec3CDGpTl/NlVsMyo2QJ/CLUxv1El+InQAAAAD9Bn3JFFSwj/wAAF+mDzWkdwAfcjtEELA88Hrn6LH//o1svaFKLdiW0dPOObCggrBm86ynP5mrwGCIZtRepekEAAAA3AZ+RdEf/AAAOLkkoALqAQu39dckSyl3Oefwvbli4NOeIy6FdIp6Uw+3NVPfMiVnijJLIzLQhJgAAACwBn5NqR/8AACU9zA3a8sN+ge3RYAEprXH0//f/99RZMQ7+WuhCwRIEPWAWcAAAAFhBm5hJqEFsmUwIZ//+nhAAABuxLF1GpxhRtKX/CQ/wCITly9sQI5CjvS0K2xZbHoTsQx0ksnLJzhmYHLB5NRxdr9oAO/YgElitVcCY7lX5PdbOZ6yvCUNBAAAAI0GftkUVLCP/AAAI7ya+9T11XA9lMNJlyOwxDfRxNhElYhKCAAAAGgGf1XRH/wAABWfQdA57joOY5B0PPHCLgBsxAAAAIwGf12pH/wAADh6GhUtKazttptr5L1Ojt6U9XWJvWxp9oNHxAAAAdUGb3EmoQWyZTAhn//6eEAAASUUF76FjRFdAAZd5MmtkYm8IN7A24a6drRYS+q6FNrzOHyFU+XCndmKuOUT2oUoH23gyDZuOwxQ3icvVuaiyI9RZplf1ecU1GcDRECwYSRMPlCmsSl6pN9ErIQnvPev/kDXu7gAAADxBn/pFFSwj/wAAF93jgAHGLQTdO2DE9XQ6fslvaNB2VlPUopQFnn3fgjrIAuIGQkxEOtDWyFxnqnyk6YEAAAAjAZ4ZdEf/AAAlmWVFhf7NtPZiE2mDULFW/SpZ5WFPxcFi6sAAAAAkAZ4bakf/AAAlsjTb7cW6nM7s8/y+qu3r7Fvfk/qJ7YyNlKCBAAAAR0GaAEmoQWyZTAhn//6eEAAASVSphcgDlG8FoaQ4RH+LD71Vrt+5aTfkuy6C5R2/WHWcNkwY6wUG0sw/JGUGSyIUps9pAsBBAAAAOkGePkUVLCP/AAAX6Y5strHI3bC6I5KrUg1cS3skJhLg8mKAC54e6yg5rBb9ZouD3z1wFd0qFQ6rRJwAAAApAZ5ddEf/AAAFaIvEEYZw8S3jHCkK0MbO6ybTEY5BBhPg/I2xJUS0gr4AAAAvAZ5fakf/AAAlvxr6ZprOmtfDDLKmcVSpE0xgAH7dBYH7RtrtL80nZkTS5AwsFJEAAABuQZpESahBbJlMCGf//p4QAABJceToslp3YyFFwlrgKGy9VAg60ZDlI9RTsB1lkKDsdj4uxsfFwQ0W41zWHFqe5yMpz7/pT+PfRXEmy+a9+GnQ7haRxCD2ZeHDDOrtOE0oDqESWidJOmNJGE3F/FIAAAA2QZ5iRRUsI/8AABfQMsHX1xOs+9hcvBrNwFWABdAtHUEilY4QOWBj0tGSx1X55BREwBScFONDAAAAHgGegXRH/wAAJcNApRojA8gVg0n7Y2c7pArgAHeHJwAAAC0BnoNqR/8AACXHx0ZQbVp6qxawwASt7whNGl+5wHsjdcGFIMj2fpKAmP/ASgkAAAB4QZqISahBbJlMCGf//p4QAABJZT3Zx3gA6BvBaLJFEoEzRsP2QJ9dNbPx0d1DPm4wj0kZ48gP/0PO8kEzDcwaqYGLDweFYMrdQ90C1oE43YYooJt6tASOrcuwKNTOT81hgpZTV3jm3SGDDjGclOr29ApjcdoVSbeBAAAAL0GepkUVLCP/AAAX4pZ2KpABM1ApAcAVo7Oq38YrA3VzJsQoTq4MyI6AALld9wi5AAAAHAGexXRH/wAAJcNHHAOPiiH5WDrane2kQC/0UEEAAAAsAZ7Hakf/AAAOfkqOpa2igAtRGz1s32KYVzV/ieBrQsz3jjUPpgAoShTAZUAAAACAQZrMSahBbJlMCGf//p4QAABJZT3QccAOb0FlIo4fKzSrsh+tVCasryOzNO76cHKBoh5+cX4iJVThLlZvaF6/Kzkwx1ebK2X/sHIWVaE4kOz22Ok5rj9v32hseObS4ngZgReXNtc5v5ZPUx8AZ5yNSl90JhRYIetvzriY2WmUDiwAAAA0QZ7qRRUsI/8AABfpkLb0yNlmEhgMWiG81IpdAACaupVYjhJKTciNJRAqNxI6MAd4OGlVQQAAAD8Bnwl0R/8AAAWIUliQhNFuJJUmGGMN48MY+k1VTIf+HaAEyZ+Pa7+nIGGpDHsRSVlngJEn18QmAAhMPJnuQyoAAAAiAZ8Lakf/AAAlvx+MN40d5GraS1SgW2CxLj6gfOAAaXgvIAAAAGFBmxBJqEFsmUwIZ//+nhAAAElwh+7gDOGjdxv9W57AA3UB6mrr73IYJLkqelSs9+2YUPqbB20M365dgw/jKrjw1QjShC5JglWQgq6zIgQE87aKkInQyjlQkS0UGj2EdL+BAAAAMkGfLkUVLCP/AAAX4p9PWQ0SgyuYitXFVR8SjDe6miyBxGE2AVxYIo6ZphhQA8SEVFTBAAAAJQGfTXRH/wAAJcNHCHCXNPyXSJxnBlMgo+ks/w8Glmsadwp8BO0AAAAyAZ9Pakf/AAAOg/Ie/IKVSLJA3r7085ZPM7QWm+AEyex0gRRd3021+HQEA0QCxybwTcAAAABYQZtUSahBbJlMCGf//p4QAABJSW1gAsPrwWfu5nzrq4Tx+RTTIDHv+HUR+JuXthAWYItVvvR7n7c8m+NFHRpqZx6yVL9BTnwAX/zzRFFpjG6WR+tfXe12YwAAAEJBn3JFFSwj/wAAF+mQtLpDftSwATq+diErVARlyPnICqVhBel6pKopqY3N81zz5WOmGe//+EY+UD0nZYeAW/SDxjUAAAAkAZ+RdEf/AAAOfD6xIH9SBSfRO65PiNdSUqni8bS8RdAMxENGAAAAMwGfk2pH/wAAJb8dLBkTDdTR+vmJ+qdQXa2yAEzW6PI2D3kbr9r5hoFB6pZXgCQiyUD0gAAAAEFBm5hJqEFsmUwIZ//+nhAAAElFBe9XflKDEagUoqdL+ElQw6u7TBEAl+e3uk4s/h70YiwAykJ2eO5SlUmsWbUeQwAAAEJBn7ZFFSwj/wAAF+mObMLp5IoQm3U8EAwExCIQ0gvBlCHVb+Ipe82T56wfpBJMNbq2M+rmNiY/MStJrD7COZTAZ8AAAAAlAZ/VdEf/AAADAgrDj+4YPBKSk3O864qoOVZuBEKVgDDsvHBKwQAAAB0Bn9dqR/8AACWyJb7YP2y0RsVkYoMuqFpv4ljGgQAAAFBBm9xJqEFsmUwIZ//+nhAAAElrSUlsAFh9WqVac7l8mtjabY/joWjegcX52uUOJ71udcpQaifnJI8qPPuabH3Ol4QuybpzBz/XNLRSGlxy4AAAACdBn/pFFSwj/wAAF+mPihcndRNLsFU/Kr11kyJWd5HV0KAohu5yk4EAAAAfAZ4ZdEf/AAAFZFzhOgJCeh0nzXCXLFIXmACaWqGXcAAAABoBnhtqR/8AACW/HFj4YelDSlGONmFLwrIxVQAAAGlBmgBJqEFsmUwIZ//+nhAAAEllFbP44sAR71w+5TkP8n806/RcBA3hwVdemQbVNAHJ56543VgfeI4qZittmdCPOODpa/bd7p/r9dKfrPvA4FYiM1fOlhMVYbOBqZbk37Omr7ZGFp2XeEEAAAAiQZ4+RRUsI/8AABfimFWLydJd+1VDVbiA4FNu8DMujwbSmgAAAC8Bnl10R/8AACWfmw/sqUKCA4svDIzRHElkcFvdsDD+gBMs1Uf3w+10jwMSG+5ScAAAABoBnl9qR/8AACXHLACx9MgyqXopQz9F8lgf4QAAAEtBmkRJqEFsmUwIZ//+nhAAAEllQVIV2wTrgARB4eeQeIkL4wiLe/hAeDHyMpoabF+6ys3IigxUUkroZbfugydIu1Txeq90/BcKwrsAAAAqQZ5iRRUsI/8AABfin0xZAMrRgAS5Vr3+a6FBBBfT6+MdxRxPr6xO2lNBAAAAIAGegXRH/wAAJcNAsTNv6tYnq/mcidMUX3Ufq2cfzamgAAAAJwGeg2pH/wAADoP0tRm7UAFh6FP6sWE0NztWu4k3FTFD7KLEpbHXVwAAAGBBmohJqEFsmUwIZ//+nhAAAEtFBPc0xAFGZ+gfAmY6JmhxV/k2n4DYwZIIzQ9ZTTmpH7NXAMH6WUEYEbh+d073OPjjDAUvKh8wtWiKHB4j8wn+3zgbfNZvVv9/kveQ1CMAAAA5QZ6mRRUsI/8AABiCTweFRqibH1IywraogBbxcZA2/YKPFcXeb8QPy3ZcMBxajL6UJQSMvKH7xcpJAAAAMQGexXRH/wAAJqv4W3gjCgMUAnit/l/wGdNrAAtmMBQwwgfwuXoLQ+lVepAARbwPyk8AAAAtAZ7Hakf/AAAlvxxY96BTwLUAIqfpdLAHzYDnGSQVo9s575TwyvMaAApgBbU0AAAAOkGazEmoQWyZTAhn//6eEAAAS1SpRvjY36/xV6fdorQBGS6ptMrsZi0fgVmUNGjk51UDOawR7VkCPSAAAAA0QZ7qRRUsI/8AABiJg821GvP8cQAEUfWLeeWeYR8M+NVUl+VJBpS/guL3b3Fea93bVS/VgQAAACUBnwl0R/8AAAWFcnNQ+K7SdwF9KpSWQAIaz5z9P7JnsSS7gapBAAAAHQGfC2pH/wAAJr8EJ2Ht+GIYgmus2nE/LueXDfVgAAAAd0GbEEmoQWyZTAhn//6eEAAAS0UhAwnSx+wAVLTtjNgCO7d772cOvOdNQdW6kqzgO4VwU5his3HlnQHtSXMDl7sHQ+44UasE5dEKkQfQGAITcLYwuI5s05SWerR8QzbyHXTS3N9Nn9hHEZLY2uLKcbfQM8QnnuqBAAAANUGfLkUVLCP/AAAYiyBWrbVAC3eTkneo1/T8u0XIK7WHV6IpLCg/m92SF6nyy91nTwKrCMGBAAAALAGfTXRH/wAAJsMXdWia3wAWzl29x2R8t+LXwv698AC0xshhTxYzPeVWH7BBAAAAJwGfT2pH/wAAJrGl0oNbZvwAWzoU/I6EX8WC2l36qlJGKdWVSi6kgAAAAEVBm1RJqEFsmUwIZ//+nhAAAElJbWACwG4LR+FPQUxPXr7Pci6+fgf7I0CjkxiS8XqIKJeV+jrPvnLleLXJ0WNv6+QSueAAAAA1QZ9yRRUsI/8AABfimwDVSyYxfhlZ+8eeAkTrgfKrnYATLYy7J0sElqhQXmP/yty+G7wq2CEAAAAnAZ+RdEf/AAAlrD0izHMhatgAtCtPvp2uBGmD2Y+26vUviz5NOT6rAAAAHgGfk2pH/wAAAwIL8aznveIDJDxiscRG9CxTEM01eAAAAHtBm5hJqEFsmUwIZ//+nhAAAEuemEkYMAvFwzTXNUCafRGKSjJUJ18hrGYTDVzZGKg+OPr+0D5cpr8BwubqNxXl6CTN1JltQpUTAh9k5ITmvai7Bxj4NvTVpqMqtATarOZniIKkIImv4HNazPJXCdsKIGrlHmaWK5S1JEEAAAAwQZ+2RRUsI/8AABiAh7cQIl8rXoLACZYqmPLAQ/PmimxF8NfUrW3ApDM/HC6P4O6AAAAAIAGf1XRH/wAAJsMXdfxct79dxWYwvinL8Qc4NCULwcqBAAAAFgGf12pH/wAAJrHMCW+pb7IVtqV/zy8AAAA2QZvcSahBbJlMCGf//p4QAABLTmC9jtAEHpcLG5QN4GRx5wGiYyCIoBiNq3Oo0XB3D+airIuAAAAAF0Gf+kUVLCP/AAAYgn7qerCYKnC5oO3BAAAAEgGeGXRH/wAAJsMXdVFQ0STCTgAAABEBnhtqR/8AACW/G9j1svw+YQAAAFBBmgBJqEFsmUwIZ//+nhAAAEto8WBhrLVfF/Ck/LWjDc7JP+knnrTxm3VgAHFpcLPRnYoK0WsyjwW2Nm+7BxkAXckyXvmptVwzO4LIi7qZgQAAAC5Bnj5FFSwj/wAAGIJtzVAESDi7SB5EeM/NNDtVBG7/S9eXtPeG3OtxJwCnOzXgAAAAFwGeXXRH/wAAJsMCMT5nOY0UzPdue3/AAAAAKAGeX2pH/wAAJbIyReqiCgAW3V72NiWvLNbcuYXuzjj/rsRhaQr4j3EAAABFQZpESahBbJlMCGf//p4QAABLTlaHgMX/k/VT9bjx45rD57NkjQ6mTpb/JQrkNyQAqXcKqQe1P+1Ew82uWQlXOm5xMSPyAAAAIkGeYkUVLCP/AAAYiYPNtxXMrJlJPgdCisuHkC5SAIR1sqEAAAAVAZ6BdEf/AAADAAP3JNQAfIogWnBAAAAAHQGeg2pH/wAAJr8EJxLJaZq4VlMfKjt+L62NBI9xAAAAOEGaiEmoQWyZTAhn//6eEAAAS0UE9xxkqDyIAUkUH2mVOQdz13n/gBZxc8mTgC9ogz4zzd9qgzAtAAAAHUGepkUVLCP/AAAYgms3a4mCaKYwOJy9m4i88j3BAAAAFgGexXRH/wAAJrDG5cjkR6ZBhzn62fEAAAAYAZ7Hakf/AAADABxX6XJDizfrREtzePuEAAAAXkGazEmoQWyZTAhn//6eEAAAS2j4Q8rAB0ja03UBWaPnvcVuNqI8SpxO6EgZWExcVDpeEn4Z7kndICJWDw8slu4K0Ezbt6SBQOtTsORbWwvB5w7yFcr/JSrIpZLtX8AAAAAtQZ7qRRUsI/8AABiCazdrUW2ImQfYVZnEwgXPPXnilbHSkAwAohHREXSHJj3BAAAAHgGfCXRH/wAAJsMXaKmlVOrrmxyD8WvAg983XHx7gAAAABkBnwtqR/8AAAWJEJVLS1HKocltsNdSSBxwAAAAT0GbEEmoQWyZTAhn//6eEAAAS2jyc4AOkfcLSL/OUPbquxzmB5iXrOJi1PswOIbjHDW9A6p7XhtYifYuHvkz3DuVa/cGEgUzEXZkBkW7DDkAAAAxQZ8uRRUsI/8AABiJg823FcnZDggOcQUEJEds5RS3AkWACHv0Ry275eL82mO8CT9O4QAAABwBn010R/8AAAVkW3nr6NfkyQ9WBEQjeF5Kz+srAAAAGQGfT2pH/wAAJrHMDVQkSwycIQouiEf3feQAAACIQZtUSahBbJlMCGf//p4QAABLuPPgk49gCD4//4fJGO9mjnMOdVu4S+yDbk48Vm+PPvudEh4qEsvkeOmCZFJWNWBfi6fIKltfrY7nv3GLfcbwACMXtPcDPj17sN44+ZIyHvLmcH4MuAChlUfE9VaU9uqOpuFaVlu3j8tqD4dhtNxLLLrKuCkpVAAAACJBn3JFFSwj/wAAGI2WhYImyXbq73LonKYNpHq/jh6QLGypAAAAKgGfkXRH/wAAJsNCV7pFBGPO2AAK1UxI8RxTdHtKZ59u19oDKwKYdt/RrwAAABMBn5NqR/8AACa/BCvAcovUR1nAAAAALUGbmEmoQWyZTAhn//6eEAAAS0UFTLpwf7L8jfRK1OsFJr8QTn2YZnP1c9/CgQAAAC1Bn7ZFFSwj/wAAGImDzbcVzK5mFYAJw6aAOLgrrjDIRb5ZasaCOr8IwSIFhygAAAA0AZ/VdEf/AAAmyG7UgA43QOVfaDWiX6WmvGkgKrIvChyYnbxnBNvvLPUmSo7cmAqJ2n9bKwAAABQBn9dqR/8AACaxzAlvqW+zUIC7gQAAAHFBm9xJqEFsmUwIZ//+nhAAAEs2bo5KQbygC+2BTUlKtOnTdv26dao2vMn0J56JD3f1qiV93n81hsAjyssnVKF2AjjneULCJPklYntFqVCCpAwLH5iWRTdu1c9rbga6iiV1Vf3KsfChlAbNd8SG67wduAAAAEBBn/pFFSwj/wAAGImDzbcWg2Ohz6TcAUbsAB/OgbL7jTANozNFxASdh0F4Dqo9NWfmHpJl3ewQPK+iD1p1s9lRAAAAGQGeGXRH/wAAAwBLhi7RU55Mffyv/3afcIAAAAAsAZ4bakf/AAAmvwQnEslpmriusuABcMIeEqxTC37Cs2xoNQDid7hpA1c3GvEAAABQQZoASahBbJlMCGf//p4QAAADADc0obWkiXSEKcUASIYaZzd+yJbWqbNRUK4dvjm+/JOwo46JUk6Comn0jxbJrzLmyUfVFTWoIeOZZHsKQukAAAAhQZ4+RRUsI/8AAAMAL501JAGsT3O2Wfa/ennKaOs7uR5UAAAAGgGeXXRH/wAAAwBLhi7LvdtRGtEL2v9BkOyoAAAAIQGeX2pH/wAAAwBLY5ggjFB0AQhybQdKpXybOUvxb3Qc+QAAAD5BmkRJqEFsmUwIZ//+nhAAAEtFCdyAK0bd11L76lNlA//t18MAuYJdZL7twVFdvKeO5k7z7WWwHRaU93XRQwAAAClBnmJFFSwj/wAAGIKYVYrVkYAP50DZ+yyrJVqY19Inv4Nxxg6i1R0coQAAAB4BnoF0R/8AACasOQYgx8AC4YBcxAvoe9ICeGVQEXAAAAAdAZ6Dakf/AAAmxywAqsl7tZBhAbz2Fr6+i1AuHKEAAABcQZqISahBbJlMCGf//p4QAABLZVDsTYtwAsFKn7mz6fFQxSWghMmlInbptyuRynlectS7BUvBS8ssJyPaVfgM1zWaN6jVInoqKuc4+n0Ohz39xH24htb5wH4MWTEAAAAuQZ6mRRUsI/8AABhnMXFlvAEQLyYx0Z6HLXYt8YbTdsW41t/PHJPfgJXDru/HuQAAABEBnsV0R/8AACbDP7Hro/D0gQAAACgBnsdqR/8AACbHK/w4nmgALqAPfJ2x1OLdfgv6rdvjAofUoGQR8RjlAAAARUGazEmoQWyZTAhn//6eEAAAAwP53IfkACyFoVidY8ttnctxvw7JxHhWiq7wYTsPafAuGT/C9QruqL/nvgh6NX5YfIdp0AAAACRBnupFFSwj/wAAAwFQxDzbh4ghj6RjWBhmm7mwAC6luQpXNlEAAAASAZ8JdEf/AAADAhw0AQYb4LaAAAAAHQGfC2pH/wAAAwIce/g5h1tK3rIXVwj4+UVe5EsoAAAAN0GbEEmoQWyZTAhn//6eEAAAS2VRFXBWVhBX5SBdLRU7x7f7LYuf7x+E6Z80AG+/LjAaOH6CoIEAAAAmQZ8uRRUsI/8AABh0j6HsAjzwTAnh3AKijI30jbaACPkL/xox6PkAAAAbAZ9NdEf/AAAmlG4sIoJ6wxBTwPn47+jYLdxxAAAAFAGfT2pH/wAAJr8cWPhr7q0pwK+AAAAAT0GbVEmoQWyZTAhn//6eEAAAS1SpTnWEnwq2/iTXZy/JcGqsAOmI1AFV4aDX1o4sQ/FtPAmiE1k+DEcSz3ptpocHxCNh2IkfDmxwUWs4bm0AAAArQZ9yRRUsI/8AABiAiJBCEACdT9HcwtlSx7IL68yS/GT4KL4bTu0qQY3xwQAAACMBn5F0R/8AACafmw/sqUKCA8tHj3atWTJE3O+80VidgYrbKAAAABcBn5NqR/8AACbHK/w6cDezuYFHbc5+YAAAAERBm5hJqEFsmUwIX//+jLAAAExEL5LKjqMAOkeRDFStBjqDHkd7mdYIbEY5PzzFGVZi8Jo5rjUn8G3OB63RlVC3JwKekQAAABtBn7ZFFSwj/wAAGICIj/kczzDS6QVuqM25vzAAAAASAZ/VdEf/AAAmw0CxM9fTrY2fAAAAIwGf12pH/wAAJrIrBSdCoAWLLfMQL7ZvSAsxLPsT9CJpAhJxAAAAJ0Gb2UmoQWyZTAhH//3hAAADAANP5RPgDp2AAQeLsH11pcLWboCNgAAAAZlliIIAD//+92ifAptaQ3qA5JXFJdtPgf+rZ3B8j+kDAAADAAADAAAVt6RlhkJ0L/JiAAAFfACyBdhEhIBSxvCoEzBg5Xz+41ueV1RgHmh3N+aHlHK8kMnzNIk1mw6d+1MV0kRBgsd0YwS+K0ybbbHnbdc41BxWQPi8codBrCTaEjo6PpGe4F3vhodaJM+38kDzfT9IjTNdzR0F5mHy+o6doKgx4ER/A5n6cIhl6qe+hssaGBhABXUY9SwH9Hiquv/luErwtDP0hDgpAll/XvHjF+VlnZ77wZt//7o6KoYKuJfjQufz78acVwxMmm7zSLVO8FiI1L7e4rpdJTK5RX8UItl9Ki8tdhN5Lrq/FOQgPlgXozP65kWV7m4Vn/U0Rx189uJxFcuDOOJqLe5aJSwRwVdGgLrhRjWSVxx4y+b15em3wb3SLEkXP1amwrug6XFjpAHicFCInNbABKap+Jk4SCxH8KvuAcKTS9uPFVbEOfW8woaE4BygS+X2BUW5wbzbbLisECYZ7gZTMg55OAVkKEAAAAMAAAT1AAAAikGaJGxDP/6eEAAAS3RxuVQuAHHt2rKRdplUAXWu4uxkJQ/yEgbTYQWz459KrnVOvWYg66QF8zm68cscR7fM8rHVqit+VATwtqSRFvUCsRi/CaDMTF+P8/XoqvJOssRg2V5SbqkN8Gtb49+1/2d2C0hvON6mVx9D2ea/SPG4DMpFOpjTvXq23ULWCAAAADlBnkJ4hH8AABh4SPJxAA43ck1edrsL5ba6MDXQ2oyNLwj9496Vwok5N/2zer4UrUWHx0WH0gPr2qEAAAAcAZ5hdEf/AAAn3koxTwxl2LJYjIRD8dP70SWncQAAACYBnmNqR/8AACfkBJsn4mOKNLEAyhazHySbp67YBKm41ofY0OB7gAAAAF9BmmhJqEFomUwIZ//+nhAAAE1FBPccYb/aC5WnuU06q2AATjy/UETpnzDcHmcgVj42XuD6mi0AcFZWckgEE005icRlsCE4VkVZxkNnTjsMQb31A6w8Pg9BgQ8vHg1LYAAAACpBnoZFESwj/wAAGSvkqwfkT4PJNfK6f777tbP/ep1lv53mvFoJEdq+y4EAAAAmAZ6ldEf/AAAnwt/TKE0mPgAWojcIo0axARqzdgXm0LlO2BRE+1QAAAApAZ6nakf/AAAnyTA+ZX4AIyL0/7lqyI2RqjL2yf/FfF1GfCrzSSQqDukAAABOQZqsSahBbJlMCGf//p4QAABLjfI6cgCJfvLuw2KcXYzYoA/hJeOFs8zOdKAZXF68AqaJ/cdZxwxoLlFFX/Ot/NZ0MApsMPbVwOroyhJAAAAAH0GeykUVLCP/AAAYdyT+jxhsp5fuH/+UZCAr2mcCA20AAAAbAZ7pdEf/AAAmw0AS4OigjHS7TNuDCCtZ0G2BAAAAEQGe62pH/wAAJsfHFGSg1p6RAAAAc0Ga8EmoQWyZTAhn//6eEAAATVTCHAkAcU8Bj4S034NAbPqVqezpxcPlg/tkofs+idUWOgfaF4fwZ/wZSoFDwLllmUyFV+bGVONGiZIBi55QHvFAFpf3B8MPkH/tJ0qbv8Bjc17x3sRMyHcF1Sr/tNqy9IEAAAAkQZ8ORRUsI/8AABkiU4vcgYiiixEFT13Tdsxcqi4GiUp2njlwAAAALwGfLXRH/wAAJ8gLM5gckAG5mnlRqykaQlrM975r887HFBki+Rtssa95Pro2ilDbAAAAJQGfL2pH/wAAJ9LWSVsn0ADiw6cd2hywsgns2JqH5iF041qrZz8AAABkQZs0SahBbJlMCGf//p4QAABNUT6eCmyNHTQGNp9LffjDQdNFtUUNMniwRpBo/qqI7s+UcbVlWAcvEAGWKzIOeyc4aoxDyQxHetEh7w4GHU2sc0xBJb0r14KDimd/boRXwoIHigAAAChBn1JFFSwj/wAAGSJrN2taXriii971ihEISNQbzUkBJW7+bsDvyfOXAAAAKwGfcXRH/wAAJ9404YPnxDH7G+JGnIrAAtCtQAWFAu+03lT1+pHIlWGaNsEAAAAZAZ9zakf/AAADAE1+NZ5wbgbBo8HLYEq1QQAAAF5Bm3hJqEFsmUwIZ//+nhAAAE2WglAhgF5cpc+6c41HzeC0Wsr7+rn9IT2JivVn1FmWJq7zD/ZUCKCYaVpFIxHRZF7O06LR+SH4Ui59RP6eLgm8UC5JsLBfr5XCu9zRAAAAMEGflkUVLCP/AAAZIms3a1peXT7AAJq6isD0q4sFy0cCRaPlRzVs4wJu06OGsOGOXAAAAB4Bn7V0R/8AACfeX2ippVPVEhKo6rU5mcKAJNNJjrAAAAAoAZ+3akf/AAADAhscwJb4TYAABbxK1yxaCJrmKAIovBl7y0JFBvxe1QAAAEBBm7xJqEFsmUwIZ//+nhAAAE2ek9I6APzaFf+AFUFc8JGcdzrz5LEyDAUTppPDM7bnCSYKe5YXtQC+eSJUY/Y4AAAAH0Gf2kUVLCP/AAAZKYPNtxXMrJlJPgdCisuHnv/UcdYAAAAOAZ/5dEf/AAADAAADAakAAAAhAZ/7akf/AAAn0tcIgiY8P3oa2q3Mes6mZTZb49qp3mnAAAAAPUGb4EmoQWyZTAhn//6eEAAATVEJ1cAuSA56Yh7NvD2tZL9FiYxky07R8S+QiC8k0g9GRRlEfer+KQ3h4EEAAAAiQZ4eRRUsI/8AABkp3XgBunON1BmVkUomyHtHiwh2guO7MQAAABQBnj10R/8AACfkzh2CGhyaecU6vgAAABkBnj9qR/8AACfkB05HCn+nHMQbBiAOIs/NAAAAS0GaJEmoQWyZTAhn//6eEAAATWjxYmtRRPLAKAFIkaNGR+wjJx0/o/PhhWaGBPPeV7bxN/Lz8v0GD65t6ORYylUoRUhsKD9kqorCEAAAADBBnkJFFSwj/wAAGSmDzR5fQAxEXzm9np/rXOi12b/+yiDhi5wjjnnZy9w1AiBPBtkAAAAmAZ5hdEf/AAADAM4hUOmEDABaM+dVt5dFBfC73nIfj17JqrPpmxcAAAAgAZ5jakf/AAAn19hsPK8qAC2/dvkQtqxCToX05CRKASsAAAAyQZpoSahBbJlMCGf//p4QAABNcHpUjmJVDhVV+Qb5ETD/e8bdwj9bNcV0yqEgB8nEY1AAAAAfQZ6GRRUsI/8AABkpg86Jw5Upxm1Gfxr2zmQ+uO3jTwAAACgBnqV0R/8AAA58Upp1V/1h15VABZxN76+m8iOiw9/HMOVXeg4TbHWAAAAAEQGep2pH/wAAJ9mEuf98ADUhAAAAUEGarEmoQWyZTAhn//6eEAAAHR/kQQMlLgrQlUQsSNIFpJNd0uli1sW2cda76psydKx88K+gRsPDw9IQZVpbsqJyCIQmdEj/o0LaCnLQfJxRAAAAHUGeykUVLCP/AAAJa/rnG80vXFFB6FV45pEulHWBAAAAKQGe6XRH/wAADtQ+02EKcvIpw5PABaiNwiqBMKgwvGlpum+0OUkOdHWBAAAADgGe62pH/wAAAwAAAwGpAAAAbEGa8EmoQWyZTAhn//6eEAAATZaCSazgEvqW/S6OQ6zabl0K/zpYFkA8KGBEKEvQ+ZU6MWjx6OPnHwdI/pd/p/fqwaqBUHgusHSc6w5xHvsAp/xsQzuiVvGdsgTX9AseQjaq37QA1HlDGEP0IQAAADVBnw5FFSwj/wAAGSjMakAOO89R/yeJNvLLD0Kx6wrn4SE4wqeCHvmhU6/aiJ7ifPRPDdn1gAAAAC0Bny10R/8AACfbVyYoVsmrsk+z1qbIoASoVWZQfQDOqhSuA9AazOEa019g04AAAAAcAZ8vakf/AAAn42Z3DFhLdCakvmQAmlm4RUJwGQAAAHNBmzRJqEFsmUwIZ//+nhAAAE1FBeCCzoS7fdwuxbDYeHHYW+npAQSB0Pl0c5o/yemgArnOF5/ABjXovYb6PGamvIms4IF44sq/QX2nx4PknPrkkfxegXkmjtYe5mRrz3A+D06tPRxeMGCUstsbvLpDmH6gAAAAKEGfUkUVLCP/AAAZIms3a1peuKKDwjC5xaoCUAJKyQTjUQg1XJ48PtwAAABDAZ9xdEf/AAAnOtqDtSADiw0ozX2RD6S3W5UXVvQrHQURaGQNH9fkaQ4+q51Tve3CjU756cjfYT/zf7x9fzq82MltwQAAADEBn3NqR/8AACev2d6lQgA4n8dTc7aEQ/aqaKczzGn6Yny3x/MrycikXW46Yx59YrVBAAAAVkGbeEmoQWyZTAhn//6eEAAATVSpTn0pFoB+zESHqI6bXkISSN5MmtkISwiktWKNpM3EoqDLfG3B3ozStK8CgoHByeSedltU64pn3tnzwcJlzbQiVppBAAAAIUGflkUVLCP/AAAZIphVis5AAU8opavrlJOEALBtKRYXTgAAACgBn7V0R/8AACeuZrfJgBuZga5m/GzgHED3k5sXusX0N9TYNdB83T5gAAAAGgGft2pH/wAAAwBNfghOJaQR5xQA1GTlDutVAAAAX0GbvEmoQWyZTAhn//6eEAAATTb8TZHLlhAA5rk1QSwP2ObkgZSIUo71Jp5o+y/HnCoDw1M4nFex+5E87GCvoAtz1QMlhs9Lk3BqljMTWJWcPTjAIC6xVKKlVQ9/VXzAAAAAG0Gf2kUVLCP/AAAZKMrQhLlxnBkIS6x2LlEvzAAAABYBn/l0R/8AACfCuO2dKhM4mSaOvizhAAAAFAGf+2pH/wAAJ9mPkDSU5mkqYFowAAAATkGb4EmoQWyZTAhn//6eEAAATUVS1ABzXtsRqPpgbt8D9Vnaz/bWAumvP/dQNGhTr5cszH9BIQqeMaxQJYz/Jb1nJNYMNRPcb2WbM4dlvwAAADBBnh5FFSwj/wAAGSJ/Y8kSlVZYE8evlQAegWhQv1ev0TuJz5tKKJ+bViZc4wO7cjEAAAAjAZ49dEf/AAAnwpNNmDQ5VTgACxZ3D3fT7G+enSYyfdYEBRQAAAApAZ4/akf/AAAmvxtG77oeyG392A63EAEx58NW7oeriLr7sSttM1+z+LEAAABFQZokSahBbJlMCGf//p4QAABNRQg0AKu33nFHVcXC5sVxHlQdlqkku2AEDZEMwxpKIXxk3jg8DrNMooFBqCjX4JaOk/GAAAAAL0GeQkUVLCP/AAAZIoQIPfWYV5CTYq3Ua1NRi+aABD5+OZrTc6aB6rdLTe7VRHtxAAAAKAGeYXRH/wAAJ8KTTaktk62AAsWW/rWD7//P55vjtq9gQirLhLRoyoEAAAAkAZ5jakf/AAAmvx/cRBaPVwIQ5UKWI/wAewrjf1LOT3U2e+LAAAAAOUGaaEmoQWyZTAhn//6eEAAATUUF71d96+r73ZS4hrSUsHjBBim+AjQfnr46ecDAENxF3lJo5OkevAAAAB1BnoZFFSwj/wAAGSKEBUYlKqywMcYLaU+An79lgQAAABwBnqV0R/8AACfCk02pLQzuIOG59kV8xdHFjksCAAAADwGep2pH/wAAJr8b2ABmQQAAAFFBmqxJqEFsmUwIZ//+nhAAAE9sBWr3pdw1KABsYzUfpyDBGrKIe67My2qYnKueS70oGxexZGAMUSRFBhGgpHQH+8UU5za9LHGJ/ptdNBUdgxAAAAAmQZ7KRRUsI/8AABl/u8uCBYR47mlQA3HCj0L9CYeFxyhJjdBO1gUAAAApAZ7pdEf/AAAo4pLEXsy3F0+EwnABaM+BO/IXtd4H2NBVNmGYvzMIQ00AAAASAZ7rakf/AAAo+YSCxKTVABnxAAAATUGa8EmoQWyZTAhn//6eEAAAT3vnvhGwFgpZZV93vbFX7ezVpABeu76HLQmu2VTjp9tTFdpLOnuSecTWpdboG65IkGbjrd4Wp9GwBCehAAAAIkGfDkUVLCP/AAAZwIgBJKlQPWX0Gc7rwvVc3XKgXF1wae4AAAAxAZ8tdEf/AAAmrELes39v1nyNcg50eb9gAA6FL3X1sb6bPEltxM87ex5D/eXUAlccIAAAABYBny9qR/8AACj5hILEpITyQYCPEoE3AAAAUkGbNEmoQWyZTAhn//6eEAAAT3vnx/HXWADoG8Lzn95OCYbV+IMX0rVTP/sq6c5Z2fWyRCQ4bKQRGzKmi2ZjljKX1SFTnD/5jt9jyMnQcnmAaHgAAAArQZ9SRRUsI/8AABnJg8UcEGBHlcxahRDtZgCM00QO6NG3ixjLCv2TbBWbAgAAABwBn3F0R/8AACasPKG6q/6wdE6UClJ+GGmRf8cJAAAAJgGfc2pH/wAAKOl/jQIshxJiADjdCn5HDaAmLBbU7g0SriXneCM/AAAAVkGbeEmoQWyZTAhn//6eEAAAT3vnq1/iCJSMQtAYHpM/A6pesvMKv5PoAHSPuFo5HVYxVajPmlag0ieK3f+exMx1hRVE2s95+PILBSNB25vBA6LA+5iBAAAAJkGflkUVLCP/AAAZyX0t+Q8Z66XfE8PO6/1xaiFKbU/Pu423M2BAAAAAHAGftXRH/wAAJ8KTX5FKkju23sLuMmy5YIug2PAAAAAcAZ+3akf/AAAo6b3sKmvQjcnI++qsOU15QlcaMQAAAD9Bm7xJqEFsmUwIZ//+nhAAAE+BaKcEbsRKDY7WIewLsd3CEcTIFMI6Q5AFwY61TzPLsZW2QIxksDmrqcQEtggAAAAmQZ/aRRUsI/8AABnCfs2Tjp+rFcR+RElhCGTjTMpHlpjJMZko9Y8AAAAzAZ/5dEf/AAAo4pLEbi5gASKHxG75vlh7rSiVnFSia2iKzdR3y7ImQfQYpv3Jb0dBjdlhAAAAKgGf+2pH/wAAJ8mnwAEBZBMT7qEAC6ADVodQe8eZfQTLXmjGUdoWGQRpgAAAAD1Bm+BJqEFsmUwIZ//+nhAAAE9756tf4giUjELaNQwALIJ8LXlTEWSNTGg48HqwCrfkr5xvJsvy856COMeFAAAALUGeHkUVLCP/AAAZyMqUYxYeSWAKwV85vZ6vFS72BZaWiJxROBUXQtaCLzLAgQAAABoBnj10R/8AACjwt6Se9rqWTXpmBKx8FZhCbgAAACgBnj9qR/8AACjpf4zzjjEwRWsve4TQnEUriAC3iVnvrlZM24IVL4NNAAAAVEGaJEmoQWyZTAhn//6eEAAAT5kZY7CeIvgEnNrVADjbR/FjCJAmG7fuKKnarmYwwLV4e5zMFMUyjmVD69EnJosYunSoT16ep0bCAAB75jzO95Op8gAAADRBnkJFFSwj/wAAGcjKfhGBpkSxSw4fyV6LQvWM945MAD3xP+jCvGmkx3JwFiV4+3BdR7AhAAAAKAGeYXRH/wAAKPC3wqkcOoc3iwnRFsAFp/b31NCLMWz2CubbtxmgwYEAAAA3AZ5jakf/AAAo+epw4LZhVMuiBAAugBf9XxCVA8Hq0sSbOQBkS6dqqmgXNnvxc6cpi0+xgz8cIAAAAGNBmmhJqEFsmUwIX//+jLAAAFBULiPLqB8h9KGAA1rZxbuKRzAnTtbUgpDuKwI6NssXSjzUpLqith1qHZAABZMKZFn/0fshK9QRTvCsZ9RYEsGf6+2nNnNQkhoOkPiepIzI5YAAAABFQZ6GRRUsI/8AABnAh7cECmETTboDhFxijAB+Hkon6S9DcX7X3UI8PMDjQkU3bzyWm8+P5x9NkfHY+VnT342A/jMHUzstAAAAMAGepXRH/wAAKOKSxF7JqPhgAF1ErVj0l/2wZfU71XuhPO/ZsQS2uKPQgalg0XQH3AAAAD0BnqdqR/8AACfJp8TGJAAC6gCP6bjRG5oPagDapGHEx6t3XruXdsmBWmQItkGDBz1uPWRYrcmf7l755u7LAAAAW0GarEmoQWyZTAhf//6MsAAAUCrKjMY+AAJpMtxWB3xvNctrxWnx2koS8HIjJmivE7c22nLMn6sPr3lQYL8Kx3BnaqbNr0JmSTLHjMVBRp8z7TY8DD8gRlQAKhAAAABIQZ7KRRUsI/8AABnAiZNKYFcg1kH64XxYadxagF1RwM1IhRV/UwyS7gWmnYlgaWFekxtohtX1oB7iN2eU9Ijf/35QuO/PVHHhAAAAHQGe6XRH/wAAKOMvbeAfhrvNg6WmyEGv5+HkCH3BAAAASQGe62pH/wAAKOp89t/+b4AF1Et/1hp5b5efAjr1xLMqZ1IvC8CuIGBvbJRkZOzyTuo1ZvFYi1Fs1xj3NNlECsourcf5lTHz2wMAAABtQZruSahBbJlMFEwz//6eEAAAT2zg6AAjA3gtIioWq2MZD+TM0H8Lq8qWf/FJS+3KrXfVipJ7IdJ6mdrphO74Pj6Dx6FVowbI//8CQsHLdzCC8Fg48pDJgjYuooJS94XCDKr9KSEEjfq3uW03oQAAADMBnw1qR/8AACjqfZBseSHAAugA1aUsniWxAbmhI+3xQtJDGejtaG0Ecg0nN5bp48FUakAAAACOQZsSSeEKUmUwIZ/+nhAAAE97r1TkARMeqAfcwriTcJnBOR2R6Jit7CO7iZa688J4zr08N0IzSYP0cZ11SoGRKR7ZZOcVJChC+W+w+poPcpPOtncP1T9uztqpyQV14oTWBZAxkVFXxbgD9cw2ezQWtrPqkUsM56ZJWzt/LxIOFhdbvb0KwCSAQuPrSuWIwAAAADpBnzBFNEwj/wAAGcjLPcC5htVJcJPYGr+qSmXDFlUhBPk7jVby3+qMd01v7XMVw95KTAsymBCG+hY9AAAAOwGfT3RH/wAAKOMvbeAfhrzctRQAWojZ62u9ilodAlXblvyJ/fHZBQT/juXmTjfgpYviwPSaHQRtmUz4AAAAOAGfUWpH/wAAKPeqkdLZP0IAJYp+dmrf9tQ2YatURQD3ISZgijTriLF4Bx4O4hHEleIliaSxOcGAAAAAfkGbVkmoQWiZTAhf//6MsAAAUmmQztRGzwCIBNfQI2cVgZNaUAiITUz5xcCl81c3G++hOsHhklVn5ZW6N4SFIFRXVF7aw1oBcK/vMT6tR9TL23/9ZWYuIt8eLuWN/BSsUE3Tp0tBpEbGfYOoM8aDIHfsGYYl/g/OCRWCy1MnOQAAADxBn3RFESwj/wAAGl/sRcwEoq5l4rz2HPYrN1u5fyfME/mkqlBxnlHp/npqyYS62n07kKZffLPoLfusU28AAAAtAZ+TdEf/AAAqHiTodbmlmK0rtcbDOmOB8M1wXLPEVetVgmXPpgVfOWssv1whAAAANQGflWpH/wAAKgVSw+mQcGXQ07BE0YqftVj9pI0PK8I0YuH8zwATi83CJynhft2cdc8FZFWwAAAAdEGbmkmoQWyZTAhf//6MsAAAUmrJ0IPkD/sLN6ncquARlkDZkF4IklpkPy71hqNYsObaK0n7vtGI3nNfgjA/0zjdupecyawJAsk65CrPwHhoB2vzYUSR6snJ8ZbHB4IxadQ3ABxaUboQYDon8fLjrtUvUAtMAAAARkGfuEUVLCP/AAAaYIf7d+ZInHzN0lgVJbVV0Eif0xquS13KYvJM0X40t9KlpT7Cvy5wATMzsSwSw+3PmLlINLpGZyRSKwMAAAA0AZ/XdEf/AAAqHknUQlwPWkjpXtkY6s8ktdp2Ak5RGzX7dWBq4uyMTMFoTes8SQR/PBF2fAAAADEBn9lqR/8AACj33FOntdiceeut78tUoV6L0ssSaZf7MOapVxbgkhPqbmFIM3oK0VcoAAAATEGb3kmoQWyZTAhf//6MsAAAUoK6Zjirq/34+rnY63SqRXEK5pk1bb39X/6rugJXES1GFbtKK+lrOzx6XUSPw/lxwAC6oUSZZpPPx4cAAABIQZ/8RRUsI/8AABpf6+i461YGSShihDhzmwGJ9HSxgvIjuZbmlFFxvwAAjL1ymaGKc7gFduGqBtcyS5gAst/G4EsjkGU+YldwAAAANAGeG3RH/wAAKgBY3mdmqHWG2brlQgPoAVkXtDUNLr/jLzQRx2UyM1aYcYwwV/wTQJjgcOEAAAAvAZ4dakf/AAAqBVPTfZYCdQDYzkI9jsmWsz27ZsED4q/GHhCm1tZhbbQBYYUqe7kAAABjQZoASahBbJlMFEwv//6MsAAAUmrKfptceu04aftvX+fgALD6lCYM7SVJpiqNwQTR1HzyehVuKFn7sHVScd9ODbqcdl6T3ke58DV9yD9ycySCPxo+k8v4pQbUASfzWTYe/FDAAAAAQwGeP2pH/wAAKgVUFD4bZ/hzRAQERDgMFH0ry6qPqd2i7Rft2wbuq2oUWHGCnwAQxhPaDUBPJ5qN5NX1a7D7hLIujLkAAABkQZoiSeEKUmUwUsM//p4QAABRrAXpE7ZfU3oLqUAkGyL1BaNZ3YWoaALj7w+ENHUmU4hualz3IJggFhCvqqhr3kJgOV+O36ApPsKZY8Cwo4TG+pTnV4p3+63aqoMq2iSXeXvcwAAAADYBnkFqR/8AACoFVYXUa/RsgZ9PRR9xvQxDl7OZQPz6sreFYNuRb6Fj2a1CsO6cMfB9Qh2IJ1kAAABkQZpGSeEOiZTAhn/+nhAAAFPrV11R4DILSUsXjkgLfQV7RJn6g0eNZ7UF3rBXZjjNpw/uP/wqXpFcDNE3mAAODzheechTlHiqFD/XyB9pkUzA4pxBcABi1wh7tNtYoo5xMRcEEQAAAExBnmRFFTwj/wAAGwl8w2An00WNfpJAgQf5azSEiB0214T1wk4Rt8iLn9b2cIgAE6wgRQWy0BbufBmhQZ/mTLhkbbvJRlZ2HTKTedlwAAAAKQGeg3RH/wAAKhtXxuWtzPbNs1/lUU9Y03XGCsGEQB1Sz4Jn5zrXlIm9AAAAMgGehWpH/wAAKzluOKxVMJRMgbWJ1mkSplNbGS4NiGPxJvdM3qq4gEU09SfwK8PEIoG5AAAAYkGaikmoQWiZTAhf//6MsAAAVLzxGNzFOF/sYcWQanRgA44RAqCgAIzXJRFprfUyMAouBI9+o9eutNIrREN1di5F/s2WLfzXUqVZhfnA/vTSdftHX6+45grVsIMBPKmqM0/9AAAAPUGeqEURLCP/AAAbCJtN9QxtIjps99fFVZaeHDS9xU+CZoZAse7nZca0u7S6NKVX8oirjT5ocAlt4OOi1ukAAAAzAZ7HdEf/AAArO1cmJrdXEulO55zi0RrDu/0Tu+xlPgE7NF3lsdTkyiQ/xq76evMlAnWAAAAARAGeyWpH/wAAKyVTyzngzqOxihNmcJavDN2uu5+NOB6vv1yT1YQLniv+R9J4Y4NASpbW9wATti/NcjMxfpmD9PmdRW2BAAAAUEGazkmoQWyZTAhf//6MsAAAVRWCLShLXITaMFnrsGEvyA85vAbaCckQRzFud4y5BCs7BWZWKNVy95mHiZ8ftHG4qUAGsvuyWz3F8OaJ08K5AAAAUUGe7EUVLCP/AAAa/+vphgp8YYE0kfAAF1J7GvAbnJgPHWdf2Gb0VrFdt/XvF3w+x7ZDZxl3+MT+rBGwDb6jPMHmtOoIjm6VoFk8vpgoMgXVtQAAADgBnwt0R/8AACsfnpLu+/JuU9sPdXfHl09R8QNtWs4c16htii2CdlDpj1wnjglmDr2S8YbVJ5yraQAAAC8Bnw1qR/8AACslVBAeZiG2Ir/ReGS4dbx/dOKvBVnZLq87xroACy0iHY42LVIraAAAAGNBmxBJqEFsmUwUTDP//p4QAABT6wqyh4YRskAII+poiH8bcGAsro0v3SkYuVN5xsB3RjX2UKf6OVQEH+t5ZsYJxM2+XzQ5WEd2Z0NlaQhntmb8Ku1w207NtG5wVYYTZRjUG4AAAABKAZ8vakf/AAArN0lcvYXZ6zfeUlRXpGHLUT2vo3asHGCkoEFR3CMJb6okn99qgJOUAEPuagHbK/oLJmvMw62JZv7URqQfgjxUDtsAAAB8QZs0SeEKUmUwIX/+jLAAAFbqMjiYfBkAX+2bloU3GIHzJJxxkGl2fwjuJ0cCEUDrC2DvauNbWPj/cgZ3X/p23Bor9XyeHmCHK9Pz9C/uCHcBGds/ViP843lP9D7X9W0iOQeH56prNd4svAWZTQKWSen8ihdLZ8AHdDoFQAAAADhBn1JFNEwj/wAAG59D6NMAy/8vg2MX9Pmk3UFqxXeMtRfI2KRdxiDUKNggOeuGnv3yIKiedALdjwAAADgBn3F0R/8AACxeSY8SZgqIeKL2TvEr1RQ/iDqVTPn5yFsF7+IsfNPxa4DI9mk9oMXgZxL1XdE4QQAAADIBn3NqR/8AACxEGTJw+n1tyWItADxqoXh+btowuJ6H3E7RCFe2Ugs97zsgzZtWy/8nCQAAAFdBm3dJqEFomUwIZ//+nhAAAFYreJnz8Hn1pugAl8qL0ThBqpjr1gZBybvn1Jjootp144ai+Vgoqj6UY1Zeyw2/8lAREKJxT21XDcg1UGVvgmqXoXe+jRMAAABAQZ+VRREsI/8AABuom3XXGL5VZP34nIHriVj1BnSjm+3dqvIoMuRAtKDyAAg918pBZkKfIiC+sVfnGssPAfwMsAAAADUBn7ZqR/8AACxEGTJw+n0vq8umdU2OnrAuu2UGp4rmHm10ZVZMlCInjzcMFzrOuOCFrSxvMAAAAHlBm7tJqEFsmUwIZ//+nhAAAFYrjDaAAcWlwwHSJyaU+xeiViWkUSPkbM9trQIOmphMeQ+znG1l5guPROBqtGpta0Yl6i+7F7UwRn4dXBC6flDc6BxsqJOZ8a8Wl2qOuzBGiFT8I3wvxBByafxihe3OQUkYmYIgSyA5AAAAQ0Gf2UUVLCP/AAAbqGMnF17VZFmZ5yWFOlufuRnYQDJfliPENnokyotn/CcHrHmYtrgA9uu/zJlwLTk7f0bCJDf96rAAAABAAZ/4dEf/AAAsUEQeECHFddlnd5HaM0RlkLJSXm/LXy6UpJJpmT4m/mZtOMAE0w4BrKfw5+k3aR8k7oQf7Hg3mAAAADwBn/pqR/8AACxXM4IAWYKlegu+ItLfNCovvQ2/+uFA4XdCZIRR8bkACcM/LNXJLZTtbxh7GFdtsBVxqqsAAABuQZv/SahBbJlMCGf//p4QAABYa58Z9YomRYAhI1k2egTgHiOBVfEC6KlVt0HYJjaVtOAUkODvTe4ZrNIib1Gp+vD0OgDJxNJZAWbEudnd8FJz32gIfnfOPaajM1hPhWzEPpkv6d8mXu57perF4OgAAABIQZ4dRRUsI/8AABxW946VjPunZ5LFOu/Fbkg+SnYieXP8eBWIrwAEbobtA9deW+HfNOtoAVPCxESwZ3QsPJUn8NPOibVvFOBhAAAAQAGePHRH/wAALXqdjWG0KkgArlEAvRUyKgv798vWTtawtReoELRvyaG7rzNB+hnGdaOlUlNCs/2U3bHWhoPyQecAAAAzAZ4+akf/AAAtZBkycN88T9e7RcBswCZxVrRJydmAAg7PfvUcmE6T01kwOeQKnMQuPqtgAAAAW0GaI0moQWyZTAhn//6eEAAAWGufK3K3lB7qaYBAtIjSSlQABSAHeyXTT23SfLlJxlB5qQvEkBGXIUHWlqXsZBrd5TAxyXDVXYc3rOBRIW7zBpHmuma4OXOd8YEAAABEQZ5BRRUsI/8AABxW94dIVaruFld0XEAL9uPvOwg3kscs+Rd5W1Ho+rCHN7OoSZ+yJzHkoxvD+onvbEGAQOFCnu1WrUAAAABJAZ5gdEf/AAAtep0YzwfC2xTMFL7mZMYEOU3qRSlBK0iWzIvTvpXCRTv8CW0ACdYbzWT8rs9/Et0Eobi8qrX/FnxCjSdI9MVq2QAAAC8BnmJqR/8AAC1Hp36zAAGrGo4IIYIXLMs1T83j/QmMkLqXYHuqFx82NZQGUnM9IQAAAFZBmmdJqEFsmUwIX//+jLAAAFtqYjzVIqx9FeuPyb8AAzcqJsPOSQzCpyyxQnfTQnaZleUg3z2lXw+hvSJQiJiOKdunKWXbFWgrv76rmdvZv1+GSeUeEAAAADhBnoVFFSwj/wAAHPx9qhaLkcL+8R6+lhLNkA9IpqfHRCjMSsYHI1+MhtUVTrx4Vg7kx/mfcPHSCAAAAC0BnqR0R/8AAC6eM92ZqkheRnyAe/5ZHxGZCGgphwEXWL2S/CTKsoPyT2kqFbEAAAAlAZ6makf/AAAuhBmXyQhg7PgHmmS4vuC3dAnGK/XbN+i1rWoFOAAAAHRBmqtJqEFsmUwIX//+jLAAAFuT0/XOvSiABxiGCxDtz+PbwEmXnjk35WA/9rMzhG3A9ClRLC3fsW4Bx7mADTigGf+2JVRb+YSbSalUU3OzeQQanUtt1CWfiDODdK604vvRTV0ufj7+cQQJJBuRzpHfXi6wGQAAAC5BnslFFSwj/wAAHPNgqz05M8SM74qD7npH5v7V1yOtbgThr8ACxQHMm057X9LgAAAAIAGe6HRH/wAALn+eku7skJf6FHIC4hC3N4FtEdYFtMirAAAAOQGe6mpH/wAALoQX7FSyG/x54HKqSgsYc2HuhdhACS/J2mV8sQYWh+kxnLxdU6hUQx8nVpHo3N0apwAAAFhBmu9JqEFsmUwIX//+jLAAAF2qYobgDOFcI2T4xOayfZWVQJy/BCj+JddhtvLNVR/oqFF50zXWPrDDwEGRBWtXDPpfZ8NDuZsVfj9+0/ty9rZeDBogoa+bAAAAP0GfDUUVLCP/AAAduHH822Kcq1X0k1KGVdBeViNG0QAdIuNN4RULJ8+elegmm3AERfVQlV9ryURB3mZPiCbNwQAAADQBnyx0R/8AAC5/nqCjIUnIa5LkSgxAMsAFz+7f3nVNAjWKHz+ygp7UQAspnNXqMQH8+mbgAAAAKwGfLmpH/wAAL8+oB6mq5aG/WBsZq06b3gpNGezNxLrlE3xEzOpmVS1rqSAAAABTQZsxSahBbJlMFEwv//6MsAAAXdhAlzADn7ioDhAdDhCkI4voRgdUi5kItX2hb2dVnrahANKyA2gqjaGMQ+Pql+6QlmOmx+j6XIteVGuHHZiUMoEAAAArAZ9Qakf/AAAvuN2nyGOQovu358UhnmugzwXAqyj22ypC7tYeDmcyzK2QLwAAAFJBm1NJ4QpSZTBSwz/+nhAAAFzrV63K3k6GkwB+kF8eAC7PJk1si8bCM4Et3gfOjQreuiFbLfCCJh4WmkjTkMtD7IADYC9QP71GuJKLC1KTNGttAAAALwGfcmpH/wAAL7jcx+kMfejNrdin6EwPQxgx+cQYxv2Zf9PCpvlFyG+anWYq10aBAAAAS0Gbd0nhDomUwIX//oywAABgFmI+HB1087Zr127q4BVFSN4/sppFHlGJOpUhdmaQGcAT9kDVxvg8FJpQCobK8pIhwps4XvfzIscbHQAAAFpBn5VFFTwj/wAAHmh607U4Lob4qo19lnWgVGNACaU66wOdtNPlx3dtrjZQfqVbMgXUowFIQyDDC9Q4TR9rM2O/BvAv2TG2chT+pjEbyX6MAqp73oxa/5wl+y8AAAAuAZ+0dEf/AAAv0scQthikc3Kc3gYwSA0peY3vhJMjgKEqtKAGNFAyuRNYiwz/gAAAACYBn7ZqR/8AADD43URAXlDs822QM883dkowVQcSpVkbfTSKlzfaggAAAHZBm7tJqEFomUwIX//+jLAAAGBAhIhjZSGwBEp5PoXYi22rflNunMFb/y6zw5ERW3L3C4u8WU2dphlB/mE/LDO7gMXKGPX56KRIQHi+1s/+uitcex3RNRkcDv9afR2GrH7vVYGbmb7d782mUMUYq7YXZHNzlbjRAAAAJ0Gf2UURLCP/AAAeZvd0r3Z3Dudh72fZZW0OGyBNwXCV+39SXh2OgwAAACkBn/h0R/8AADD01i4AHFp+KViUZ+gPQnsizxlkejTTFILZHLF2QmRLgAAAADcBn/pqR/8AADDgq+SJGw6SycBNhJY5cJ7gRYAJajalH33aNLNfpKf9gqCjV+aCodPLJXbzHrHBAAAAcUGb/UmoQWyZTBRML//+jLAAAGAVkVtNrkGO1NYAnWOI4wPW5DRMrPL4Rk1h58p9/APAJciaiSkwWTthnp3y39iXxnPlEgujRFjzYzc1p0BXNlpLv1/MX0bAGOY4AFN1XqghEHAvnCaHGRpM+5FteXqAAAAANQGeHGpH/wAAMQ+oUxIH4SIAJHXBMfdOOAhbfdADUNLBAx6rwUudYvIlqikFCv4ToKY4iZVBAAAAUEGaAUnhClJlMCF//oywAABjBSblzADpHp5s0/ktQijQtK6QDnWo4BZ68kZ5gIdzYSbvN40hC3xbXSwqTWvdsUnSZ81bJXuQjYunGjPAT6HLAAAAOUGeP0U0TCP/AAAfDH2+Cq24DhFCPBmASsaX08AJarHVRlnhYcVw4sih2ZzAuGgUb/Ngu9kvmx8GvQAAADEBnl50R/8AADI1DbEAUDPTtH2oMv98B/5JWmkwu3vxhqGpc86DzcgVxlgMcYvJ1PPJAAAALwGeQGpH/wAAMk+oQy7nG31epgohqCKSnOtLYPpbtoCUAEM+N7613fyuGlWnfq9AAAAAbUGaREmoQWiZTAhf//6MsAAAYwUc0P/l0raRK/QJIF6caXizzacERKVa9wH5WXu5HzRgmFgjIuq8vV6o+pAEQYgWRWLPBO0ad1gfYezKFgcJU1OUZXmu7VuXSy9vBm7ff6ADDbF8k+hCUsHJUpkAAABGQZ5iRREsI/8AAB8MfZILXmnpfnuQcbK0GOavLQtr+8OAGqVYtbHQEWJkXM8/gE8KRUFLd3d66SbmIR6hqGu3Qg3rhzTV6QAAADABnoNqR/8AADI43W4NmQckDiNaOMbsdCXoYYaKutRjR8DoPLzkKEyGdb6ch+aQ16AAAACpQZqISahBbJlMCF///oywAABlFmyOSHZSIBNClKj8pqc2Y9ctg/wOTmg9UP0oOpct+57efdaihhO2KCrE6KAOAFD3z08KxiRx2Z5htmpwZUzx+3qFDq9PycQPFj9TuhKu7J/N89TXeAMluyuM+sUYoIraO3FRkNSCb98NY/Tmpa848zKwoI+TxegGc7HKZLEvPr79Dbq1c4VC6ejv54FBM0yd04ZdnFJUHAAAAEJBnqZFFSwj/wAAH7x9qhaQ9L6Ppt1yfaSTZbQMByJjOw4NMShGrFmskPSX5OdABMjyRRrqTzf/SIZCFwdeHziblz8AAAA4AZ7FdEf/AAAzl2tQYI5dcyOqXoIPvzGCn2vL+YZfsdIWZEoH/oAJwz8+wEQdDvNBU1EsIZWzXoAAAAAvAZ7Hakf/AAAzj8lc00DhGI1sqSj2BHl2aCM3twIX9hoZpYLW9ap4GdTTIIiHjD8AAACJQZrMSahBbJlMCF///oywAABlFmJW02uVoy8F1JABLZRr4gRMsuvDaW6xK3Qt66spcnVPhaRxV3sJMiYwlqW7OUmCdEDXHuTzaRsXHx8JaVxJGhhutQyAVZ8ZNLPvq2UdFGvNxfXw0hMYXLav/2HdXd0UWdNLeBS9eXqARiBlc3TKuMo9Rl11CEAAAABOQZ7qRRUsI/8AAB+8fZILqd8kY+Ra5X3HmfAlVbdAq9UOs+MYq1IognFrJXDN0YlYD03PMkAFhlLEBpZhoHWsa3Vs8TporlpQNTXGd4FxAAAANQGfCXRH/wAAM5LGmWGNJ17UOka4RSpDaLTYkq1yv00Vxb6IYlXBW+C1w6UbcO92G4OjPVLxAAAARgGfC2pH/wAAM3jdblh7yMpcDSsYraJfd8Qs6O7YFXIhc8EqvGun8nfv+8QgBD8M/qqNsqhveqvhL1GI97Gzqd/An5KZy8EAAABvQZsOSahBbJlMFEwv//6MsAAAZ5Xw4ersDuisJY4//waQH+fQQjfuB/V/lGKsmDzhctpdFy+5m9vek/Cb4Ng0BnqqOZIdM29B9a4eObgOgPdHrhHb1Ivbt/9C4zGk3HkaMHIjBLaYtEfeMZAWvb3vAAAANgGfLWpH/wAANNI8+5sSevsA7zjgD0aI8mKCBPxTx/c9pce0wuIFy/ctjsw/xOcjb4hBDItklwAAAFZBmzFJ4QpSZTAhX/44QAABkh0IaOAOgtF46u/EXnMk+TnefZ9jzkGJyFMchXdrS+Z8yXUK5+bFcy51Vwi6fc0xp29XqHBf+sRdFHiwFNOU1MCr9W2LUAAAAEVBn09FNEwj/wAAIKvKFd2kgBYcnsa7FE0IzMlQLxHEpd2BTKHaswMVU3U8fZdfvzcQ3wWAOErU6hioIdmjfFLWPQbVpFkAAAA1AZ9wakf/AAA0uN2kiOmXENi/N2tPUHtRSrDQs786iOIoi6Mdcg+k1G0DWt1J2n8EvbpKXh4AAAB/QZt1SahBaJlMCE///fEAAAMD32/ET6srgOxJwCFU3jpsKDWEqLKTdStqjPtqp7AmffSbaEPM3k7SGGf8k4077FpxiOubAAFh7ewzfU+vHRWQRfJjInGx3zE3t3wJryQor4q7SDqKc+ycv1LhO5KBp8gkHUh/AhwSsxCGGadm8AAAAERBn5NFESwj/wAAIbyNn0nUu9bT77XQXVdwqI1Vy+5oVzHkGQ/EBjFQqO2n56NAAlhyxZT/ufEpg9hv7jK7m+clWHyOZwAAADoBn7J0R/8AADTSxjQ1pxB5YwuIOUB7DM+nBjSYIZQGjb5ppaY7Kne1QEAIOz8by/jyin+9qLgrh8zhAAAANwGftGpH/wAANhJRkUqY8CoxM5guPXbkylU21ENKEG3W0l7VdL4Wcpq7HHeZX19c6HHwH5D1zOEAAABzQZu5SahBbJlMCEf//eEAAAZIGiBOzQsAL+tzsw/QNHecx0MV36NYWjoEjpsPl5jRtVLo/T03akUwvc4SGO3Id8Ul+ACtZND5XU2JZFvGozZr30/SKkAKgcDQ1cKnWURYQQqsi7J7FRIALbwyYdiZNmGbJgAAAEJBn9dFFSwj/wAAIbp3lhbExZsRvjKlsShbGOa3tvV+vu19SO+r0lf7LVLbBMnBrTciCKnXSH7InawnEYJpJpBpvIAAAAA9AZ/2dEf/AAA2EsX5SOQ2CQhXla26WMi1Pm9vza2/ZawgxdIFT7Nz+olwFhKIk+S70g+xKCYCoda/lKWr0QAAAEoBn/hqR/8AADYPqHUvNwsRljDT0vUURRDcvr/cxrwdN+T5OXFpMGmvsEsw6JbLZe6YLAtCtD8dBAAJj0KTHhBXzd2K3CqxnxHONAAAAJBBm/xJqEFsmUwIR//94QAABm3xOEqfJAKSbMrSUFgfBNoRO5mw5EMKvpP8vhmATqNSG7FVgW3z8CVSY0lSEdlaRXSyLDOt+TyF2gVU5jRgPzCpxGJa/8ssXx92BaLi1gCWn6gIT59v3T57zZaBAxltVtQrXIyYohcQj8qPfkC4IZ+FTCQTTG5To0XXspK3l8AAAABFQZ4aRRUsI/8AACK8jZw4khzgdQcBXFzL16DKnQZgK1y6y2wFcsUa70ME/8w771NTST9wALb3llL92OziBvq6GXgmvU+BAAAAMQGeO2pH/wAANzjdoMy2Rzbvd5CqiPMJjvky7eOA4IBYAGV7enJzvWN3K43lSoDJDiAAAAB1QZogSahBbJlMCEf//eEAAAZt8eUlnyE8I0Q6P1w4XHBZLfMYkVGnicJmMWbfRDEp1RqfsfQbF+GP08WlcOkHFGlgBDkVh6y/P3ALh43YAJfPF/EfcovimI87DW8dEefWAoAoZv1raSZvgZLYaEVS9BkycUWlAAAARUGeXkUVLCP/AAAiuoAyYiRiI72NIBQAlpkskGz7fB+DEnlaaAdWR8Iolbg4P3urCvB5qmPl1rPMTCpzcD2yXZumD5T8cQAAAFoBnn10R/8AADdRfQ/dVcRIVSQxLShWhMiBcTM7NbGSnX7fP99qbAXVXFK0RAjqLTPmCIAHtYLpe9hIhY5sJA78gzwM3ePYsgjeadPOCTd/iIsXHAYFO0Ub44AAAABDAZ5/akf/AAA3NxgZhqjPio07VmRdV4ugFGNNTszlJ4/2Yz3n36luDemm9+egH0WYuYAVX2f4JME/gKqs/mjMSJjVUwAAAEtBmmJJqEFsmUwUTH/8hAAAGa/j83z7JQgT4lcryNT7fnwAKAu3C99ZUv9lnoXWuAwXJs3VLuvadDwDus5Hl3vAdf2FTlhekL3dWRgAAABVAZ6Bakf/AAA4kCWSh63DSL9+VgNU3V/i+Lp3dkmWZMrd/hnqlJjsWEABCPKlJ/W7BpvY+cBk7qsaAD9sw67Vl1sWbYmp5EpAlGc4xhqGHTCy39JvQQAAAGxBmoNJ4QpSZTAhH/3hAAAGlEAOAcNIg7TcUee7YemXwYH8rEAc1lbBWtA8X7dvNsDLhXUKZ7osf5pStgeOGfbPcZBjqK3VaWg678E2QRQ2s463YDZlkby5CQcwaYqSFWZzbGjYib5BobvZ6M0AAABLQZqnSeEOiZTAhH/94QAABpRU7u7/w+9ptH6gByGnX+LggUqyva9/R/xwgRth3Pms7v9IAQcnHSleyneTA3VknKlsipvSa8FLKvRgAAAAOEGexUURPCP/AAAjun6FNkWfSOp3a1o+xWimKUIT3W4FCwgAIySEypIqK2Rn1WdUKKy9e9kozQb0AAAARgGe5HRH/wAAOK64UiMelQf0A+IGepe2ar9kLf2JAZaiOkjcUG4O5XOkAH7kXvTa8sVYzL7Da0uS/MEP6pDvFTnzfMkgJOEAAABAAZ7makf/AAA4q72CGZC3AaPFcCntkzZf5z4QD/ulcfTLc/cpKEusABA6GaC2FelmU+dH7SdGseHOBcDRsUNXEAAAAEJBmutJqEFomUwI//yEAAAZ30UTl7FQLYRKl0AssiBKiBOPEX2CJq0bcL+s0RLLVfSbyvWEHTYZpRJ69MJv0cmIStMAAAA4QZ8JRREsI/8AACO6gK85RC4Ej5aIfdS4DPJ9naaXKDQAlBFK+Y7Ywoj9x+Mui7W8h9uBcN4PZL4AAABOAZ8odEf/AAA4i69ZayHTxqV5JWJPLzA/6AALNWryeteHZ2N9nqY9dSBopuu8kLJ6AAIcUy3byBF7bUCzJQeChCcBTEBv8m/BM8jNZoQ9AAAANAGfKmpH/wAAOKAENOZvOynGTIp/gSUePR33QAlFoRy37f2UjmYfMcQkMqp8TjJMvSLdQDkAAAA1QZssSahBbJlMCP/8hAAAAwCDetk3XYqBV06TaAEAE+Z0j4ikGeOzqEKXoczgrRehI39mrykAABm7bW9vdgAAAGxtdmhkAAAAAAAAAAAAAAAAAAAD6AAAJgwAAQAAAQAAAAAAAAAAAAAAAAEAAAAAAAAAAAAAAAAAAAABAAAAAAAAAAAAAAAAAABAAAAAAAAAAAAAAAAAAAAAAAAAAAAAAAAAAAAAAAAAAgAAGOV0cmFrAAAAXHRraGQAAAADAAAAAAAAAAAAAAABAAAAAAAAJgwAAAAAAAAAAAAAAAAAAAAAAAEAAAAAAAAAAAAAAAAAAAABAAAAAAAAAAAAAAAAAABAAAAAAlgAAAGQAAAAAAAkZWR0cwAAABxlbHN0AAAAAAAAAAEAACYMAAACAAABAAAAABhdbWRpYQAAACBtZGhkAAAAAAAAAAAAAAAAAAAyAAAB5wBVxAAAAAAALWhkbHIAAAAAAAAAAHZpZGUAAAAAAAAAAAAAAABWaWRlb0hhbmRsZXIAAAAYCG1pbmYAAAAUdm1oZAAAAAEAAAAAAAAAAAAAACRkaW5mAAAAHGRyZWYAAAAAAAAAAQAAAAx1cmwgAAAAAQAAF8hzdGJsAAAAmHN0c2QAAAAAAAAAAQAAAIhhdmMxAAAAAAAAAAEAAAAAAAAAAAAAAAAAAAAAAlgBkABIAAAASAAAAAAAAAABAAAAAAAAAAAAAAAAAAAAAAAAAAAAAAAAAAAAAAAAAAAAGP//AAAAMmF2Y0MBZAAf/+EAGWdkAB+s2UCYM+XhAAADAAEAAAMAZA8YMZYBAAZo6+PLIsAAAAAYc3R0cwAAAAAAAAABAAAB5wAAAQAAAAAYc3RzcwAAAAAAAAACAAAAAQAAAPsAAA8YY3R0cwAAAAAAAAHhAAAAAQAAAgAAAAABAAAFAAAAAAEAAAIAAAAAAQAAAAAAAAABAAABAAAAAAIAAAIAAAAAAQAABQAAAAABAAACAAAAAAEAAAAAAAAAAQAAAQAAAAABAAAFAAAAAAEAAAIAAAAAAQAAAAAAAAABAAABAAAAAAEAAAUAAAAAAQAAAgAAAAABAAAAAAAAAAEAAAEAAAAAAQAAAwAAAAABAAABAAAAAAEAAAUAAAAAAQAAAgAAAAABAAAAAAAAAAEAAAEAAAAAAQAABQAAAAABAAACAAAAAAEAAAAAAAAAAQAAAQAAAAABAAAFAAAAAAEAAAIAAAAAAQAAAAAAAAABAAABAAAAAAEAAAUAAAAAAQAAAgAAAAABAAAAAAAAAAEAAAEAAAAAAQAABQAAAAABAAACAAAAAAEAAAAAAAAAAQAAAQAAAAABAAAFAAAAAAEAAAIAAAAAAQAAAAAAAAABAAABAAAAAAEAAAUAAAAAAQAAAgAAAAABAAAAAAAAAAEAAAEAAAAAAQAABQAAAAABAAACAAAAAAEAAAAAAAAAAQAAAQAAAAABAAAFAAAAAAEAAAIAAAAAAQAAAAAAAAABAAABAAAAAAEAAAUAAAAAAQAAAgAAAAABAAAAAAAAAAEAAAEAAAAAAQAABQAAAAABAAACAAAAAAEAAAAAAAAAAQAAAQAAAAABAAAFAAAAAAEAAAIAAAAAAQAAAAAAAAABAAABAAAAAAEAAAUAAAAAAQAAAgAAAAABAAAAAAAAAAEAAAEAAAAAAQAABQAAAAABAAACAAAAAAEAAAAAAAAAAQAAAQAAAAABAAAFAAAAAAEAAAIAAAAAAQAAAAAAAAABAAABAAAAAAEAAAUAAAAAAQAAAgAAAAABAAAAAAAAAAEAAAEAAAAAAQAABQAAAAABAAACAAAAAAEAAAAAAAAAAQAAAQAAAAABAAAFAAAAAAEAAAIAAAAAAQAAAAAAAAABAAABAAAAAAEAAAUAAAAAAQAAAgAAAAABAAAAAAAAAAEAAAEAAAAAAQAABQAAAAABAAACAAAAAAEAAAAAAAAAAQAAAQAAAAABAAAFAAAAAAEAAAIAAAAAAQAAAAAAAAABAAABAAAAAAEAAAUAAAAAAQAAAgAAAAABAAAAAAAAAAEAAAEAAAAAAQAABQAAAAABAAACAAAAAAEAAAAAAAAAAQAAAQAAAAABAAAFAAAAAAEAAAIAAAAAAQAAAAAAAAABAAABAAAAAAEAAAUAAAAAAQAAAgAAAAABAAAAAAAAAAEAAAEAAAAAAQAABQAAAAABAAACAAAAAAEAAAAAAAAAAQAAAQAAAAABAAAFAAAAAAEAAAIAAAAAAQAAAAAAAAABAAABAAAAAAEAAAUAAAAAAQAAAgAAAAABAAAAAAAAAAEAAAEAAAAAAQAABQAAAAABAAACAAAAAAEAAAAAAAAAAQAAAQAAAAABAAAFAAAAAAEAAAIAAAAAAQAAAAAAAAABAAABAAAAAAEAAAUAAAAAAQAAAgAAAAABAAAAAAAAAAEAAAEAAAAAAQAABQAAAAABAAACAAAAAAEAAAAAAAAAAQAAAQAAAAABAAAFAAAAAAEAAAIAAAAAAQAAAAAAAAABAAABAAAAAAEAAAUAAAAAAQAAAgAAAAABAAAAAAAAAAEAAAEAAAAAAQAABQAAAAABAAACAAAAAAEAAAAAAAAAAQAAAQAAAAABAAAFAAAAAAEAAAIAAAAAAQAAAAAAAAABAAABAAAAAAEAAAUAAAAAAQAAAgAAAAABAAAAAAAAAAEAAAEAAAAAAQAABQAAAAABAAACAAAAAAEAAAAAAAAAAQAAAQAAAAABAAAFAAAAAAEAAAIAAAAAAQAAAAAAAAABAAABAAAAAAEAAAUAAAAAAQAAAgAAAAABAAAAAAAAAAEAAAEAAAAAAQAABQAAAAABAAACAAAAAAEAAAAAAAAAAQAAAQAAAAABAAAFAAAAAAEAAAIAAAAAAQAAAAAAAAABAAABAAAAAAEAAAUAAAAAAQAAAgAAAAABAAAAAAAAAAEAAAEAAAAAAQAABQAAAAABAAACAAAAAAEAAAAAAAAAAQAAAQAAAAABAAAFAAAAAAEAAAIAAAAAAQAAAAAAAAABAAABAAAAAAEAAAUAAAAAAQAAAgAAAAABAAAAAAAAAAEAAAEAAAAAAQAABQAAAAABAAACAAAAAAEAAAAAAAAAAQAAAQAAAAABAAAFAAAAAAEAAAIAAAAAAQAAAAAAAAABAAABAAAAAAEAAAUAAAAAAQAAAgAAAAABAAAAAAAAAAEAAAEAAAAAAQAABQAAAAABAAACAAAAAAEAAAAAAAAAAQAAAQAAAAABAAAFAAAAAAEAAAIAAAAAAQAAAAAAAAABAAABAAAAAAEAAAUAAAAAAQAAAgAAAAABAAAAAAAAAAEAAAEAAAAAAQAABQAAAAABAAACAAAAAAEAAAAAAAAAAQAAAQAAAAABAAAFAAAAAAEAAAIAAAAAAQAAAAAAAAABAAABAAAAAAEAAAUAAAAAAQAAAgAAAAABAAAAAAAAAAEAAAEAAAAAAQAABQAAAAABAAACAAAAAAEAAAAAAAAAAQAAAQAAAAABAAAFAAAAAAEAAAIAAAAAAQAAAAAAAAABAAABAAAAAAIAAAIAAAAAAQAABQAAAAABAAACAAAAAAEAAAAAAAAAAQAAAQAAAAABAAAFAAAAAAEAAAIAAAAAAQAAAAAAAAABAAABAAAAAAEAAAUAAAAAAQAAAgAAAAABAAAAAAAAAAEAAAEAAAAAAQAABQAAAAABAAACAAAAAAEAAAAAAAAAAQAAAQAAAAABAAAFAAAAAAEAAAIAAAAAAQAAAAAAAAABAAABAAAAAAEAAAUAAAAAAQAAAgAAAAABAAAAAAAAAAEAAAEAAAAAAQAABQAAAAABAAACAAAAAAEAAAAAAAAAAQAAAQAAAAABAAAFAAAAAAEAAAIAAAAAAQAAAAAAAAABAAABAAAAAAEAAAUAAAAAAQAAAgAAAAABAAAAAAAAAAEAAAEAAAAAAQAABQAAAAABAAACAAAAAAEAAAAAAAAAAQAAAQAAAAABAAAFAAAAAAEAAAIAAAAAAQAAAAAAAAABAAABAAAAAAEAAAUAAAAAAQAAAgAAAAABAAAAAAAAAAEAAAEAAAAAAQAABQAAAAABAAACAAAAAAEAAAAAAAAAAQAAAQAAAAABAAAFAAAAAAEAAAIAAAAAAQAAAAAAAAABAAABAAAAAAEAAAUAAAAAAQAAAgAAAAABAAAAAAAAAAEAAAEAAAAAAQAABQAAAAABAAACAAAAAAEAAAAAAAAAAQAAAQAAAAABAAAFAAAAAAEAAAIAAAAAAQAAAAAAAAABAAABAAAAAAEAAAUAAAAAAQAAAgAAAAABAAAAAAAAAAEAAAEAAAAAAQAABQAAAAABAAACAAAAAAEAAAAAAAAAAQAAAQAAAAABAAAFAAAAAAEAAAIAAAAAAQAAAAAAAAABAAABAAAAAAEAAAUAAAAAAQAAAgAAAAABAAAAAAAAAAEAAAEAAAAAAQAABQAAAAABAAACAAAAAAEAAAAAAAAAAQAAAQAAAAABAAAFAAAAAAEAAAIAAAAAAQAAAAAAAAABAAABAAAAAAEAAAUAAAAAAQAAAgAAAAABAAAAAAAAAAEAAAEAAAAAAQAABQAAAAABAAACAAAAAAEAAAAAAAAAAQAAAQAAAAABAAAFAAAAAAEAAAIAAAAAAQAAAAAAAAABAAABAAAAAAEAAAUAAAAAAQAAAgAAAAABAAAAAAAAAAEAAAEAAAAAAQAAAwAAAAABAAABAAAAAAEAAAUAAAAAAQAAAgAAAAABAAAAAAAAAAEAAAEAAAAAAQAABQAAAAABAAACAAAAAAEAAAAAAAAAAQAAAQAAAAABAAAFAAAAAAEAAAIAAAAAAQAAAAAAAAABAAABAAAAAAEAAAUAAAAAAQAAAgAAAAABAAAAAAAAAAEAAAEAAAAAAQAAAwAAAAABAAABAAAAAAEAAAMAAAAAAQAAAQAAAAABAAAFAAAAAAEAAAIAAAAAAQAAAAAAAAABAAABAAAAAAEAAAUAAAAAAQAAAgAAAAABAAAAAAAAAAEAAAEAAAAAAQAABQAAAAABAAACAAAAAAEAAAAAAAAAAQAAAQAAAAABAAADAAAAAAEAAAEAAAAAAQAABQAAAAABAAACAAAAAAEAAAAAAAAAAQAAAQAAAAABAAAEAAAAAAIAAAEAAAAAAQAABQAAAAABAAACAAAAAAEAAAAAAAAAAQAAAQAAAAABAAAFAAAAAAEAAAIAAAAAAQAAAAAAAAABAAABAAAAAAEAAAUAAAAAAQAAAgAAAAABAAAAAAAAAAEAAAEAAAAAAQAABQAAAAABAAACAAAAAAEAAAAAAAAAAQAAAQAAAAABAAAFAAAAAAEAAAIAAAAAAQAAAAAAAAABAAABAAAAAAEAAAUAAAAAAQAAAgAAAAABAAAAAAAAAAEAAAEAAAAAAQAAAwAAAAABAAABAAAAAAEAAAMAAAAAAQAAAQAAAAABAAAFAAAAAAEAAAIAAAAAAQAAAAAAAAABAAABAAAAAAEAAAUAAAAAAQAAAgAAAAABAAAAAAAAAAEAAAEAAAAAAQAAAwAAAAABAAABAAAAAAEAAAUAAAAAAQAAAgAAAAABAAAAAAAAAAEAAAEAAAAAAQAABAAAAAACAAABAAAAAAEAAAUAAAAAAQAAAgAAAAABAAAAAAAAAAEAAAEAAAAAAQAABQAAAAABAAACAAAAAAEAAAAAAAAAAQAAAQAAAAABAAADAAAAAAEAAAEAAAAAAQAABAAAAAACAAABAAAAAAEAAAUAAAAAAQAAAgAAAAABAAAAAAAAAAEAAAEAAAAAAQAABQAAAAABAAACAAAAAAEAAAAAAAAAAQAAAQAAAAABAAAEAAAAAAIAAAEAAAAAAQAABQAAAAABAAACAAAAAAEAAAAAAAAAAQAAAQAAAAABAAADAAAAAAEAAAEAAAAAAQAAAgAAAAABAAAFAAAAAAEAAAIAAAAAAQAAAAAAAAABAAABAAAAAAEAAAUAAAAAAQAAAgAAAAABAAAAAAAAAAEAAAEAAAAAAQAAAgAAAAAcc3RzYwAAAAAAAAABAAAAAQAAAecAAAABAAAHsHN0c3oAAAAAAAAAAAAAAecAAAT1AAAA1QAAAHAAAABSAAAAUgAAAGcAAACBAAAAgAAAAEAAAAAxAAAAOQAAADwAAAA+AAAAKQAAAEEAAABlAAAATwAAACUAAAAvAAAAVAAAACcAAAB4AAAALQAAADcAAAAiAAAAjgAAADkAAAAkAAAANQAAAIUAAAA9AAAAKwAAACYAAAB8AAAAUQAAADIAAAAkAAAAYgAAADEAAAAiAAAAIgAAAGgAAAAzAAAAHwAAACEAAABUAAAAMwAAAB4AAAAjAAAAXAAAACMAAAAaAAAAIgAAADUAAAA1AAAAGgAAACwAAABVAAAALwAAADEAAAAqAAAAQgAAAC8AAAAsAAAAHAAAAEYAAAAhAAAAJwAAACcAAABEAAAAIQAAADQAAAArAAAAZAAAACUAAABFAAAANAAAAEEAAAAoAAAAMgAAADIAAABXAAAALgAAAC4AAAA0AAAAUwAAACYAAAAtAAAANQAAAEAAAAAoAAAAFgAAACEAAABgAAAAKgAAABgAAAAjAAAAVQAAADEAAAAdAAAAKgAAAFEAAAA0AAAAIAAAAB4AAABFAAAAJQAAACcAAAAbAAAAeAAAADMAAAAiAAAALwAAAHQAAABDAAAAOwAAADAAAABcAAAAJwAAAB4AAAAnAAAAeQAAAEAAAAAnAAAAKAAAAEsAAAA+AAAALQAAADMAAAByAAAAOgAAACIAAAAxAAAAfAAAADMAAAAgAAAAMAAAAIQAAAA4AAAAQwAAACYAAABlAAAANgAAACkAAAA2AAAAXAAAAEYAAAAoAAAANwAAAEUAAABGAAAAKQAAACEAAABUAAAAKwAAACMAAAAeAAAAbQAAACYAAAAzAAAAHgAAAE8AAAAuAAAAJAAAACsAAABkAAAAPQAAADUAAAAxAAAAPgAAADgAAAApAAAAIQAAAHsAAAA5AAAAMAAAACsAAABJAAAAOQAAACsAAAAiAAAAfwAAADQAAAAkAAAAGgAAADoAAAAbAAAAFgAAABUAAABUAAAAMgAAABsAAAAsAAAASQAAACYAAAAZAAAAIQAAADwAAAAhAAAAGgAAABwAAABiAAAAMQAAACIAAAAdAAAAUwAAADUAAAAgAAAAHQAAAIwAAAAmAAAALgAAABcAAAAxAAAAMQAAADgAAAAYAAAAdQAAAEQAAAAdAAAAMAAAAFQAAAAlAAAAHgAAACUAAABCAAAALQAAACIAAAAhAAAAYAAAADIAAAAVAAAALAAAAEkAAAAoAAAAFgAAACEAAAA7AAAAKgAAAB8AAAAYAAAAUwAAAC8AAAAnAAAAGwAAAEgAAAAfAAAAFgAAACcAAAArAAABnQAAAI4AAAA9AAAAIAAAACoAAABjAAAALgAAACoAAAAtAAAAUgAAACMAAAAfAAAAFQAAAHcAAAAoAAAAMwAAACkAAABoAAAALAAAAC8AAAAdAAAAYgAAADQAAAAiAAAALAAAAEQAAAAjAAAAEgAAACUAAABBAAAAJgAAABgAAAAdAAAATwAAADQAAAAqAAAAJAAAADYAAAAjAAAALAAAABUAAABUAAAAIQAAAC0AAAASAAAAcAAAADkAAAAxAAAAIAAAAHcAAAAsAAAARwAAADUAAABaAAAAJQAAACwAAAAeAAAAYwAAAB8AAAAaAAAAGAAAAFIAAAA0AAAAJwAAAC0AAABJAAAAMwAAACwAAAAoAAAAPQAAACEAAAAgAAAAEwAAAFUAAAAqAAAALQAAABYAAABRAAAAJgAAADUAAAAaAAAAVgAAAC8AAAAgAAAAKgAAAFoAAAAqAAAAIAAAACAAAABDAAAAKgAAADcAAAAuAAAAQQAAADEAAAAeAAAALAAAAFgAAAA4AAAALAAAADsAAABnAAAASQAAADQAAABBAAAAXwAAAEwAAAAhAAAATQAAAHEAAAA3AAAAkgAAAD4AAAA/AAAAPAAAAIIAAABAAAAAMQAAADkAAAB4AAAASgAAADgAAAA1AAAAUAAAAEwAAAA4AAAAMwAAAGcAAABHAAAAaAAAADoAAABoAAAAUAAAAC0AAAA2AAAAZgAAAEEAAAA3AAAASAAAAFQAAABVAAAAPAAAADMAAABnAAAATgAAAIAAAAA8AAAAPAAAADYAAABbAAAARAAAADkAAAB9AAAARwAAAEQAAABAAAAAcgAAAEwAAABEAAAANwAAAF8AAABIAAAATQAAADMAAABaAAAAPAAAADEAAAApAAAAeAAAADIAAAAkAAAAPQAAAFwAAABDAAAAOAAAAC8AAABXAAAALwAAAFYAAAAzAAAATwAAAF4AAAAyAAAAKgAAAHoAAAArAAAALQAAADsAAAB1AAAAOQAAAFQAAAA9AAAANQAAADMAAABxAAAASgAAADQAAACtAAAARgAAADwAAAAzAAAAjQAAAFIAAAA5AAAASgAAAHMAAAA6AAAAWgAAAEkAAAA5AAAAgwAAAEgAAAA+AAAAOwAAAHcAAABGAAAAQQAAAE4AAACUAAAASQAAADUAAAB5AAAASQAAAF4AAABHAAAATwAAAFkAAABwAAAATwAAADwAAABKAAAARAAAAEYAAAA8AAAAUgAAADgAAAA5AAAAFHN0Y28AAAAAAAAAAQAAADAAAABidWR0YQAAAFptZXRhAAAAAAAAACFoZGxyAAAAAAAAAABtZGlyYXBwbAAAAAAAAAAAAAAAAC1pbHN0AAAAJal0b28AAAAdZGF0YQAAAAEAAAAATGF2ZjU4LjI5LjEwMA==\" type=\"video/mp4\" />\n",
              "             </video>"
            ]
          },
          "metadata": {}
        }
      ],
      "source": [
        "env = wrap_env(gym.make('CartPole-v1'))\n",
        "\n",
        "input_dim = env.observation_space.shape[0]\n",
        "output_dim = env.action_space.n\n",
        "model_validate = DQN_Network(layer_size_list=[input_dim, 64, output_dim], lr=1e-3)\n",
        "model_validate.load_pretrained_model(\"cartpole-dqn.pth\")\n",
        "\n",
        "reward_arr = []\n",
        "for i in tqdm(range(200)):\n",
        "    obs, done, rew = env.reset(), False, 0\n",
        "    env.render()\n",
        "    while not done:\n",
        "        A = get_action(model_validate, obs, env.action_space.n, epsilon=0)\n",
        "        obs, reward, done, info = env.step(A.item())\n",
        "        rew += reward\n",
        "        # sleep(0.01)\n",
        "\n",
        "    reward_arr.append(rew)\n",
        "print(\"average reward per episode :\", sum(reward_arr) / len(reward_arr))\n",
        "env.close()\n",
        "show_video()"
      ]
    },
    {
      "cell_type": "markdown",
      "source": [
        "### Grid Search"
      ],
      "metadata": {
        "id": "F-niCZxyYVEa"
      }
    },
    {
      "cell_type": "code",
      "source": [
        "from itertools import product\n",
        "\n",
        "# Hyperparameters to search\n",
        "exp_replay_sizes = [5000, 20000]\n",
        "episodes = [5000, 20000]\n",
        "epsilon_decay_rates = [0.995, 0.95]\n",
        "epsilons = [1, 0.5]\n",
        "\n",
        "\n",
        "# # TODO: try different values, it normally takes more than 6k episodes to train\n",
        "# exp_replay_size = 10000\n",
        "# episodes = 10000\n",
        "# epsilon = 1 # episilon start from 1 and decay gradually. \n",
        "\n",
        "for exp_replay_size, episode, epsilon_decay_rate, epsilon in product(exp_replay_sizes, episodes, epsilon_decay_rates, epsilons):\n",
        "\n",
        "  print(\"-\"*20)\n",
        "  print(exp_replay_size, episode, epsilon_decay_rate, epsilon)\n",
        "\n",
        "  memory = ExperienceReplay(exp_replay_size)\n",
        "  # Create the model\n",
        "  env = gym.make('CartPole-v0')\n",
        "  input_dim = env.observation_space.shape[0]\n",
        "  output_dim = env.action_space.n\n",
        "  agent = DQN_Network(layer_size_list=[input_dim, 64, output_dim], lr=1e-3)\n",
        "\n",
        "  # Main training loop\n",
        "  losses_list, reward_list, episode_len_list, epsilon_list = [], [], [], []\n",
        "\n",
        "  # initiliaze experiance replay\n",
        "  index = 0\n",
        "  for i in range(exp_replay_size):\n",
        "      obs = env.reset()\n",
        "      done = False\n",
        "      while not done:\n",
        "          A = get_action(agent, obs, env.action_space.n, epsilon=1)\n",
        "          obs_next, reward, done, _ = env.step(A.item())\n",
        "          memory.collect([obs, A.item(), reward, obs_next])\n",
        "          obs = obs_next\n",
        "          index += 1\n",
        "          if index > exp_replay_size:\n",
        "              break\n",
        "\n",
        "  index = 128\n",
        "  for i in tqdm(range(episode)):\n",
        "      obs, done, losses, ep_len, rew = env.reset(), False, 0, 0, 0\n",
        "      while not done:\n",
        "          ep_len += 1\n",
        "          A = get_action(agent, obs, env.action_space.n, epsilon)\n",
        "          obs_next, reward, done, _ = env.step(A.item())\n",
        "          memory.collect([obs, A.item(), reward, obs_next])\n",
        "\n",
        "          obs = obs_next\n",
        "          rew += reward\n",
        "          index += 1\n",
        "\n",
        "          if index > 128:\n",
        "              index = 0\n",
        "              for j in range(4):\n",
        "                  loss = train(agent, batch_size=16)\n",
        "                  losses += loss\n",
        "      \n",
        "      # TODO: add epsilon decay rule here!\n",
        "      epsilon *= epsilon_decay_rate\n",
        "\n",
        "\n",
        "      losses_list.append(losses / ep_len), reward_list.append(rew)\n",
        "      episode_len_list.append(ep_len), epsilon_list.append(epsilon)\n",
        "\n",
        "  print(\"Saving trained model\")\n",
        "  agent.save_trained_model(\"cartpole-dqn.pth\")\n",
        "  plot_reward(reward_list)\n",
        "\n",
        "  env = wrap_env(gym.make('CartPole-v1'))\n",
        "\n",
        "  input_dim = env.observation_space.shape[0]\n",
        "  output_dim = env.action_space.n\n",
        "  model_validate = DQN_Network(layer_size_list=[input_dim, 64, output_dim], lr=1e-3)\n",
        "  model_validate.load_pretrained_model(\"cartpole-dqn.pth\")\n",
        "\n",
        "  reward_arr = []\n",
        "  for i in tqdm(range(200)):\n",
        "      obs, done, rew = env.reset(), False, 0\n",
        "      env.render()\n",
        "      while not done:\n",
        "          A = get_action(model_validate, obs, env.action_space.n, epsilon=0)\n",
        "          obs, reward, done, info = env.step(A.item())\n",
        "          rew += reward\n",
        "          # sleep(0.01)\n",
        "\n",
        "      reward_arr.append(rew)\n",
        "  print(\"average reward per episode :\", sum(reward_arr) / len(reward_arr))\n",
        "  env.close()"
      ],
      "metadata": {
        "colab": {
          "base_uri": "https://localhost:8080/",
          "height": 1000
        },
        "id": "tQ8uJj-3WXEq",
        "outputId": "01438e22-0659-4461-936f-3ddb5672e00a"
      },
      "execution_count": 16,
      "outputs": [
        {
          "output_type": "stream",
          "name": "stdout",
          "text": [
            "--------------------\n",
            "5000 5000 0.995 1\n"
          ]
        },
        {
          "output_type": "stream",
          "name": "stderr",
          "text": [
            "100%|██████████| 5000/5000 [00:10<00:00, 456.19it/s]\n"
          ]
        },
        {
          "output_type": "stream",
          "name": "stdout",
          "text": [
            "Saving trained model\n"
          ]
        },
        {
          "output_type": "stream",
          "name": "stderr",
          "text": [
            "100%|██████████| 200/200 [00:02<00:00, 84.37it/s] \n"
          ]
        },
        {
          "output_type": "stream",
          "name": "stdout",
          "text": [
            "average reward per episode : 17.52\n",
            "--------------------\n",
            "5000 5000 0.995 0.5\n"
          ]
        },
        {
          "output_type": "stream",
          "name": "stderr",
          "text": [
            "100%|██████████| 5000/5000 [00:10<00:00, 462.99it/s]\n"
          ]
        },
        {
          "output_type": "stream",
          "name": "stdout",
          "text": [
            "Saving trained model\n"
          ]
        },
        {
          "output_type": "stream",
          "name": "stderr",
          "text": [
            "100%|██████████| 200/200 [00:02<00:00, 82.90it/s] \n"
          ]
        },
        {
          "output_type": "stream",
          "name": "stdout",
          "text": [
            "average reward per episode : 15.81\n",
            "--------------------\n",
            "5000 5000 0.95 1\n"
          ]
        },
        {
          "output_type": "stream",
          "name": "stderr",
          "text": [
            "100%|██████████| 5000/5000 [00:10<00:00, 481.69it/s]\n"
          ]
        },
        {
          "output_type": "stream",
          "name": "stdout",
          "text": [
            "Saving trained model\n"
          ]
        },
        {
          "output_type": "stream",
          "name": "stderr",
          "text": [
            "100%|██████████| 200/200 [00:02<00:00, 85.92it/s] \n"
          ]
        },
        {
          "output_type": "stream",
          "name": "stdout",
          "text": [
            "average reward per episode : 15.755\n",
            "--------------------\n",
            "5000 5000 0.95 0.5\n"
          ]
        },
        {
          "output_type": "stream",
          "name": "stderr",
          "text": [
            "100%|██████████| 5000/5000 [00:10<00:00, 484.90it/s]\n"
          ]
        },
        {
          "output_type": "stream",
          "name": "stdout",
          "text": [
            "Saving trained model\n"
          ]
        },
        {
          "output_type": "stream",
          "name": "stderr",
          "text": [
            "100%|██████████| 200/200 [00:02<00:00, 89.99it/s] \n"
          ]
        },
        {
          "output_type": "stream",
          "name": "stdout",
          "text": [
            "average reward per episode : 14.38\n",
            "--------------------\n",
            "5000 20000 0.995 1\n"
          ]
        },
        {
          "output_type": "stream",
          "name": "stderr",
          "text": [
            "100%|██████████| 20000/20000 [03:19<00:00, 100.10it/s]\n"
          ]
        },
        {
          "output_type": "stream",
          "name": "stdout",
          "text": [
            "Saving trained model\n"
          ]
        },
        {
          "output_type": "stream",
          "name": "stderr",
          "text": [
            "100%|██████████| 200/200 [00:03<00:00, 52.68it/s] \n"
          ]
        },
        {
          "output_type": "stream",
          "name": "stdout",
          "text": [
            "average reward per episode : 21.705\n",
            "--------------------\n",
            "5000 20000 0.995 0.5\n"
          ]
        },
        {
          "output_type": "stream",
          "name": "stderr",
          "text": [
            "100%|██████████| 20000/20000 [01:07<00:00, 295.72it/s]\n"
          ]
        },
        {
          "output_type": "stream",
          "name": "stdout",
          "text": [
            "Saving trained model\n"
          ]
        },
        {
          "output_type": "stream",
          "name": "stderr",
          "text": [
            "100%|██████████| 200/200 [00:06<00:00, 31.93it/s]\n"
          ]
        },
        {
          "output_type": "stream",
          "name": "stdout",
          "text": [
            "average reward per episode : 48.61\n",
            "--------------------\n",
            "5000 20000 0.95 1\n"
          ]
        },
        {
          "output_type": "stream",
          "name": "stderr",
          "text": [
            "100%|██████████| 20000/20000 [03:56<00:00, 84.63it/s]\n"
          ]
        },
        {
          "output_type": "stream",
          "name": "stdout",
          "text": [
            "Saving trained model\n"
          ]
        },
        {
          "output_type": "stream",
          "name": "stderr",
          "text": [
            "100%|██████████| 200/200 [00:11<00:00, 18.03it/s]\n"
          ]
        },
        {
          "output_type": "stream",
          "name": "stdout",
          "text": [
            "average reward per episode : 129.6\n",
            "--------------------\n",
            "5000 20000 0.95 0.5\n"
          ]
        },
        {
          "output_type": "stream",
          "name": "stderr",
          "text": [
            "100%|██████████| 20000/20000 [04:49<00:00, 69.03it/s]\n"
          ]
        },
        {
          "output_type": "stream",
          "name": "stdout",
          "text": [
            "Saving trained model\n"
          ]
        },
        {
          "output_type": "stream",
          "name": "stderr",
          "text": [
            "100%|██████████| 200/200 [00:09<00:00, 21.16it/s]\n"
          ]
        },
        {
          "output_type": "stream",
          "name": "stdout",
          "text": [
            "average reward per episode : 97.05\n",
            "--------------------\n",
            "20000 5000 0.995 1\n"
          ]
        },
        {
          "output_type": "stream",
          "name": "stderr",
          "text": [
            "100%|██████████| 5000/5000 [00:12<00:00, 398.99it/s]\n"
          ]
        },
        {
          "output_type": "stream",
          "name": "stdout",
          "text": [
            "Saving trained model\n"
          ]
        },
        {
          "output_type": "stream",
          "name": "stderr",
          "text": [
            "100%|██████████| 200/200 [00:02<00:00, 69.95it/s] \n"
          ]
        },
        {
          "output_type": "stream",
          "name": "stdout",
          "text": [
            "average reward per episode : 24.94\n",
            "--------------------\n",
            "20000 5000 0.995 0.5\n"
          ]
        },
        {
          "output_type": "stream",
          "name": "stderr",
          "text": [
            "100%|██████████| 5000/5000 [00:12<00:00, 412.27it/s]\n"
          ]
        },
        {
          "output_type": "stream",
          "name": "stdout",
          "text": [
            "Saving trained model\n"
          ]
        },
        {
          "output_type": "stream",
          "name": "stderr",
          "text": [
            "100%|██████████| 200/200 [00:02<00:00, 68.12it/s] \n"
          ]
        },
        {
          "output_type": "stream",
          "name": "stdout",
          "text": [
            "average reward per episode : 23.94\n",
            "--------------------\n",
            "20000 5000 0.95 1\n"
          ]
        },
        {
          "output_type": "stream",
          "name": "stderr",
          "text": [
            "100%|██████████| 5000/5000 [00:11<00:00, 444.37it/s]\n"
          ]
        },
        {
          "output_type": "stream",
          "name": "stdout",
          "text": [
            "Saving trained model\n"
          ]
        },
        {
          "output_type": "stream",
          "name": "stderr",
          "text": [
            "100%|██████████| 200/200 [00:03<00:00, 57.82it/s] \n"
          ]
        },
        {
          "output_type": "stream",
          "name": "stdout",
          "text": [
            "average reward per episode : 23.315\n",
            "--------------------\n",
            "20000 5000 0.95 0.5\n"
          ]
        },
        {
          "output_type": "stream",
          "name": "stderr",
          "text": [
            "100%|██████████| 5000/5000 [00:11<00:00, 423.97it/s]\n"
          ]
        },
        {
          "output_type": "stream",
          "name": "stdout",
          "text": [
            "Saving trained model\n"
          ]
        },
        {
          "output_type": "stream",
          "name": "stderr",
          "text": [
            "100%|██████████| 200/200 [00:02<00:00, 73.61it/s] \n"
          ]
        },
        {
          "output_type": "stream",
          "name": "stdout",
          "text": [
            "average reward per episode : 22.92\n",
            "--------------------\n",
            "20000 20000 0.995 1\n"
          ]
        },
        {
          "output_type": "stream",
          "name": "stderr",
          "text": [
            "100%|██████████| 20000/20000 [02:54<00:00, 114.82it/s]\n"
          ]
        },
        {
          "output_type": "stream",
          "name": "stdout",
          "text": [
            "Saving trained model\n"
          ]
        },
        {
          "output_type": "stream",
          "name": "stderr",
          "text": [
            "100%|██████████| 200/200 [00:04<00:00, 46.14it/s]\n"
          ]
        },
        {
          "output_type": "stream",
          "name": "stdout",
          "text": [
            "average reward per episode : 40.97\n",
            "--------------------\n",
            "20000 20000 0.995 0.5\n"
          ]
        },
        {
          "output_type": "stream",
          "name": "stderr",
          "text": [
            "100%|██████████| 20000/20000 [02:17<00:00, 145.47it/s]\n"
          ]
        },
        {
          "output_type": "stream",
          "name": "stdout",
          "text": [
            "Saving trained model\n"
          ]
        },
        {
          "output_type": "stream",
          "name": "stderr",
          "text": [
            "100%|██████████| 200/200 [00:02<00:00, 98.24it/s] \n"
          ]
        },
        {
          "output_type": "stream",
          "name": "stdout",
          "text": [
            "average reward per episode : 12.81\n",
            "--------------------\n",
            "20000 20000 0.95 1\n"
          ]
        },
        {
          "output_type": "stream",
          "name": "stderr",
          "text": [
            "100%|██████████| 20000/20000 [02:22<00:00, 140.45it/s]\n"
          ]
        },
        {
          "output_type": "stream",
          "name": "stdout",
          "text": [
            "Saving trained model\n"
          ]
        },
        {
          "output_type": "stream",
          "name": "stderr",
          "text": [
            "100%|██████████| 200/200 [00:02<00:00, 82.82it/s] \n"
          ]
        },
        {
          "output_type": "stream",
          "name": "stdout",
          "text": [
            "average reward per episode : 15.535\n",
            "--------------------\n",
            "20000 20000 0.95 0.5\n"
          ]
        },
        {
          "output_type": "stream",
          "name": "stderr",
          "text": [
            "100%|██████████| 20000/20000 [03:11<00:00, 104.40it/s]\n"
          ]
        },
        {
          "output_type": "stream",
          "name": "stdout",
          "text": [
            "Saving trained model\n"
          ]
        },
        {
          "output_type": "stream",
          "name": "stderr",
          "text": [
            "100%|██████████| 200/200 [00:02<00:00, 81.57it/s] \n"
          ]
        },
        {
          "output_type": "stream",
          "name": "stdout",
          "text": [
            "average reward per episode : 16.595\n"
          ]
        },
        {
          "output_type": "display_data",
          "data": {
            "text/plain": [
              "<Figure size 640x480 with 1 Axes>"
            ],
            "image/png": "[encoded data removed]"
          },
          "metadata": {}
        }
      ]
    },
    {
      "cell_type": "code",
      "source": [],
      "metadata": {
        "id": "LrJcAD5HavdS"
      },
      "execution_count": null,
      "outputs": []
    }
  ],
  "metadata": {
    "accelerator": "GPU",
    "colab": {
      "provenance": []
    },
    "kernelspec": {
      "display_name": "Python 3 (ipykernel)",
      "language": "python",
      "name": "python3"
    },
    "language_info": {
      "codemirror_mode": {
        "name": "ipython",
        "version": 3
      },
      "file_extension": ".py",
      "mimetype": "text/x-python",
      "name": "python",
      "nbconvert_exporter": "python",
      "pygments_lexer": "ipython3",
      "version": "3.7.13"
    }
  },
  "nbformat": 4,
  "nbformat_minor": 0
}