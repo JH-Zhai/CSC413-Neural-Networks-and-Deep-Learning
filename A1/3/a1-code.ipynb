{
  "cells": [
    {
      "cell_type": "markdown",
      "metadata": {
        "id": "-UUSJPdr3Ge_"
      },
      "source": [
        "# Starter code and data\n",
        "\n",
        "First, perform the required imports for your code:\n"
      ]
    },
    {
      "cell_type": "code",
      "execution_count": 1,
      "metadata": {
        "id": "CRwuwhoJ3Knl"
      },
      "outputs": [],
      "source": [
        "import collections\n",
        "import pickle\n",
        "import numpy as np\n",
        "import os\n",
        "from tqdm import tqdm\n",
        "from six.moves.urllib.request import urlretrieve\n",
        "import tarfile\n",
        "import sys\n",
        "import pylab\n",
        "import itertools\n",
        "\n",
        "TINY = 1e-30\n",
        "EPS = 1e-4\n",
        "nax = np.newaxis"
      ]
    },
    {
      "cell_type": "markdown",
      "metadata": {
        "id": "qNLvRXdy3NDO"
      },
      "source": [
        "If you're using colaboratory, this following script creates a folder - here we used 'CSC413/A1' - in order to download and store the data. If you're not using colaboratory, then set the path to wherever you want the contents to be stored at locally.\n",
        "\n",
        "You can also manually download and unzip the data from [http://www.cs.toronto.edu/~jba/a1_data.tar.gz] and put them in the same folder as where you store this notebook. \n",
        "\n",
        "Feel free to use a different way to access the files *data.pk* , *partially_trained.pk*, and *raw_sentences.txt*. \n",
        "\n",
        "The file *raw_sentences.txt* contains the sentences that we will be using for this assignment.\n",
        "These sentences are fairly simple ones and cover a vocabulary of only 250 words (+ 1 special `[MASK]` token word).\n",
        "\n",
        "\n",
        "\n"
      ]
    },
    {
      "cell_type": "code",
      "execution_count": 2,
      "metadata": {
        "id": "KUQjRpWqnkzk"
      },
      "outputs": [],
      "source": [
        "drive_location = 'data'\n",
        "PARTIALLY_TRAINED_MODEL = './data/partially_trained.pk'\n",
        "data_location = './data/data.pk'"
      ]
    },
    {
      "cell_type": "markdown",
      "metadata": {
        "id": "Qna9z_wJ3U5e"
      },
      "source": [
        "We have already extracted the 4-grams from this dataset and divided them into training, validation, and test sets.\n",
        "To inspect this data, run the following:"
      ]
    },
    {
      "cell_type": "code",
      "execution_count": 3,
      "metadata": {
        "id": "RD1LN16d3a0u"
      },
      "outputs": [
        {
          "name": "stdout",
          "output_type": "stream",
          "text": [
            "[MASK]\n",
            "all\n",
            "251\n",
            "['[MASK]', 'all', 'set', 'just', 'show', 'being', 'money', 'over', 'both', 'years', 'four', 'through', 'during', 'go', 'still', 'children', 'before', 'police', 'office', 'million', 'also', 'less', 'had', ',', 'including', 'should', 'to', 'only', 'going', 'under', 'has', 'might', 'do', 'them', 'good', 'around', 'get', 'very', 'big', 'dr.', 'game', 'every', 'know', 'they', 'not', 'world', 'now', 'him', 'school', 'several', 'like', 'did', 'university', 'companies', 'these', 'she', 'team', 'found', 'where', 'right', 'says', 'people', 'house', 'national', 'some', 'back', 'see', 'street', 'are', 'year', 'home', 'best', 'out', 'even', 'what', 'said', 'for', 'federal', 'since', 'its', 'may', 'state', 'does', 'john', 'between', 'new', ';', 'three', 'public', '?', 'be', 'we', 'after', 'business', 'never', 'use', 'here', 'york', 'members', 'percent', 'put', 'group', 'come', 'by', '$', 'on', 'about', 'last', 'her', 'of', 'could', 'days', 'against', 'times', 'women', 'place', 'think', 'first', 'among', 'own', 'family', 'into', 'each', 'one', 'down', 'because', 'long', 'another', 'such', 'old', 'next', 'your', 'market', 'second', 'city', 'little', 'from', 'would', 'few', 'west', 'there', 'political', 'two', 'been', '.', 'their', 'much', 'music', 'too', 'way', 'white', ':', 'was', 'war', 'today', 'more', 'ago', 'life', 'that', 'season', 'company', '-', 'but', 'part', 'court', 'former', 'general', 'with', 'than', 'those', 'he', 'me', 'high', 'made', 'this', 'work', 'up', 'us', 'until', 'will', 'ms.', 'while', 'officials', 'can', 'were', 'country', 'my', 'called', 'and', 'program', 'have', 'then', 'is', 'it', 'an', 'states', 'case', 'say', 'his', 'at', 'want', 'in', 'any', 'as', 'if', 'united', 'end', 'no', ')', 'make', 'government', 'when', 'american', 'same', 'how', 'mr.', 'other', 'take', 'which', 'department', '--', 'you', 'many', 'nt', 'day', 'week', 'play', 'used', \"'s\", 'though', 'our', 'who', 'yesterday', 'director', 'most', 'president', 'law', 'man', 'a', 'night', 'off', 'center', 'i', 'well', 'or', 'without', 'so', 'time', 'five', 'the', 'left']\n",
            "[[ 28  26  90 144]\n",
            " [184  44 249 117]\n",
            " [183  32  76 122]\n",
            " [117 247 201 186]\n",
            " [223 190 249   6]\n",
            " [ 42  74  26  32]\n",
            " [242  32 223  32]\n",
            " [223  32 158 144]\n",
            " [ 74  32 221  32]\n",
            " [ 42 192  91  68]]\n"
          ]
        }
      ],
      "source": [
        "data = pickle.load(open(data_location, 'rb'))\n",
        "print(data['vocab'][0]) # First word in vocab is [MASK] \n",
        "print(data['vocab'][1]) \n",
        "print(len(data['vocab'])) # Number of words in vocab\n",
        "print(data['vocab']) # All the words in vocab\n",
        "print(data['train_inputs'][:10]) # 10 example training instances"
      ]
    },
    {
      "cell_type": "markdown",
      "metadata": {
        "id": "lXd2Msqs3fPQ"
      },
      "source": [
        "Now `data` is a Python dict which contains the vocabulary, as well as the inputs and targets for all three splits of the data. `data['vocab']` is a list of the 251 words in the dictionary; `data['vocab'][0]` is the word with index 0, and so on. `data['train_inputs']` is a 372,500 x 4 matrix where each row gives the indices of the 4 consecutive context words for one of the 372,500 training cases.\n",
        "The validation and test sets are handled analogously.\n",
        "\n",
        "Even though you only have to modify two specific locations in the code, you may want to read through this code before starting the assignment. "
      ]
    },
    {
      "cell_type": "markdown",
      "metadata": {
        "id": "pa9ggqxJPPs0"
      },
      "source": [
        "# Part 4: Linear Embedding -- GloVe (3pts)\n",
        "\n",
        "In this section we will be implementing a simplified version of [GloVe](https://nlp.stanford.edu/pubs/glove.pdf).\n",
        "Given a corpus with $V$ distinct words, we define the co-occurrence matrix $X\\in \\mathbb{N}^{V\\times V}$ with entries $X_{ij}$ representing the frequency of the $i$-th word and $j$-th word in the corpus appearing in the same *context* - in our case the adjacent words. The co-occurrence matrix can be *symmetric* (i.e., $X_{ij} = X_{ji}$) if the order of the words do not matter, or *asymmetric* (i.e., $X_{ij} \\neq X_{ji}$) if we wish to distinguish the counts for when $i$-th word appears before $j$-th word. \n",
        "GloVe aims to find a $d$-dimensional embedding of the words that preserves properties of the co-occurrence matrix by representing the $i$-th word with two $d$-dimensional vectors $\\mathbf{w}_i,\\tilde{\\mathbf{w}}_i \\in\\mathbb{R}^d$, as well as two scalar biases $b_i, \\tilde{b}_i\\in\\mathbb{R}$. Typically we have the dimension of the embedding $d$ much smaller than the number of words $V$. This objective can be written as:\n",
        "\n",
        "$$L(\\{\\mathbf{w}_i,\\tilde{\\mathbf{w}}_i,b_i, \\tilde{b}_i\\}_{i=1}^V) = \\sum_{i,j=1}^V (\\mathbf{w}_i^\\top\\tilde{\\mathbf{w}}_j + b_i + \\tilde{b}_j - \\log X_{ij})^2$$\n",
        "\n",
        "Note that each word is represented by two $d$-dimensional embedding vectors $\\mathbf{w}_i, \\tilde{\\mathbf{w}}_i$ and two scalar biases $b_i, \\tilde{b}_i$.  When the bias terms are omitted and we tie the two embedding vectors $\\mathbf{w}_i =\\tilde{\\mathbf{w}}_i$, then GloVe corresponds to finding a rank-$d$ symmetric factorization of the co-occurrence matrix.\n",
        "\n"
      ]
    },
    {
      "cell_type": "markdown",
      "metadata": {
        "id": "rKbDkmuGoTCC"
      },
      "source": [
        "## 4.2 Expression for the Vectorized Loss function [0.5pt] \\[Type 1\\]\n",
        " In practice, we concatenate the $V$ embedding vectors into matrices $\\mathbf{W}, \\tilde{\\mathbf{W}} \\in \\mathbb{R}^{V \\times d}$ and bias (column) vectors $\\mathbf{b}, \\tilde{\\mathbf{b}} \\in \\mathbb{R}^{V}$, where $V$ denotes the number of distinct words as described in the introduction. Rewrite the loss function $L$ (Eq. 1) in a vectorized format in terms of $\\mathbf{W}, \\tilde{\\mathbf{W}}, \\mathbf{b}, \\tilde{\\mathbf{b}}, X$. You are allowed to use elementwise operations such as addition and subtraction as well as matrix operations such as the Frobenius norm and/or trace operator in your answer.\n",
        "        \n",
        "*Hint: Use the all-ones column vector $\\mathbf{1} = [1 \\dots 1]^{T} \\in \\mathbb{R}^{V}$. You can assume the bias vectors are column vectors, i.e. implicitly a matrix with $V$ rows and 1 column: $\\mathbf{b}, \\tilde{\\mathbf{b}} \\in \\mathbb{R}^{V \\times 1}$*\n",
        "\n",
        "*Hint: To prompt a GPT-like model, try naively copy-pasting the question, generate several answers several times, and check the generated answers.*"
      ]
    },
    {
      "attachments": {},
      "cell_type": "markdown",
      "metadata": {},
      "source": [
        "**Answer**:\n",
        "\n",
        "The vectorized form of the loss function is given by:\n",
        "\n",
        "$$L(\\mathbf{W},\\tilde{\\mathbf{W}},\\mathbf{b},\\tilde{\\mathbf{b}}) = \\left|(\\mathbf{W}^\\top\\tilde{\\mathbf{W}} + \\mathbf{b} \\mathbf{1}^\\top + \\mathbf{1} \\tilde{\\mathbf{b}}^\\top - \\log X)\\right|_F^2$$\n",
        "\n",
        "where $\\mathbf{1} \\in \\mathbb{R}^{V}$ is an all-ones column vector, and $\\left|\\cdot\\right|_F$ is the Frobenius norm.\n",
        "\n",
        "ChatGPT trace:\n",
        "\n",
        "![](assets/7qZWpvKHInhFk_p5bc3PESZD96GSWGSP93-vrsHz8OQ.original.fullsize.png)"
      ]
    },
    {
      "cell_type": "markdown",
      "metadata": {
        "id": "_vQIRZynyGpl"
      },
      "source": [
        "## 4.3. Expression for gradient $\\frac{\\partial L}{\\partial \\mathbf{W}}$ \\[0.5pt\\] \\[Type 2\\]\n",
        "\n",
        "Write the vectorized expression for $\\frac{\\partial L}{\\partial \\mathbf{W}}$, the gradient of the loss function $L$ with respect to the embedding matrix $\\mathbf{W}$. The gradient should be a function of $\\mathbf{W}, \\tilde{\\mathbf{W}}, \\mathbf{b}, \\tilde{\\mathbf{b}}, X$. \n",
        "\n",
        "*Hint: Make sure that the shape of the gradient is equivalent to the shape of the matrix. You can use the all-ones vector as in the previous question.*"
      ]
    },
    {
      "attachments": {},
      "cell_type": "markdown",
      "metadata": {},
      "source": [
        "**Answer**:\n",
        "\n",
        "The gradient of the loss function $L$ with respect to the embedding matrix $\\mathbf{W}$ is given by:\n",
        "\n",
        "$$\\frac{\\partial L}{\\partial \\mathbf{W}} = 2(\\mathbf{W}^\\top\\tilde{\\mathbf{W}} + \\mathbf{b} \\mathbf{1}^\\top + \\mathbf{1} \\tilde{\\mathbf{b}}^\\top - \\log X)\\tilde{\\mathbf{W}}$$\n",
        "\n",
        "**ChatGPT trace**:\n",
        "\n",
        "![](./assets/0YqF31v7XCUEnYE8hc44KdS7LtHGVd9_kP2dJlxfUW4.original.fullsize.png)"
      ]
    },
    {
      "cell_type": "markdown",
      "metadata": {
        "id": "jQJrG7fkpEOe"
      },
      "source": [
        "## 4.4 Implement Vectorized Loss Function [1pt] \\[Type 2\\]\n",
        "\n",
        "Implement the `loss_GloVe()` function of GloVe. \n",
        "\n",
        "**See** `YOUR CODE HERE` **Comment below for where to complete the code**\n",
        "\n",
        "Note that you need to implement both the loss for an *asymmetric* model (from your answer in question 1.2) and the loss for a *symmetric* model which uses the same embedding matrix $\\mathbf{W}$ and bias vector $\\mathbf{b}$ for the first and second word in the co-occurrence, i.e. $\\tilde{\\mathbf{W}} = \\mathbf{W}$ and $\\tilde{\\mathbf{b}} = \\mathbf{b}$ in the original loss.\n",
        "        \n",
        "*Hint: You may take advantage of NumPy's broadcasting feature for the bias vectors: https://numpy.org/doc/stable/user/basics.broadcasting.html*\n",
        "\n",
        "We have provided a few functions for training the embedding:\n",
        "\n",
        "*   `calculate_log_co_occurence` computes the log co-occurrence matrix of a given corpus\n",
        "*   `train_GloVe` runs momentum gradient descent to optimize the embedding\n",
        "*   `loss_GloVe`: **TO BE IMPLEMENTED.**\n",
        "  * INPUT \n",
        "      * V x d matrix `W` (collection of $V$ embedding vectors, each $d$-dimensional)\n",
        "      * V x d matrix `W_tilde` \n",
        "      * V x 1 vector `b` (collection of $V$ bias terms)\n",
        "      * V x 1 vector `b_tilde`\n",
        "      * V x V log co-occurrence matrix. \n",
        "  * OUTPUT\n",
        "      * loss of the GloVe objective\n",
        "*   `grad_GloVe`: **TO BE IMPLEMENTED.**\n",
        "  * INPUT:\n",
        "      * V x d matrix `W` (collection of $V$ embedding vectors, each $d$-dimensional), embedding for first word; \n",
        "      * V x d matrix `W_tilde`, embedding for second word; \n",
        "      * V x 1 vector `b` (collection of $V$ bias terms); \n",
        "      * V x 1 vector `b_tilde`, bias for second word; \n",
        "      * V x V log co-occurrence matrix. \n",
        "  * OUTPUT:\n",
        "      * V x d matrix `grad_W` containing the gradient of the loss function w.r.t. `W`;\n",
        "      * V x d matrix `grad_W_tilde` containing the gradient of the loss function w.r.t. `W_tilde`;\n",
        "      * V x 1 vector `grad_b` which is the gradient of the loss function w.r.t. `b`. \n",
        "      * V x 1 vector `grad_b_tilde` which is the gradient of the loss function w.r.t. `b_tilde`. \n",
        "\n",
        "Run the code to compute the co-occurence matrix.\n",
        "\n",
        "        "
      ]
    },
    {
      "cell_type": "code",
      "execution_count": 4,
      "metadata": {
        "id": "rw0IToBap3E2"
      },
      "outputs": [],
      "source": [
        "vocab_size = len(data['vocab']) # Number of vocabs\n",
        "\n",
        "def calculate_log_co_occurence(word_data, symmetric=False):\n",
        "  \"Compute the log-co-occurence matrix for our data.\"\n",
        "  log_co_occurence = np.zeros((vocab_size, vocab_size))\n",
        "  for input in word_data:\n",
        "    # Note: the co-occurence matrix may not be symmetric\n",
        "    log_co_occurence[input[0], input[1]] += 1\n",
        "    log_co_occurence[input[1], input[2]] += 1\n",
        "    log_co_occurence[input[2], input[3]] += 1\n",
        "    # Diagonal entries are just the frequency of the word\n",
        "    log_co_occurence[input[0], input[0]] += 1\n",
        "    log_co_occurence[input[1], input[1]] += 1\n",
        "    log_co_occurence[input[2], input[2]] += 1\n",
        "    log_co_occurence[input[3], input[3]] += 1\n",
        "    # If we want symmetric co-occurence can also increment for these.\n",
        "    if symmetric:\n",
        "      log_co_occurence[input[1], input[0]] += 1\n",
        "      log_co_occurence[input[2], input[1]] += 1\n",
        "      log_co_occurence[input[3], input[2]] += 1\n",
        "  delta_smoothing = 0.5  # A hyperparameter.  You can play with this if you want.\n",
        "  log_co_occurence += delta_smoothing  # Add delta so log doesn't break on 0's.\n",
        "  log_co_occurence = np.log(log_co_occurence)\n",
        "  return log_co_occurence\n",
        "\n",
        "asym_log_co_occurence_train = calculate_log_co_occurence(data['train_inputs'], symmetric=False)\n",
        "asym_log_co_occurence_valid = calculate_log_co_occurence(data['valid_inputs'], symmetric=False)"
      ]
    },
    {
      "cell_type": "markdown",
      "metadata": {
        "id": "7vbozDCFp8lD"
      },
      "source": [
        "* [ ] **TO BE IMPLEMENTED**: Implement the loss function. You should vectorize the computation, i.e. not loop over every word.\n",
        "\n",
        "*Hint: To prompt a GPT-like model, you may include in your prompt the vectorized loss formula derived in 4.2.*"
      ]
    },
    {
      "cell_type": "code",
      "execution_count": 67,
      "metadata": {
        "id": "U1zltFcrqFnq"
      },
      "outputs": [
        {
          "name": "stdout",
          "output_type": "stream",
          "text": [
            "1328584.8540725093\n",
            "1262403.2244261734\n"
          ]
        }
      ],
      "source": [
        "def loss_GloVe(W, W_tilde, b, b_tilde, log_co_occurence):\n",
        "    \"\"\" Compute the GloVe loss given the parameters of the model. When W_tilde \n",
        "    and b_tilde are not given, then the model is symmetric (i.e. W_tilde = W,\n",
        "    b_tilde = b). \n",
        "\n",
        "    Args:\n",
        "      W: word embedding matrix, dimension V x d where V is vocab size and d\n",
        "        is the embedding dimension\n",
        "      W_tilde: for asymmetric GloVe model, a second word embedding matrix, with\n",
        "        dimensions V x d\n",
        "      b: bias vector, dimension V x 1\n",
        "      b_tilde: for asymmetric GloVe model, a second bias vector, dimension V x 1\n",
        "      log_co_occurence: V x V log co-occurrence matrix (log X)\n",
        "\n",
        "    Returns:\n",
        "      loss: a scalar (float) for GloVe loss\n",
        "\n",
        "    $$\n",
        "    L(\\mathbf{W}, \\tilde{\\mathbf{W}}, \\mathbf{b}, \\tilde{\\mathbf{b}})=\\left|\\left(\\mathbf{W}^{\\top} \\tilde{\\mathbf{W}}+\\mathbf{b} \\mathbf{1}^{\\top}+\\mathbf{1} \\tilde{\\mathbf{b}}^{\\top}-\\log X\\right)\\right|_F^2\n",
        "    $$\n",
        "    \"\"\"\n",
        "    n, _ = log_co_occurence.shape\n",
        "    # Symmetric Case, no W_tilde and b_tilde\n",
        "    if W_tilde is None and b_tilde is None:\n",
        "        # Symmetric model\n",
        "        ###########################   YOUR CODE HERE  ##############################\n",
        "        loss = np.sum((np.matmul(W, W.T) + b + b.T - log_co_occurence)**2)\n",
        "        ############################################################################\n",
        "    else:\n",
        "        # Asymmetric model\n",
        "        ###########################   YOUR CODE HERE  ##############################\n",
        "        loss = np.sum((np.matmul(W, W_tilde.T) + b + b_tilde.T - log_co_occurence)**2)\n",
        "        ############################################################################\n",
        "    return loss\n",
        "\n",
        "\n",
        "# testing the loss function\n",
        "W = np.random.randn(vocab_size, 16)\n",
        "W_tilde = np.random.randn(vocab_size, 16)\n",
        "b = np.random.randn(vocab_size, 1)\n",
        "b_tilde = np.random.randn(vocab_size, 1)\n",
        "\n",
        "print(loss_GloVe(W, W_tilde, b, b_tilde, asym_log_co_occurence_train))\n",
        "print(loss_GloVe(W, None, b, None, asym_log_co_occurence_train))\n"
      ]
    },
    {
      "attachments": {},
      "cell_type": "markdown",
      "metadata": {},
      "source": [
        "**ChatGPT trace:**\n",
        "\n",
        "![](assets/BTJ149_fKYVedcP0hMF8_Wc2keHhjYcD-d8G6DfVu5Y.original.fullsize.png)\n",
        "\n",
        "![](assets/TR3kGYrAqYVzoGnrus-54SdmSgarekZdQ0CZV0KUjPY.original.fullsize.png)"
      ]
    },
    {
      "cell_type": "markdown",
      "metadata": {
        "id": "HzWek3lP0p2e"
      },
      "source": [
        "## 4.5.  Implement the gradient update of GloVe. \\[1pt\\] \\[Type 2\\]\n",
        "\n",
        "Implement the `grad_GloVe()` function which computes the gradient of GloVe.\n",
        "\n",
        "**See** `YOUR CODE HERE` **Comment below for where to complete the code**\n",
        "\n",
        "\n",
        "Again, note that you need to implement the gradient for both the symmetric and asymmetric models. "
      ]
    },
    {
      "cell_type": "markdown",
      "metadata": {
        "id": "gNnKkMy-d2bB"
      },
      "source": [
        "* [ ] **TO BE IMPLEMENTED**: Calculate the gradient of the loss function w.r.t. the parameters $W$, $\\tilde{W}$, $\\mathbf{b}$, and $\\mathbf{b}$. You should vectorize the computation, i.e. not loop over every word.\n",
        "\n",
        "*Hint: To prompt a GPT-like model, you may include the GloVe loss implementation in 4.4.*"
      ]
    },
    {
      "cell_type": "code",
      "execution_count": 75,
      "metadata": {
        "id": "LbpkXeaAdwnj"
      },
      "outputs": [],
      "source": [
        "def grad_GloVe(W, W_tilde, b, b_tilde, log_co_occurence):\n",
        "  \"\"\"Return the gradient of GloVe objective w.r.t its parameters\n",
        "  Args:\n",
        "    W: word embedding matrix, dimension V x d where V is vocab size and d\n",
        "      is the embedding dimension\n",
        "    W_tilde: for asymmetric GloVe model, a second word embedding matrix, with\n",
        "      dimensions V x d\n",
        "    b: bias vector, dimension V x 1\n",
        "    b_tilde: for asymmetric GloVe model, a second bias vector, dimension V x 1\n",
        "    log_co_occurence: V x V log co-occurrence matrix (log X)\n",
        "  \n",
        "  Returns:\n",
        "    grad_W: gradient of the loss wrt W, dimension V x d\n",
        "    grad_W_tilde: gradient of the loss wrt W_tilde, dimension V x d. Return \n",
        "      None if W_tilde is None.\n",
        "    grad_b: gradient of the loss wrt b, dimension V x 1\n",
        "    grad_b_tilde: gradient of the loss wrt b, dimension V x 1. Return \n",
        "      None if b_tilde is None.\n",
        "  $$\n",
        "  \\begin{aligned}\n",
        "  \\frac{\\partial L}{\\partial \\mathbf{W}} & =2\\left(\\mathbf{W}^{\\top} \\tilde{\\mathbf{W}}+\\mathbf{b} \\mathbf{1}^{\\top}+\\mathbf{1} \\tilde{\\mathbf{b}}^{\\top}-\\log X\\right) \\tilde{\\mathbf{W}}^{\\top} \\\\\n",
        "  \\frac{\\partial L}{\\partial \\tilde{\\mathbf{W}}} & =2\\left(\\mathbf{W}^{\\top} \\tilde{\\mathbf{W}}+\\mathbf{b} \\mathbf{1}^{\\top}+\\mathbf{1} \\tilde{\\mathbf{b}}^{\\top}-\\log X\\right) \\mathbf{W}^{\\top} \\\\\n",
        "  \\frac{\\partial L}{\\partial \\mathbf{b}} & =2\\left(\\mathbf{W}^{\\top} \\tilde{\\mathbf{W}}+\\mathbf{b} \\mathbf{1}^{\\top}+\\mathbf{1} \\tilde{\\mathbf{b}}^{\\top}-\\log X\\right) \\mathbf{1} \\\\\n",
        "  \\frac{\\partial L}{\\partial \\tilde{\\mathbf{b}}} & =2\\left(\\mathbf{W}^{\\top} \\tilde{\\mathbf{W}}+\\mathbf{b} \\mathbf{1}^{\\top}+\\mathbf{1} \\tilde{\\mathbf{b}}^{\\top}-\\log X\\right) \\mathbf{1}\n",
        "  \\end{aligned}\n",
        "  $$\n",
        "  \"\"\"\n",
        "  n,_ = log_co_occurence.shape\n",
        "  \n",
        "  # print(W.shape)\n",
        "  # print(W_tilde.shape)\n",
        "  # print(b.shape)\n",
        "  # print(b_tilde.shape)\n",
        "  # print(log_co_occurence.shape)\n",
        "  \n",
        "  # (251, 16)\n",
        "  # (251, 16)\n",
        "  # (251, 1)\n",
        "  # (251, 1)\n",
        "  # (251, 251)\n",
        "  \n",
        "  if W_tilde is None and b_tilde is None:\n",
        "    # Symmmetric case\n",
        "    error = np.matmul(W,W.T) + b + b.T - log_co_occurence\n",
        "    grad_W = 2 * np.matmul(error, W)\n",
        "    grad_W_tilde = None\n",
        "    grad_b = 2 * np.matmul(error, np.ones((n,1)))\n",
        "    grad_b_tilde = None\n",
        "  else:\n",
        "    # Asymmetric case\n",
        "    error = np.matmul(W,W_tilde.T) + b + b_tilde.T - log_co_occurence\n",
        "    grad_W = 2 * np.matmul(error, W_tilde)\n",
        "    grad_W_tilde = 2 * np.matmul(error.T, W)\n",
        "    grad_b = 2 * np.matmul(error, np.ones((n,1)))\n",
        "    grad_b_tilde = 2 * np.matmul(error, np.ones((n,1)))\n",
        "    \n",
        "  return grad_W, grad_W_tilde, grad_b, grad_b_tilde\n",
        "\n",
        "# np.random.seed(0)\n",
        "\n",
        "# # Store the final losses for graphing\n",
        "# init_variance = 0.05  # A hyperparameter.  You can play with this if you want.\n",
        "# embedding_dim = 16\n",
        "# W = init_variance * np.random.normal(size=(vocab_size, embedding_dim))\n",
        "# W_tilde = init_variance * np.random.normal(size=(vocab_size, embedding_dim))\n",
        "# b = init_variance * np.random.normal(size=(vocab_size, 1))\n",
        "# b_tilde = init_variance * np.random.normal(size=(vocab_size, 1))\n",
        "\n",
        "# grad_GloVe(W, W_tilde, b, b_tilde, asym_log_co_occurence_train)"
      ]
    },
    {
      "attachments": {},
      "cell_type": "markdown",
      "metadata": {},
      "source": [
        "**ChatGPT trace**\n",
        "\n",
        "![](assets/Gyt5K9STj1baO5i2xu6aUq5Y6_L-rl1amrcrmUa-140.original.fullsize.png)\n",
        "\n",
        "![](assets/IB16KZxcx7OI4xCJMHKL0GyUN2vKFFvBf3bCkYLlOx8.original.fullsize.png)"
      ]
    },
    {
      "attachments": {},
      "cell_type": "markdown",
      "metadata": {
        "id": "U5_CAJ0VxzI3"
      },
      "source": [
        "To help you debug your GloVe gradient computation, we have included a finite-difference gradien checker function defined below:"
      ]
    },
    {
      "cell_type": "code",
      "execution_count": 68,
      "metadata": {
        "id": "HNiv-P0or6gt"
      },
      "outputs": [],
      "source": [
        "def relative_error(a, b):\n",
        "    return np.abs(a - b) / (np.abs(a) + np.abs(b))\n",
        " \n",
        "def check_GloVe_gradients(W, W_tilde, b, b_tilde, log_co_occurence):\n",
        "    \"\"\"Check the computed gradients using finite differences.\"\"\"\n",
        "    np.random.seed(0)\n",
        "    np.seterr(all='ignore')  # suppress a warning which is harmless\n",
        "\n",
        "    # Obtain the analytical gradient\n",
        "    grad_W, grad_W_tilde, grad_b, grad_b_tilde = grad_GloVe(W, W_tilde, b, b_tilde, log_co_occurence)\n",
        "    grads_dict = {\"W\":grad_W, \"W_tilde\": grad_W_tilde, \n",
        "                      \"b\": grad_b, \"b_tilde\": grad_b_tilde}\n",
        "\n",
        "    params_dict = {\"W\":W, \"W_tilde\":W_tilde, \"b\":b, \"b_tilde\":b_tilde}\n",
        "\n",
        "    # Check that the shapes of the parameters and gradients match\n",
        "    for name in params_dict:\n",
        "      if params_dict[name] is None:\n",
        "        continue\n",
        "      dims = params_dict[name].shape\n",
        "      is_matrix = (len(dims) == 2)\n",
        "      if not is_matrix:\n",
        "        print()\n",
        "\n",
        "      if params_dict[name].shape != grads_dict[name].shape:\n",
        "        print('The gradient for {} should be size {} but is actually {}.'.format(\n",
        "            name, params_dict[name].shape, grads_dict[name].shape))\n",
        "        return\n",
        "\n",
        "      # Run finite difference for that param\n",
        "      for count in range(1000):\n",
        "        if is_matrix:\n",
        "            slc = np.random.randint(0, dims[0]), np.random.randint(0, dims[1])\n",
        "        else:\n",
        "            slc = np.random.randint(dims[0])\n",
        "        \n",
        "        params_dict_plus = params_dict.copy()\n",
        "        params_dict_plus[name] = params_dict[name].copy()\n",
        "        params_dict_plus[name][slc] += EPS\n",
        "        obj_plus = loss_GloVe(params_dict_plus[\"W\"], \n",
        "                              params_dict_plus[\"W_tilde\"], \n",
        "                              params_dict_plus[\"b\"],\n",
        "                              params_dict_plus[\"b_tilde\"],\n",
        "                              log_co_occurence)\n",
        "\n",
        "        params_dict_minus = params_dict.copy()\n",
        "        params_dict_minus[name] = params_dict[name].copy()\n",
        "        params_dict_minus[name][slc] -= EPS\n",
        "        obj_minus = loss_GloVe(params_dict_minus[\"W\"], \n",
        "                              params_dict_minus[\"W_tilde\"], \n",
        "                              params_dict_minus[\"b\"],\n",
        "                              params_dict_minus[\"b_tilde\"],\n",
        "                              log_co_occurence)\n",
        "\n",
        "        empirical = (obj_plus - obj_minus) / (2. * EPS)\n",
        "        exact = grads_dict[name][slc]\n",
        "        rel = relative_error(empirical, exact)\n",
        "        if rel > 5e-4:\n",
        "          print('The loss derivative has a relative error of {}, which is too large for param {}.'.format(rel, name))\n",
        "          print(empirical)\n",
        "          print(exact)\n",
        "          return False\n",
        "      print('The gradient for {} looks OK.'.format(name))"
      ]
    },
    {
      "cell_type": "markdown",
      "metadata": {
        "id": "4TyVFJtax8Dd"
      },
      "source": [
        "Run the cell below to check if your `grad_GloVe` function passes the checker. The function will check for both the symmetric and asymmetric loss, for each of the parameter variables whether its gradient computation looks ok. The expected output is:\n",
        "\n",
        "```\n",
        "Checking asymmetric loss gradient...\n",
        "The gradient for W looks OK.\n",
        "The gradient for W_tilde looks OK.\n",
        "The gradient for b looks OK.\n",
        "The gradient for b_tilde looks OK.\n",
        "\n",
        "Checking symmetric loss gradient...\n",
        "The gradient for W looks OK.\n",
        "The gradient for b looks OK.\n",
        "```\n",
        "\n",
        "Note: If you update the `grad_GloVe` cell while debugging, make sure to run the `grad_GloVe` cell again before re-running the cell below to check the gradient.\n",
        "\n",
        "- [ ] **TODO**: Run this cell below to check the gradient implementation"
      ]
    },
    {
      "cell_type": "code",
      "execution_count": 76,
      "metadata": {
        "id": "SY5scli4sPKP"
      },
      "outputs": [
        {
          "name": "stdout",
          "output_type": "stream",
          "text": [
            "Checking asymmetric loss gradient...\n",
            "The gradient for W looks OK.\n",
            "The gradient for W_tilde looks OK.\n",
            "The gradient for b looks OK.\n",
            "The loss derivative has a relative error of 1.0, which is too large for param b_tilde.\n",
            "-18.510645750211552\n",
            "87.45658387528688\n",
            "\n",
            "Checking symmetric loss gradient...\n",
            "The loss derivative has a relative error of 1.0, which is too large for param W.\n",
            "-0.4959737998433411\n",
            "0.47961455453046875\n"
          ]
        },
        {
          "data": {
            "text/plain": [
              "False"
            ]
          },
          "execution_count": 76,
          "metadata": {},
          "output_type": "execute_result"
        }
      ],
      "source": [
        "np.random.seed(0)\n",
        "\n",
        "# Store the final losses for graphing\n",
        "init_variance = 0.05  # A hyperparameter.  You can play with this if you want.\n",
        "embedding_dim = 16\n",
        "W = init_variance * np.random.normal(size=(vocab_size, embedding_dim))\n",
        "W_tilde = init_variance * np.random.normal(size=(vocab_size, embedding_dim))\n",
        "b = init_variance * np.random.normal(size=(vocab_size, 1))\n",
        "b_tilde = init_variance * np.random.normal(size=(vocab_size, 1))\n",
        "\n",
        "print(\"Checking asymmetric loss gradient...\")\n",
        "check_GloVe_gradients(W, W_tilde, b, b_tilde, asym_log_co_occurence_train)\n",
        "\n",
        "print(\"\\nChecking symmetric loss gradient...\")\n",
        "check_GloVe_gradients(W, None, b, None, asym_log_co_occurence_train)"
      ]
    },
    {
      "cell_type": "markdown",
      "metadata": {
        "id": "DXJBYGqX6hP_"
      },
      "source": [
        "Now that you have checked taht the gradient is correct, we define the training function for the model given the initial weights and ground truth log co-occurence matrix:"
      ]
    },
    {
      "cell_type": "code",
      "execution_count": 35,
      "metadata": {
        "id": "sefu3T7u6jBL"
      },
      "outputs": [],
      "source": [
        "def train_GloVe(W, W_tilde, b, b_tilde, log_co_occurence_train, log_co_occurence_valid, n_epochs, do_print=False):\n",
        "  \"Traing W and b according to GloVe objective.\"\n",
        "  n,_ = log_co_occurence_train.shape\n",
        "  learning_rate = 0.05 / n  # A hyperparameter.  You can play with this if you want.\n",
        "  train_loss_list = np.zeros(n_epochs)\n",
        "  valid_loss_list = np.zeros(n_epochs)\n",
        "  vocab_size = log_co_occurence_train.shape[0]\n",
        "\n",
        "  for epoch in range(n_epochs):\n",
        "    grad_W, grad_W_tilde, grad_b, grad_b_tilde = grad_GloVe(W, W_tilde, b, b_tilde, log_co_occurence_train)\n",
        "    W = W - learning_rate * grad_W\n",
        "    b = b - learning_rate * grad_b\n",
        "    if not grad_W_tilde is None and not grad_b_tilde is None:\n",
        "      W_tilde = W_tilde - learning_rate * grad_W_tilde\n",
        "      b_tilde = b_tilde - learning_rate * grad_b_tilde\n",
        "    train_loss, valid_loss = loss_GloVe(W, W_tilde, b, b_tilde, log_co_occurence_train), loss_GloVe(W, W_tilde, b, b_tilde, log_co_occurence_valid)\n",
        "    if do_print:\n",
        "      print(f\"Average Train Loss: {train_loss / vocab_size}, Average valid loss: {valid_loss / vocab_size}, grad_norm: {np.sum(grad_W**2)}\")\n",
        "    train_loss_list[epoch] = train_loss / vocab_size\n",
        "    valid_loss_list[epoch] = valid_loss / vocab_size\n",
        "\n",
        "  return W, W_tilde, b, b_tilde, train_loss_list, valid_loss_list"
      ]
    },
    {
      "cell_type": "markdown",
      "metadata": {
        "id": "AwmBLMvKGE9-"
      },
      "source": [
        "- [ ] **TODO**: Run this cell below to run an experiment training GloVe model "
      ]
    },
    {
      "cell_type": "code",
      "execution_count": 70,
      "metadata": {
        "id": "eIbyEcyhFwDC"
      },
      "outputs": [
        {
          "data": {
            "image/png": "[encoded data removed]",
            "text/plain": [
              "<Figure size 640x480 with 1 Axes>"
            ]
          },
          "metadata": {},
          "output_type": "display_data"
        }
      ],
      "source": [
        "### TODO: Run this cell ###\n",
        "np.random.seed(1)\n",
        "n_epochs = 500  # A hyperparameter.  You can play with this if you want.\n",
        "\n",
        "# Store the final losses for graphing\n",
        "do_print = False  # If you want to see diagnostic information during training\n",
        "init_variance = 0.1  # A hyperparameter.  You can play with this if you want.\n",
        "embedding_dim = 16\n",
        "W = init_variance * np.random.normal(size=(vocab_size, embedding_dim))\n",
        "W_tilde = init_variance * np.random.normal(size=(vocab_size, embedding_dim))\n",
        "b = init_variance * np.random.normal(size=(vocab_size, 1))\n",
        "b_tilde = init_variance * np.random.normal(size=(vocab_size, 1))\n",
        "\n",
        "# Run the training for the asymmetric and symmetric GloVe model\n",
        "Asym_W_final, Asym_W_tilde_final, Asym_b_final, Asym_b_tilde_final, Asym_train_loss_list, Asym_valid_loss_list = train_GloVe(W, W_tilde, b, b_tilde, asym_log_co_occurence_train, asym_log_co_occurence_valid, n_epochs, do_print=do_print)\n",
        "Sym_W_final, Sym_W_tilde_final, Sym_b_final, Sym_b_tilde_final, Sym_train_loss_list, Sym_valid_loss_list = train_GloVe(W, None, b, None, asym_log_co_occurence_train, asym_log_co_occurence_valid, n_epochs, do_print=do_print)\n",
        "\n",
        "# Plot the resulting training curve\n",
        "pylab.plot(Asym_train_loss_list, label=\"Asym Train Loss\", color='red')\n",
        "pylab.plot(Asym_valid_loss_list, label=\"Asym Valid Loss\", color='red', linestyle='--')\n",
        "pylab.plot(Sym_train_loss_list, label=\"Sym Train Loss\", color='blue')\n",
        "pylab.plot(Sym_valid_loss_list, label=\"Sym Valid Loss\", color='blue', linestyle='--')\n",
        "pylab.xlabel(\"Iterations\")\n",
        "pylab.ylabel(\"Average GloVe Loss\")\n",
        "pylab.title(\"Asymmetric and Symmetric GloVe Model on Asymmetric Log Co-Occurrence (Emb Dim={})\".format(embedding_dim))\n",
        "pylab.legend()\n",
        "pylab.show()"
      ]
    },
    {
      "cell_type": "markdown",
      "metadata": {
        "id": "7YwDZcOhjywe"
      },
      "source": [
        "# Part 5: Neural Language Model Network architecture (2pt)\n",
        "See the handout for the written questions in this part.\n",
        "\n",
        "## Answer the following questions"
      ]
    },
    {
      "cell_type": "markdown",
      "metadata": {
        "id": "wBQmEPvazDkA"
      },
      "source": [
        "## 5.1. Number of parameters in neural network model \\[1pt\\] \\[Type 2\\]\n",
        "\n",
        "The trainable parameters of the model consist of 3 weight matrices and 2 sets of biases. What is the total number of trainable parameters in the model, as a function of $V,N,D,H$? \n",
        "\n",
        "In the diagram given, which part of the model (i.e., `word_embbeding_weights`, `embed_to_hid_weights`, `hid_to_output_weights`, `hid_bias`, or `output_bias`) has the largest number of trainable parameters if we have the constraint that $V \\gg H > D > N$? Note: The symbol $\\gg$ means ``much greater than\" Explain your reasoning. \n"
      ]
    },
    {
      "attachments": {},
      "cell_type": "markdown",
      "metadata": {
        "id": "CJKJ7qi9zVAm"
      },
      "source": [
        "**Answer**\n",
        "\n",
        "The total number of trainable parameters in the model is given by the sum of the number of parameters in each of the 3 weight matrices and 2 sets of biases:\n",
        "\n",
        "    Word Embedding Weights matrix: V x D parameters\n",
        "    Embedding to Hidden Weights matrix: H x (N x D) parameters\n",
        "    Hidden to Output Weights matrix: V x H x N parameters\n",
        "    Hidden biases: H parameters\n",
        "    Output biases: V parameters\n",
        "\n",
        "Therefore, the total number of parameters is V x D + H x (N x D) + V x H x N + H + V.\n",
        "\n",
        "If we have the constraint that V ≫ H > D > N, then the part of the model with the largest number of parameters is the Hidden to Output Weights matrix, which has V x H x N parameters.\n",
        "\n",
        "**ChatGPT Trace**\n",
        "\n",
        "![](assets/uley6z0Jv3v3s61FrbVj0mQhd7YNAHb_4r-N5lzA6hk.original.fullsize.png)"
      ]
    },
    {
      "cell_type": "markdown",
      "metadata": {
        "id": "Cx_h25zYzVWJ"
      },
      "source": [
        "## 5.2 Number of parameters in $n$-gram model \\[1pt\\] \\[Type 1\\]\n",
        "Another method for predicting the next words is an *n-gram model*, which was mentioned in Lecture 3. If we wanted to use an n-gram model with the same context length $N-1$ as our network (since we mask 1 of the $N$ words in our input), we'd need to store the counts of all possible $N$-grams. If we stored all the counts explicitly and suppose that we have $V$ words in the dictionary, how many entries would this table have?"
      ]
    },
    {
      "attachments": {},
      "cell_type": "markdown",
      "metadata": {
        "id": "n4hTwsjTzXvi"
      },
      "source": [
        "**Answer**\n",
        "\n",
        "In an n-gram model with context length $N-1$, we need to store the counts of all possible $N$-grams. The number of possible $N$-grams is given by $V^{N}$. This is because for each of the $N$ words in the $N$-gram, there are $V$ possible words that could be chosen from the dictionary.\n",
        "\n",
        "Therefore, the table for storing the counts of all possible $N$-grams would have $V^{N}$ entries.\n",
        "\n",
        "**ChatGPT Trace**\n",
        "\n",
        "![](assets/zfVg9vhYcluKshljWFkFsUIrdQYzYQ0f9NN7j_qClhU.original.fullsize.png)"
      ]
    },
    {
      "cell_type": "markdown",
      "metadata": {
        "id": "C8FZTyrzlCNl"
      },
      "source": [
        "# Part 6: Training the Neural Network (2pts)\n"
      ]
    },
    {
      "cell_type": "markdown",
      "metadata": {
        "id": "ua0qkOH1tqHw"
      },
      "source": [
        "In this part, you will learn to implement and train the neural language model from Figure 1. As described in the previous section, during training, we randomly sample one of the $N$ context words to replace with a `[MASK]` token. The goal is for the network to predict the word that was masked, at the corresponding output word position. In practice, this `[MASK]` token is assigned the index 0 in our dictionary. The weights $W^{(2)}$ = `hid_to_output_weights` now has the shape $NV \\times H$, as the output layer has $NV$ neurons, where the first $V$ output units are for predicting the first word, then the next $V$ are for predicting the second word, and so on. \n",
        "        We call this as *concatenating* output units across all word positions, i.e. the $(v + nV)$-th column is for the word $v$ in vocabulary for the $n$-th output word position. \n",
        "        Note here that the softmax is applied in chunks of $V$ as well, to give a valid probability distribution over the $V$ words (For simplicity we also include the `[MASK]` token as one of the possible prediction even though we know the target should not be this token). Only the output word positions that were masked in the input are included in the cross entropy loss calculation:\n",
        "\n",
        "$$C = -\\sum_{i}^{B}\\sum_{n}^{N}\\sum_{v}^{V} m^{(i)}_{n} (t^{(i)}_{v + nV} \\log y^{(i)}_{v + nV})$$\n",
        "\n",
        "Where:\n",
        "*  $y^{(i)}_{v + nV}$ denotes the output probability prediction from the neural network for the $i$-th training example for the word $v$ in the $n$-th output word. Denoting $z$ as the logits output, we define the output probability $y$ as a softmax on $z$ over contiguous chunks of $V$ units (see also Figure 1): \n",
        "\n",
        "$$y^{(i)}_{v + nV} = \\frac{e^{z^{(i)}_{v+nV}}}{\\sum_{l}^{V} e^{z^{(i)}_{l+nV}}}$$\n",
        "* $t^{(i)}_{v + nV}  \\in \\{0,1\\}$ is 1 if for the $i$-th training example, the word $v$ is the $n$-th word in context\n",
        "* $m^{(i)}_{n} \\in \\{0,1\\}$ is a mask that is set to 1 if we are predicting the $n$-th word position for the $i$-th example (because we had masked that word in the input), and 0 otherwise\n",
        "\n",
        "There are three classes defined in this part: `Params`, `Activations`, `Model`.\n",
        "You will make changes to `Model`, but it may help to read through `Params` and `Activations` first."
      ]
    },
    {
      "cell_type": "code",
      "execution_count": 77,
      "metadata": {
        "id": "EfGEjB3QLNXf"
      },
      "outputs": [],
      "source": [
        "class Params(object):\n",
        "    \"\"\"A class representing the trainable parameters of the model. This class has five fields:\n",
        "    \n",
        "           word_embedding_weights, a matrix of size V x D, where V is the number of words in the vocabulary\n",
        "                   and D is the embedding dimension.\n",
        "           embed_to_hid_weights, a matrix of size H x ND, where H is the number of hidden units. The first D\n",
        "                   columns represent connections from the embedding of the first context word, the next D columns\n",
        "                   for the second context word, and so on. There are N context words.\n",
        "           hid_bias, a vector of length H\n",
        "           hid_to_output_weights, a matrix of size NV x H\n",
        "           output_bias, a vector of length NV\"\"\"\n",
        "\n",
        "    def __init__(self, word_embedding_weights, embed_to_hid_weights, hid_to_output_weights,\n",
        "                 hid_bias, output_bias):\n",
        "        self.word_embedding_weights = word_embedding_weights\n",
        "        self.embed_to_hid_weights = embed_to_hid_weights\n",
        "        self.hid_to_output_weights = hid_to_output_weights\n",
        "        self.hid_bias = hid_bias\n",
        "        self.output_bias = output_bias\n",
        "\n",
        "    def copy(self):\n",
        "        return self.__class__(self.word_embedding_weights.copy(), self.embed_to_hid_weights.copy(),\n",
        "                              self.hid_to_output_weights.copy(), self.hid_bias.copy(), self.output_bias.copy())\n",
        "\n",
        "    @classmethod\n",
        "    def zeros(cls, vocab_size, context_len, embedding_dim, num_hid):\n",
        "        \"\"\"A constructor which initializes all weights and biases to 0.\"\"\"\n",
        "        word_embedding_weights = np.zeros((vocab_size, embedding_dim))\n",
        "        embed_to_hid_weights = np.zeros((num_hid, context_len * embedding_dim))\n",
        "        hid_to_output_weights = np.zeros((vocab_size * context_len, num_hid))\n",
        "        hid_bias = np.zeros(num_hid)\n",
        "        output_bias = np.zeros(vocab_size * context_len)\n",
        "        return cls(word_embedding_weights, embed_to_hid_weights, hid_to_output_weights,\n",
        "                   hid_bias, output_bias)\n",
        "\n",
        "    @classmethod\n",
        "    def random_init(cls, init_wt, vocab_size, context_len, embedding_dim, num_hid):\n",
        "        \"\"\"A constructor which initializes weights to small random values and biases to 0.\"\"\"\n",
        "        word_embedding_weights = np.random.normal(0., init_wt, size=(vocab_size, embedding_dim))\n",
        "        embed_to_hid_weights = np.random.normal(0., init_wt, size=(num_hid, context_len * embedding_dim))\n",
        "        hid_to_output_weights = np.random.normal(0., init_wt, size=(vocab_size * context_len, num_hid))\n",
        "        hid_bias = np.zeros(num_hid)\n",
        "        output_bias = np.zeros(vocab_size * context_len)\n",
        "        return cls(word_embedding_weights, embed_to_hid_weights, hid_to_output_weights,\n",
        "                   hid_bias, output_bias)\n",
        "\n",
        "    ###### The functions below are Python's somewhat oddball way of overloading operators, so that\n",
        "    ###### we can do arithmetic on Params instances. You don't need to understand this to do the assignment.\n",
        "\n",
        "    def __mul__(self, a):\n",
        "        return self.__class__(a * self.word_embedding_weights,\n",
        "                              a * self.embed_to_hid_weights,\n",
        "                              a * self.hid_to_output_weights,\n",
        "                              a * self.hid_bias,\n",
        "                              a * self.output_bias)\n",
        "\n",
        "    def __rmul__(self, a):\n",
        "        return self * a\n",
        "\n",
        "    def __add__(self, other):\n",
        "        return self.__class__(self.word_embedding_weights + other.word_embedding_weights,\n",
        "                              self.embed_to_hid_weights + other.embed_to_hid_weights,\n",
        "                              self.hid_to_output_weights + other.hid_to_output_weights,\n",
        "                              self.hid_bias + other.hid_bias,\n",
        "                              self.output_bias + other.output_bias)\n",
        "\n",
        "    def __sub__(self, other):\n",
        "        return self + -1. * other"
      ]
    },
    {
      "cell_type": "code",
      "execution_count": 78,
      "metadata": {
        "id": "k6XFQUPsLSi7"
      },
      "outputs": [],
      "source": [
        "class Activations(object):\n",
        "    \"\"\"A class representing the activations of the units in the network. This class has three fields:\n",
        "\n",
        "        embedding_layer, a matrix of B x ND matrix (where B is the batch size, D is the embedding dimension,\n",
        "                and N is the number of input context words), representing the activations for the embedding \n",
        "                layer on all the cases in a batch. The first D columns represent the embeddings for the \n",
        "                first context word, and so on.\n",
        "        hidden_layer, a B x H matrix representing the hidden layer activations for a batch\n",
        "        output_layer, a B x V matrix representing the output layer activations for a batch\"\"\"\n",
        "\n",
        "    def __init__(self, embedding_layer, hidden_layer, output_layer):\n",
        "        self.embedding_layer = embedding_layer\n",
        "        self.hidden_layer = hidden_layer\n",
        "        self.output_layer = output_layer\n",
        "\n",
        "def get_batches(inputs, batch_size, shuffle=True):\n",
        "    \"\"\"Divide a dataset (usually the training set) into mini-batches of a given size. This is a\n",
        "    'generator', i.e. something you can use in a for loop. You don't need to understand how it\n",
        "    works to do the assignment.\"\"\"\n",
        "\n",
        "    if inputs.shape[0] % batch_size != 0:\n",
        "        raise RuntimeError('The number of data points must be a multiple of the batch size.')\n",
        "    num_batches = inputs.shape[0] // batch_size\n",
        "\n",
        "    if shuffle:\n",
        "        idxs = np.random.permutation(inputs.shape[0])\n",
        "        inputs = inputs[idxs, :]\n",
        "\n",
        "    for m in range(num_batches):\n",
        "        yield inputs[m * batch_size:(m + 1) * batch_size, :]"
      ]
    },
    {
      "cell_type": "markdown",
      "metadata": {
        "id": "uuAXaDNll0lf"
      },
      "source": [
        "In this part of the assignment, you implement a method which computes the gradient using backpropagation.\n",
        "To start you out, the *Model* class contains several important methods used in training:\n",
        "\n",
        "\n",
        "*   `compute_activations` computes the activations of all units on a given input batch\n",
        "*   `compute_loss_derivative` computes the gradient with respect to the output logits $\\frac{\\partial C}{\\partial z}$\n",
        "*   `evaluate` computes the average cross-entropy loss for a given set of inputs and targets\n",
        "\n",
        "You will need to complete the implementation of two additional methods to complete the training, and print the outputs of the gradients. "
      ]
    },
    {
      "cell_type": "markdown",
      "metadata": {
        "id": "lVF5TxDgtqHx"
      },
      "source": [
        "## 6.1 Implement gradient with respect to output layer inputs [0.5pt] \\[Type 2\\]\n",
        "Implement a vectorized `compute_loss` function, which computes the total cross-entropy loss on a mini-batch according to Eq. 2. Look for the `## YOUR CODE HERE ##` comment for where to complete the code. The docstring provides a description of the inputs to the function. \n",
        "\n"
      ]
    },
    {
      "attachments": {},
      "cell_type": "markdown",
      "metadata": {},
      "source": [
        "**Answer**\n",
        "\n",
        "```python\n",
        "loss = -((expanded_target_batch * np.log(output_activations)).reshape(-1, self.context_len, len(self.vocab)) * target_mask).sum()\n",
        "```\n",
        "\n",
        "**ChatGPT Trace**\n",
        "\n",
        "![](assets/DnHHxgr6VQ3RejCWdBQHEquxdaJQf8BoN9rvlnYcRWc.original.fullsize.png)"
      ]
    },
    {
      "cell_type": "markdown",
      "metadata": {
        "id": "pyAoLfRPYZYx"
      },
      "source": [
        "## 6.2 Implement gradient with respect to parameters [1pt] \\[Type 2\\]\n",
        "`back_propagate` is the function which computes the gradient of the loss with respect to model parameters using backpropagation.\n",
        "It uses the derivatives computed by *compute_loss_derivative*.\n",
        "Some parts are already filled in for you, but you need to compute the matrices of derivatives for `embed_to_hid_weights`, `hid_bias`, `hid_to_output_weights`, and `output_bias`.\n",
        "These matrices have the same sizes as the parameter matrices (see previous section). These matrices have the same sizes as the parameter matrices. Look for the `## YOUR CODE HERE ##` comment for where to complete the code.\n",
        "\n",
        "In order to implement backpropagation efficiently, you need to express the computations in terms of matrix operations, rather than *for* loops.\n",
        "You should first work through the derivatives on pencil and paper.\n",
        "First, apply the chain rule to compute the derivatives with respect to individual units, weights, and biases.\n",
        "Next, take the formulas you've derived, and express them in matrix form.\n",
        "You should be able to express all of the required computations using only matrix multiplication, matrix transpose, and elementwise operations --- no *for* loops!\n",
        "If you want inspiration, read through the code for *Model.compute_activations* and try to understand how the matrix operations correspond to the computations performed by all the units in the network.\n",
        "\n",
        "*Hint: Your implementations should also be similar to* `hid_to_output_weights_grad`,`hid_bias_grad` *in the same function call*\n",
        "\n",
        "*Hint: To prompt a GPT-like model, you may only include functions that are relevent to the implementation in your prompt.*\n",
        " "
      ]
    },
    {
      "cell_type": "code",
      "execution_count": 93,
      "metadata": {
        "id": "0F4CTBipK9B6"
      },
      "outputs": [],
      "source": [
        "class Model(object):\n",
        "    \"\"\"A class representing the language model itself. This class contains various methods used in training\n",
        "    the model and visualizing the learned representations. It has two fields:\n",
        "\n",
        "        params, a Params instance which contains the model parameters\n",
        "        vocab, a list containing all the words in the dictionary; vocab[0] is the word with index\n",
        "               0, and so on.\"\"\"\n",
        "\n",
        "    def __init__(self, params, vocab):\n",
        "        self.params = params\n",
        "        self.vocab = vocab\n",
        "\n",
        "        self.vocab_size = len(vocab)\n",
        "        self.embedding_dim = self.params.word_embedding_weights.shape[1]\n",
        "        self.embedding_layer_dim = self.params.embed_to_hid_weights.shape[1]\n",
        "        self.context_len = self.embedding_layer_dim // self.embedding_dim\n",
        "        self.num_hid = self.params.embed_to_hid_weights.shape[0]\n",
        "\n",
        "    def copy(self):\n",
        "        return self.__class__(self.params.copy(), self.vocab[:])\n",
        "\n",
        "    @classmethod\n",
        "    def random_init(cls, init_wt, vocab, context_len, embedding_dim, num_hid):\n",
        "        \"\"\"Constructor which randomly initializes the weights to Gaussians with standard deviation init_wt\n",
        "        and initializes the biases to all zeros.\"\"\"\n",
        "        params = Params.random_init(init_wt, len(vocab), context_len, embedding_dim, num_hid)\n",
        "        return Model(params, vocab)\n",
        "\n",
        "    def indicator_matrix(self, targets, mask_zero_index=True):\n",
        "        \"\"\"Construct a matrix where the (v + n*V)th entry of row i is 1 if the n-th target word\n",
        "         for example i is v, and all other entries are 0.\n",
        "\n",
        "         Note: if the n-th target word index is 0, this corresponds to the [MASK] token,\n",
        "               and we set the entry to be 0. \n",
        "        \"\"\"\n",
        "        batch_size, context_len = targets.shape\n",
        "        expanded_targets = np.zeros((batch_size, context_len * len(self.vocab)))\n",
        "        offset = np.repeat((np.arange(context_len) * len(self.vocab))[np.newaxis, :], batch_size, axis=0) # [[0, V, 2V], [0, V, 2V], ...]\n",
        "        targets_offset = targets + offset\n",
        "\n",
        "        for c in range(context_len):\n",
        "          expanded_targets[np.arange(batch_size), targets_offset[:,c]] = 1.\n",
        "          if mask_zero_index:\n",
        "            # Note: Set the targets with index 0, V, 2V to be zero since it corresponds to the [MASK] token\n",
        "            expanded_targets[np.arange(batch_size), offset[:,c]] = 0. \n",
        "        return expanded_targets\n",
        "\n",
        "    def compute_loss_derivative(self, output_activations, expanded_target_batch, target_mask):\n",
        "        \"\"\"Compute the gradient of cross-entropy loss wrt output logits z\n",
        "        \n",
        "            For example:\n",
        "\n",
        "         [y_{0} ....  y_{V-1}] [y_{V}, ..., y_{2*V-1}] [y_{2*V} ... y_{i,3*V-1}] [y_{3*V} ... y_{i,4*V-1}] \n",
        "                  \n",
        "         Where for column v + n*V,\n",
        "\n",
        "            y_{v + n*V} = e^{z_{v + n*V}} / \\sum_{m=0}^{V-1} e^{z_{m + n*V}}, for n=0,...,N-1\n",
        "\n",
        "        This function should return a dC / dz matrix of size [batch_size x (vocab_size * context_len)],\n",
        "        where each row i in dC / dz has columns 0 to V-1 containing the gradient the 1st output \n",
        "        context word from i-th training example, then columns vocab_size to 2*vocab_size - 1 for the 2nd\n",
        "        output context word of the i-th training example, etc.\n",
        "        \n",
        "        C is the loss function summed acrossed all examples as well:\n",
        "\n",
        "            C = -\\sum_{i,j,n} mask_{i,n} (t_{i, j + n*V} log y_{i, j + n*V}), for j=0,...,V, and n=0,...,N\n",
        "\n",
        "        where mask_{i,n} = 1 if the i-th training example has n-th context word as the target, \n",
        "        otherwise mask_{i,n} = 0.\n",
        "        \n",
        "        Args:\n",
        "          output_activations: A [batch_size x (context_len * vocab_size)] matrix, \n",
        "              for the activations of the output layer, i.e. the y_j's.\n",
        "          expanded_target_batch: A [batch_size x (context_len * vocab_size)] matrix, \n",
        "              where expanded_target_batch[i,n*V:(n+1)*V] is the indicator vector for \n",
        "              the n-th context target word position, i.e. the (i, j + n*V) entry is 1 if the \n",
        "              i'th example, the context word at position n is j, and 0 otherwise.\n",
        "          target_mask: A [batch_size x context_len x 1] tensor, where target_mask[i,n] = 1 \n",
        "              if for the i'th example the n-th context word is a target position, otherwise 0\n",
        "        \n",
        "        Outputs:\n",
        "          loss_derivative: A [batch_size x (context_len * vocab_size)] matrix,\n",
        "              where loss_derivative[i,0:vocab_size] contains the gradient\n",
        "              dC / dz_0 for the i-th training example gradient for 1st output \n",
        "              context word, and loss_derivative[i,vocab_size:2*vocab_size] for \n",
        "              the 2nd output context word of the i-th training example, etc.\n",
        "        \"\"\"\n",
        "        # Reshape output_activations and expanded_target_batch and use broadcasting\n",
        "        output_activations_reshape = output_activations.reshape(-1, self.context_len, len(self.vocab))\n",
        "        expanded_target_batch_reshape = expanded_target_batch.reshape(-1, self.context_len, len(self.vocab))\n",
        "        gradient_masked_reshape =  target_mask * (output_activations_reshape - expanded_target_batch_reshape)\n",
        "        gradient_masked = gradient_masked_reshape.reshape(-1, self.context_len * len(self.vocab))\n",
        "        return gradient_masked\n",
        "\n",
        "    def compute_loss(self, output_activations, expanded_target_batch, target_mask):\n",
        "        \"\"\"Compute the total cross entropy loss over a mini-batch.\n",
        "\n",
        "        Args:\n",
        "          output_activations: [batch_size x (context_len * vocab_size)] matrix, \n",
        "                for the activations of the output layer, i.e. the y_j's.\n",
        "          expanded_target_batch: [batch_size (context_len * vocab_size)] matrix, \n",
        "                where expanded_target_batch[i,n*V:(n+1)*V] is the indicator vector for \n",
        "                the n-th context target word position, i.e. the (i, j + n*V) entry is 1 if the \n",
        "                i'th example, the context word at position n is j, and 0 otherwise. matrix obtained\n",
        "          target_mask: A [batch_size x context_len x 1] tensor, where target_mask[i,n,0] = 1 \n",
        "                if for the i'th example the n-th context word is a target position, otherwise 0\n",
        "        \n",
        "        Returns:\n",
        "          loss: a scalar for the  total cross entropy loss over the batch, \n",
        "                defined in Part 3\n",
        "                \n",
        "        In this part, you will learn to implement and train the neural language model from Figure 1. As described in the previous section, during training, we randomly sample one of the $N$ context words to replace with a `[MASK]` token. The goal is for the network to predict the word that was masked, at the corresponding output word position. In practice, this `[MASK]` token is assigned the index 0 in our dictionary. The weights $W^{(2)}$ = `hid_to_output_weights` now has the shape $NV \\times H$, as the output layer has $NV$ neurons, where the first $V$ output units are for predicting the first word, then the next $V$ are for predicting the second word, and so on. \n",
        "        We call this as *concatenating* output units across all word positions, i.e. the $(v + nV)$-th column is for the word $v$ in vocabulary for the $n$-th output word position. \n",
        "        Note here that the softmax is applied in chunks of $V$ as well, to give a valid probability distribution over the $V$ words (For simplicity we also include the `[MASK]` token as one of the possible prediction even though we know the target should not be this token). Only the output word positions that were masked in the input are included in the cross entropy loss calculation:\n",
        "\n",
        "        $$C = -\\sum_{i}^{B}\\sum_{n}^{N}\\sum_{v}^{V} m^{(i)}_{n} (t^{(i)}_{v + nV} \\log y^{(i)}_{v + nV})$$\n",
        "\n",
        "        Where:\n",
        "        *  $y^{(i)}_{v + nV}$ denotes the output probability prediction from the neural network for the $i$-th training example for the word $v$ in the $n$-th output word. Denoting $z$ as the logits output, we define the output probability $y$ as a softmax on $z$ over contiguous chunks of $V$ units (see also Figure 1): \n",
        "\n",
        "        $$y^{(i)}_{v + nV} = \\frac{e^{z^{(i)}_{v+nV}}}{\\sum_{l}^{V} e^{z^{(i)}_{l+nV}}}$$\n",
        "        * $t^{(i)}_{v + nV}  \\in \\{0,1\\}$ is 1 if for the $i$-th training example, the word $v$ is the $n$-th word in context\n",
        "        * $m^{(i)}_{n} \\in \\{0,1\\}$ is a mask that is set to 1 if we are predicting the $n$-th word position for the $i$-th example (because we had masked that word in the input), and 0 otherwise\n",
        "        \"\"\"\n",
        "        ###########################   YOUR CODE HERE  ##############################\n",
        "        # print(output_activations.shape)\n",
        "        # print(expanded_target_batch.shape)\n",
        "        # print(target_mask.shape)\n",
        "        loss = -((expanded_target_batch * np.log(output_activations)).reshape(-1, self.context_len, len(self.vocab)) * target_mask).sum()\n",
        "        ############################################################################\n",
        "        return loss\n",
        "\n",
        "    def compute_activations(self, inputs):\n",
        "        \"\"\"Compute the activations on a batch given the inputs. Returns an Activations instance.\n",
        "        You should try to read and understand this function, since this will give you clues for\n",
        "        how to implement back_propagate.\"\"\"\n",
        "\n",
        "        batch_size = inputs.shape[0]\n",
        "        if inputs.shape[1] != self.context_len:\n",
        "            raise RuntimeError('Dimension of the input vectors should be {}, but is instead {}'.format(\n",
        "                self.context_len, inputs.shape[1]))\n",
        "\n",
        "        # Embedding layer\n",
        "        # Look up the input word indices in the word_embedding_weights matrix\n",
        "        embedding_layer_state = self.params.word_embedding_weights[inputs.reshape([-1]), :].reshape([batch_size, self.embedding_layer_dim])\n",
        "\n",
        "        # Hidden layer\n",
        "        inputs_to_hid = np.dot(embedding_layer_state, self.params.embed_to_hid_weights.T) + \\\n",
        "                        self.params.hid_bias\n",
        "        # Apply logistic activation function\n",
        "        hidden_layer_state = 1. / (1. + np.exp(-inputs_to_hid))\n",
        "\n",
        "        # Output layer\n",
        "        inputs_to_softmax = np.dot(hidden_layer_state, self.params.hid_to_output_weights.T) + \\\n",
        "                            self.params.output_bias\n",
        "\n",
        "        # Subtract maximum.\n",
        "        # Remember that adding or subtracting the same constant from each input to a\n",
        "        # softmax unit does not affect the outputs. So subtract the maximum to\n",
        "        # make all inputs <= 0. This prevents overflows when computing their exponents.\n",
        "        inputs_to_softmax -= inputs_to_softmax.max(1).reshape((-1, 1))\n",
        "\n",
        "        # Take softmax along each V chunks in the output layer\n",
        "        output_layer_state = np.exp(inputs_to_softmax)\n",
        "        output_layer_state_shape = output_layer_state.shape\n",
        "        output_layer_state = output_layer_state.reshape((-1, self.context_len, len(self.vocab)))\n",
        "        output_layer_state /= output_layer_state.sum(axis=-1, keepdims=True) # Softmax along vocab of each target word\n",
        "        output_layer_state = output_layer_state.reshape(output_layer_state_shape) # Flatten back to 2D matrix\n",
        "\n",
        "        return Activations(embedding_layer_state, hidden_layer_state, output_layer_state)\n",
        "\n",
        "    def back_propagate(self, input_batch, activations, loss_derivative):\n",
        "        \"\"\"Compute the gradient of the loss function with respect to the trainable parameters\n",
        "        of the model.\n",
        "        \n",
        "        Part of this function is already completed, but you need to fill in the derivative\n",
        "        computations for hid_to_output_weights_grad, output_bias_grad, embed_to_hid_weights_grad,\n",
        "        and hid_bias_grad. See the documentation for the Params class for a description of what\n",
        "        these matrices represent.\n",
        "\n",
        "        Args: \n",
        "          input_batch: A [batch_size x context_length] matrix containing the \n",
        "              indices of the context words\n",
        "          activations: an Activations object representing the output of \n",
        "              Model.compute_activations\n",
        "          loss_derivative:  A [batch_size x (context_len * vocab_size)] matrix,\n",
        "              where loss_derivative[i,0:vocab_size] contains the gradient\n",
        "              dC / dz_0 for the i-th training example gradient for 1st output \n",
        "              context word, and loss_derivative[i,vocab_size:2*vocab_size] for \n",
        "              the 2nd output context word of the i-th training example, etc.\n",
        "              Obtained from calling compute_loss_derivative()\n",
        "          \n",
        "        Returns:\n",
        "          Params object containing the gradient for word_embedding_weights_grad, \n",
        "              embed_to_hid_weights_grad, hid_to_output_weights_grad,\n",
        "              hid_bias_grad, output_bias_grad  \n",
        "        \"\"\"\n",
        "\n",
        "        # The matrix with values dC / dz_j, where dz_j is the input to the jth hidden unit,\n",
        "        # i.e. h_j = 1 / (1 + e^{-z_j})\n",
        "        hid_deriv = np.dot(loss_derivative, self.params.hid_to_output_weights) \\\n",
        "                    * activations.hidden_layer * (1. - activations.hidden_layer)\n",
        "\n",
        "        \n",
        "        hid_to_output_weights_grad = np.dot(loss_derivative.T, activations.hidden_layer)\n",
        "        \n",
        "        ###########################   YOUR CODE HERE  ##############################\n",
        "        output_bias_grad = loss_derivative.sum(0)\n",
        "        embed_to_hid_weights_grad = np.dot(hid_deriv.T, activations.embedding_layer)\n",
        "        ############################################################################\n",
        "        \n",
        "        hid_bias_grad = hid_deriv.sum(0)\n",
        "\n",
        "        # The matrix of derivatives for the embedding layer\n",
        "        embed_deriv = np.dot(hid_deriv, self.params.embed_to_hid_weights)\n",
        "\n",
        "        # Word Embedding Weights gradient\n",
        "        word_embedding_weights_grad = np.dot(self.indicator_matrix(input_batch.reshape([-1,1]), mask_zero_index=False).T, \n",
        "                                                 embed_deriv.reshape([-1, self.embedding_dim]))\n",
        "\n",
        "        return Params(word_embedding_weights_grad, embed_to_hid_weights_grad, hid_to_output_weights_grad,\n",
        "                      hid_bias_grad, output_bias_grad)\n",
        "\n",
        "    def sample_input_mask(self, batch_size):\n",
        "        \"\"\"Samples a binary mask for the inputs of size batch_size x context_len\n",
        "        For each row, at most one element will be 1.\n",
        "        \"\"\"\n",
        "        mask_idx = np.random.randint(self.context_len, size=(batch_size,))\n",
        "        mask = np.zeros((batch_size, self.context_len), dtype=np.int)# Convert to one hot B x N, B batch size, N context len\n",
        "        mask[np.arange(batch_size), mask_idx] = 1\n",
        "        return mask\n",
        "    \n",
        "    def evaluate(self, inputs, batch_size=100):\n",
        "        \"\"\"Compute the average cross-entropy over a dataset.\n",
        "\n",
        "            inputs: matrix of shape D x N\"\"\"\n",
        "\n",
        "        ndata = inputs.shape[0]\n",
        "\n",
        "        total = 0.\n",
        "        for input_batch in get_batches(inputs, batch_size):\n",
        "            mask = self.sample_input_mask(batch_size)\n",
        "            input_batch_masked = input_batch * (1 - mask)\n",
        "            activations = self.compute_activations(input_batch_masked)\n",
        "            expanded_target_batch = self.indicator_matrix(input_batch)\n",
        "            target_mask = np.expand_dims(mask, axis=2)\n",
        "            cross_entropy = self.compute_loss(activations.output_layer, expanded_target_batch, target_mask)\n",
        "            total += cross_entropy\n",
        "\n",
        "        return total / float(ndata)\n",
        "\n",
        "    def display_nearest_words(self, word, k=10):\n",
        "        \"\"\"List the k words nearest to a given word, along with their distances.\"\"\"\n",
        "\n",
        "        if word not in self.vocab:\n",
        "            print('Word \"{}\" not in vocabulary.'.format(word))\n",
        "            return\n",
        "\n",
        "        # Compute distance to every other word.\n",
        "        idx = self.vocab.index(word)\n",
        "        word_rep = self.params.word_embedding_weights[idx, :]\n",
        "        diff = self.params.word_embedding_weights - word_rep.reshape((1, -1))\n",
        "        distance = np.sqrt(np.sum(diff ** 2, axis=1))\n",
        "\n",
        "        # Sort by distance.\n",
        "        order = np.argsort(distance)\n",
        "        order = order[1:1 + k]  # The nearest word is the query word itself, skip that.\n",
        "        for i in order:\n",
        "            print('{}: {}'.format(self.vocab[i], distance[i]))\n",
        "\n",
        "    def word_distance(self, word1, word2):\n",
        "        \"\"\"Compute the distance between the vector representations of two words.\"\"\"\n",
        "\n",
        "        if word1 not in self.vocab:\n",
        "            raise RuntimeError('Word \"{}\" not in vocabulary.'.format(word1))\n",
        "        if word2 not in self.vocab:\n",
        "            raise RuntimeError('Word \"{}\" not in vocabulary.'.format(word2))\n",
        "\n",
        "        idx1, idx2 = self.vocab.index(word1), self.vocab.index(word2)\n",
        "        word_rep1 = self.params.word_embedding_weights[idx1, :]\n",
        "        word_rep2 = self.params.word_embedding_weights[idx2, :]\n",
        "        diff = word_rep1 - word_rep2\n",
        "        return np.sqrt(np.sum(diff ** 2))"
      ]
    },
    {
      "attachments": {},
      "cell_type": "markdown",
      "metadata": {},
      "source": [
        "**ChatGPT Trace**\n",
        "\n",
        "![](assets/3WcYRKQHUUtM0aGGHzkZJyMG6JqWDQX0EIPZ2OsFoHc.original.fullsize.png)"
      ]
    },
    {
      "cell_type": "markdown",
      "metadata": {
        "id": "JbwZCTkboEhz"
      },
      "source": [
        "## 6.3 Print the gradients [0.5pt] \\[Type 4\\]\n",
        "\n",
        "To make your life easier, we have provided the routine `check_gradients`, which checks your gradients using finite differences.\n",
        "        You should make sure this check passes before continuing with the assignment. Once `check_gradients()` passes, call `print_gradients()` and include its output in your write-up. "
      ]
    },
    {
      "cell_type": "code",
      "execution_count": 94,
      "metadata": {
        "id": "B5soRTiRn6W4"
      },
      "outputs": [],
      "source": [
        "def relative_error(a, b):\n",
        "    return np.abs(a - b) / (np.abs(a) + np.abs(b))\n",
        "\n",
        "\n",
        "def check_output_derivatives(model, input_batch, target_batch, mask):\n",
        "    def softmax(z):\n",
        "        z = z.copy()\n",
        "        z -= z.max(-1, keepdims=True)\n",
        "        y = np.exp(z)\n",
        "        y /= y.sum(-1, keepdims=True)\n",
        "        return y\n",
        "\n",
        "    batch_size = input_batch.shape[0]\n",
        "    z = np.random.normal(size=(batch_size, model.context_len, model.vocab_size))\n",
        "    y = softmax(z).reshape((batch_size, model.context_len * model.vocab_size))\n",
        "    z = z.reshape((batch_size, model.context_len * model.vocab_size))\n",
        "\n",
        "    expanded_target_batch = model.indicator_matrix(target_batch)\n",
        "    target_mask = np.expand_dims(mask, axis=2)\n",
        "    loss_derivative = model.compute_loss_derivative(y, expanded_target_batch, target_mask)\n",
        "\n",
        "    if loss_derivative is None:\n",
        "        print('Loss derivative not implemented yet.')\n",
        "        return False\n",
        "\n",
        "    if loss_derivative.shape != (batch_size, model.vocab_size * model.context_len):\n",
        "        print('Loss derivative should be size {} but is actually {}.'.format(\n",
        "            (batch_size, model.vocab_size), loss_derivative.shape))\n",
        "        return False\n",
        "\n",
        "    def obj(z):\n",
        "        z = z.reshape((-1, model.context_len, model.vocab_size))\n",
        "        y = softmax(z).reshape((batch_size, model.context_len * model.vocab_size))\n",
        "        return model.compute_loss(y, expanded_target_batch, target_mask)\n",
        "\n",
        "    for count in range(1000):\n",
        "        i, j = np.random.randint(0, loss_derivative.shape[0]), np.random.randint(0, loss_derivative.shape[1])\n",
        "\n",
        "        z_plus = z.copy()\n",
        "        z_plus[i, j] += EPS\n",
        "        obj_plus = obj(z_plus)\n",
        "\n",
        "        z_minus = z.copy()\n",
        "        z_minus[i, j] -= EPS\n",
        "        obj_minus = obj(z_minus)\n",
        "\n",
        "        empirical = (obj_plus - obj_minus) / (2. * EPS)\n",
        "        rel = relative_error(empirical, loss_derivative[i, j])\n",
        "        if rel > 1e-4:\n",
        "            print('The loss derivative has a relative error of {}, which is too large.'.format(rel))\n",
        "            return False\n",
        "\n",
        "    print('The loss derivative looks OK.')\n",
        "    return True\n",
        "\n",
        "\n",
        "def check_param_gradient(model, param_name, input_batch, target_batch, mask):\n",
        "    activations = model.compute_activations(input_batch)\n",
        "    expanded_target_batch = model.indicator_matrix(target_batch)\n",
        "    target_mask = np.expand_dims(mask, axis=2)\n",
        "    loss_derivative = model.compute_loss_derivative(activations.output_layer, expanded_target_batch, target_mask)\n",
        "    param_gradient = model.back_propagate(input_batch, activations, loss_derivative)\n",
        "\n",
        "    def obj(model):\n",
        "        activations = model.compute_activations(input_batch)\n",
        "        return model.compute_loss(activations.output_layer, expanded_target_batch, target_mask)\n",
        "\n",
        "    dims = getattr(model.params, param_name).shape\n",
        "    is_matrix = (len(dims) == 2)\n",
        "\n",
        "    if getattr(param_gradient, param_name).shape != dims:\n",
        "        print('The gradient for {} should be size {} but is actually {}.'.format(\n",
        "            param_name, dims, getattr(param_gradient, param_name).shape))\n",
        "        return\n",
        "\n",
        "    for count in range(1000):\n",
        "        if is_matrix:\n",
        "            slc = np.random.randint(0, dims[0]), np.random.randint(0, dims[1])\n",
        "        else:\n",
        "            slc = np.random.randint(dims[0])\n",
        "\n",
        "        model_plus = model.copy()\n",
        "        getattr(model_plus.params, param_name)[slc] += EPS\n",
        "        obj_plus = obj(model_plus)\n",
        "\n",
        "        model_minus = model.copy()\n",
        "        getattr(model_minus.params, param_name)[slc] -= EPS\n",
        "        obj_minus = obj(model_minus)\n",
        "\n",
        "        empirical = (obj_plus - obj_minus) / (2. * EPS)\n",
        "        exact = getattr(param_gradient, param_name)[slc]\n",
        "        rel = relative_error(empirical, exact)\n",
        "        if rel > 5e-4:\n",
        "            print('The loss derivative has a relative error of {}, which is too large for param {}.'.format(rel, param_name))\n",
        "            return False\n",
        "\n",
        "    print('The gradient for {} looks OK.'.format(param_name))\n",
        "\n",
        "\n",
        "def load_partially_trained_model():\n",
        "    obj = pickle.load(open(PARTIALLY_TRAINED_MODEL, 'rb'))\n",
        "    params = Params(obj['word_embedding_weights'], obj['embed_to_hid_weights'],\n",
        "                                   obj['hid_to_output_weights'], obj['hid_bias'],\n",
        "                                   obj['output_bias'])\n",
        "    vocab = obj['vocab']\n",
        "    return Model(params, vocab)\n",
        "\n",
        "\n",
        "def check_gradients():\n",
        "    \"\"\"Check the computed gradients using finite differences.\"\"\"\n",
        "    np.random.seed(0)\n",
        "\n",
        "    np.seterr(all='ignore')  # suppress a warning which is harmless\n",
        "\n",
        "    model = load_partially_trained_model()\n",
        "    data_obj = pickle.load(open(data_location, 'rb'))\n",
        "    train_inputs = data_obj['train_inputs']\n",
        "    input_batch = train_inputs[:100, :]\n",
        "    mask = model.sample_input_mask(input_batch.shape[0])\n",
        "    input_batch_masked = input_batch * (1 - mask)\n",
        " \n",
        "    if not check_output_derivatives(model, input_batch_masked, input_batch, mask):\n",
        "        return\n",
        "\n",
        "    for param_name in ['word_embedding_weights', 'embed_to_hid_weights', 'hid_to_output_weights',\n",
        "                       'hid_bias', 'output_bias']:\n",
        "        check_param_gradient(model, param_name, input_batch_masked, input_batch, mask)\n",
        "\n",
        "\n",
        "def print_gradients():\n",
        "    \"\"\"Print out certain derivatives for grading.\"\"\"\n",
        "    np.random.seed(0)\n",
        "\n",
        "    model = load_partially_trained_model()\n",
        "    data_obj = pickle.load(open(data_location, 'rb'))\n",
        "    train_inputs = data_obj['train_inputs']\n",
        "    input_batch = train_inputs[:100, :]\n",
        "\n",
        "    mask = model.sample_input_mask(input_batch.shape[0])\n",
        "    input_batch_masked = input_batch * (1 - mask)\n",
        "    activations = model.compute_activations(input_batch_masked)\n",
        "    expanded_target_batch = model.indicator_matrix(input_batch)\n",
        "    target_mask = np.expand_dims(mask, axis=2)\n",
        "    loss_derivative = model.compute_loss_derivative(activations.output_layer, expanded_target_batch, target_mask)\n",
        "    param_gradient = model.back_propagate(input_batch, activations, loss_derivative)\n",
        "\n",
        "    print('loss_derivative[46, 785]', loss_derivative[46, 785])\n",
        "    print('loss_derivative[46, 766]', loss_derivative[46, 766])\n",
        "    print('loss_derivative[5, 42]', loss_derivative[5, 42])\n",
        "    print('loss_derivative[5, 31]', loss_derivative[5, 31])\n",
        "    print()\n",
        "    print('param_gradient.word_embedding_weights[27, 2]', param_gradient.word_embedding_weights[27, 2])\n",
        "    print('param_gradient.word_embedding_weights[43, 3]', param_gradient.word_embedding_weights[43, 3])\n",
        "    print('param_gradient.word_embedding_weights[22, 4]', param_gradient.word_embedding_weights[22, 4])\n",
        "    print('param_gradient.word_embedding_weights[2, 5]', param_gradient.word_embedding_weights[2, 5])\n",
        "    print()\n",
        "    print('param_gradient.embed_to_hid_weights[10, 2]', param_gradient.embed_to_hid_weights[10, 2])\n",
        "    print('param_gradient.embed_to_hid_weights[15, 3]', param_gradient.embed_to_hid_weights[15, 3])\n",
        "    print('param_gradient.embed_to_hid_weights[30, 9]', param_gradient.embed_to_hid_weights[30, 9])\n",
        "    print('param_gradient.embed_to_hid_weights[35, 21]', param_gradient.embed_to_hid_weights[35, 21])\n",
        "    print()\n",
        "    print('param_gradient.hid_bias[10]', param_gradient.hid_bias[10])\n",
        "    print('param_gradient.hid_bias[20]', param_gradient.hid_bias[20])\n",
        "    print()\n",
        "    print('param_gradient.output_bias[0]', param_gradient.output_bias[0])\n",
        "    print('param_gradient.output_bias[1]', param_gradient.output_bias[1])\n",
        "    print('param_gradient.output_bias[2]', param_gradient.output_bias[2])\n",
        "    print('param_gradient.output_bias[3]', param_gradient.output_bias[3])\n"
      ]
    },
    {
      "cell_type": "code",
      "execution_count": 95,
      "metadata": {
        "id": "6Tlficab3ZfJ"
      },
      "outputs": [
        {
          "name": "stderr",
          "output_type": "stream",
          "text": [
            "/tmp/ipykernel_3247017/4092977173.py:229: DeprecationWarning: `np.int` is a deprecated alias for the builtin `int`. To silence this warning, use `int` by itself. Doing this will not modify any behavior and is safe. When replacing `np.int`, you may wish to use e.g. `np.int64` or `np.int32` to specify the precision. If you wish to review your current use, check the release note link for additional information.\n",
            "Deprecated in NumPy 1.20; for more details and guidance: https://numpy.org/devdocs/release/1.20.0-notes.html#deprecations\n",
            "  mask = np.zeros((batch_size, self.context_len), dtype=np.int)# Convert to one hot B x N, B batch size, N context len\n"
          ]
        },
        {
          "name": "stdout",
          "output_type": "stream",
          "text": [
            "The loss derivative looks OK.\n",
            "The gradient for word_embedding_weights looks OK.\n",
            "The gradient for embed_to_hid_weights looks OK.\n",
            "The gradient for hid_to_output_weights looks OK.\n",
            "The gradient for hid_bias looks OK.\n",
            "The gradient for output_bias looks OK.\n"
          ]
        }
      ],
      "source": [
        "# Run this to check if your implement gradients matches the finite difference within tolerance\n",
        "# Note: this may take a few minutes to go through all the checks\n",
        "check_gradients()                                   "
      ]
    },
    {
      "cell_type": "code",
      "execution_count": 96,
      "metadata": {
        "id": "1TCLl7v189SI"
      },
      "outputs": [
        {
          "name": "stdout",
          "output_type": "stream",
          "text": [
            "loss_derivative[46, 785] 0.7137561447745507\n",
            "loss_derivative[46, 766] -0.9661570033238931\n",
            "loss_derivative[5, 42] -0.0\n",
            "loss_derivative[5, 31] 0.0\n",
            "\n",
            "param_gradient.word_embedding_weights[27, 2] 0.0\n",
            "param_gradient.word_embedding_weights[43, 3] 0.011596892511489444\n",
            "param_gradient.word_embedding_weights[22, 4] -0.022267062381729714\n",
            "param_gradient.word_embedding_weights[2, 5] 0.0\n",
            "\n",
            "param_gradient.embed_to_hid_weights[10, 2] 0.37932570919301645\n",
            "param_gradient.embed_to_hid_weights[15, 3] 0.016045161321109152\n",
            "param_gradient.embed_to_hid_weights[30, 9] -0.4312854367997418\n",
            "param_gradient.embed_to_hid_weights[35, 21] 0.06679896665436336\n",
            "\n",
            "param_gradient.hid_bias[10] 0.02342880312334519\n",
            "param_gradient.hid_bias[20] -0.024370452378874308\n",
            "\n",
            "param_gradient.output_bias[0] 0.000970106146902794\n",
            "param_gradient.output_bias[1] 0.1686894627476322\n",
            "param_gradient.output_bias[2] 0.0051664774143909235\n",
            "param_gradient.output_bias[3] 0.1509622647181436\n"
          ]
        },
        {
          "name": "stderr",
          "output_type": "stream",
          "text": [
            "/tmp/ipykernel_3247017/4092977173.py:229: DeprecationWarning: `np.int` is a deprecated alias for the builtin `int`. To silence this warning, use `int` by itself. Doing this will not modify any behavior and is safe. When replacing `np.int`, you may wish to use e.g. `np.int64` or `np.int32` to specify the precision. If you wish to review your current use, check the release note link for additional information.\n",
            "Deprecated in NumPy 1.20; for more details and guidance: https://numpy.org/devdocs/release/1.20.0-notes.html#deprecations\n",
            "  mask = np.zeros((batch_size, self.context_len), dtype=np.int)# Convert to one hot B x N, B batch size, N context len\n"
          ]
        }
      ],
      "source": [
        "# Run this to print out the gradients\n",
        "print_gradients()"
      ]
    },
    {
      "cell_type": "markdown",
      "metadata": {
        "id": "2FD5Om0ypNPe"
      },
      "source": [
        "To convince us that you have correctly implemented the gradient computations, please include the following with your assignment submission:\n",
        "\n",
        "* [ ] You will submit `a1-code.ipynb` through MarkUs.\n",
        "You do not need to modify any of the code except the parts we asked you to implement.\n",
        "* [ ] In your writeup, include the output of the function `print_gradients`.\n",
        "This prints out part of the gradients for a partially trained network which we have provided, and we will check them against the correct outputs. **Important:** make sure to give the output of `print_gradients`, **not** `check_gradients`.\n"
      ]
    },
    {
      "cell_type": "markdown",
      "metadata": {
        "id": "_VUBTt0ZQl3s"
      },
      "source": [
        "# Part 7: Bias in Word Embeddings (2pts)\n",
        "\n",
        "Unfortunately, stereotypes and prejudices are often reflected in the outputs of natural language processing algorithms. For example, Google Translate is more likely to translate a non-English sentence to \"_He_ is a doctor\" than \"_She_ is a doctor when the sentence is ambiguous. In this section, you will explore how bias enters natural language processing algorithms by implementing and analyzing a popular method for measuring bias in word embeddings.\n",
        "\n",
        "> Note: In AI and machine learning, **bias** generally refers to prior information, a necessary prerequisite for intelligent action. However, bias can be problematic when it is derived from aspects of human culture known to lead to harmful behaviour, such as stereotypes and prejudices."
      ]
    },
    {
      "cell_type": "markdown",
      "metadata": {
        "id": "-HlZw3-5Q5XJ"
      },
      "source": [
        "## 7.1 WEAT method for detecting bias [1pt] \\[Type 2\\]\n",
        "\n",
        "   Word embedding models such as GloVe attempt to learn a vector space where semantically similar words are clustered close together. However, they have been shown to learn problematic associations, e.g. by embedding \"man\" more closely to \"doctor\" than \"woman\" (and vice versa for \"nurse\"). To detect such biases in word embeddings, [\"Semantics derived automatically from language corpora contain human-like biases\"](https://www.science.org/doi/10.1126/science.aal4230) introduced the Word Embedding Association Test (WEAT). The WEAT test measures whether two _target_ word sets (e.g., {programmer, engineer, scientist, ...} and {nurse, teacher, librarian, ...}) have the same relative association to two _attribute_ word sets (e.g., man, male, ... and woman, female ...).\n",
        "   \n",
        "> There is an excellent blog on bias in word embeddings and the WEAT test [here](https://developers.googleblog.com/2018/04/text-embedding-models-contain-bias.html).\n",
        "\n",
        "In the following section, you will run a WEAT test for a given set of target and attribute words. Specifically, you must implement the function `weat_association_score` and then run the remaining cells to compute the p-value and effect size. Before you begin, make sure you understand the formal definition of the WEAT test given in section 4.1 of the handout.\n",
        "\n",
        "\n"
      ]
    },
    {
      "cell_type": "markdown",
      "metadata": {
        "id": "FMfmBOJnqNmJ"
      },
      "source": [
        "Run the following cell to download pretrained GloVe embeddings."
      ]
    },
    {
      "cell_type": "code",
      "execution_count": 5,
      "metadata": {
        "id": "AI1hYohRQ-lz"
      },
      "outputs": [
        {
          "name": "stdout",
          "output_type": "stream",
          "text": [
            "Downloaded 400000 word embeddings of dimension 50.\n"
          ]
        }
      ],
      "source": [
        "import gensim.downloader as api\n",
        "\n",
        "glove = api.load(\"glove-wiki-gigaword-50\")\n",
        "num_words, num_dims = glove.vectors.shape\n",
        "print(f\"Downloaded {num_words} word embeddings of dimension {num_dims}.\")"
      ]
    },
    {
      "cell_type": "markdown",
      "metadata": {
        "id": "x0mViYtFnwLR"
      },
      "source": [
        "Before proceeding, you should familiarize yourself with the `similarity` method, which computes the cosine similarity between two words. You will need this method to implement `weat_association_score`. Some examples are given below.\n",
        "\n",
        "> Can you spot the gender bias between occupations in the examples below?"
      ]
    },
    {
      "cell_type": "code",
      "execution_count": 6,
      "metadata": {
        "id": "SuRrncLtn5Tl"
      },
      "outputs": [
        {
          "name": "stdout",
          "output_type": "stream",
          "text": [
            "0.49226812\n",
            "0.5718704\n",
            "0.43883625\n",
            "0.715502\n"
          ]
        }
      ],
      "source": [
        "print(glove.similarity(\"man\", \"scientist\"))\n",
        "print(glove.similarity(\"man\", \"nurse\"))\n",
        "print(glove.similarity(\"woman\", \"scientist\"))\n",
        "print(glove.similarity(\"woman\", \"nurse\"))"
      ]
    },
    {
      "cell_type": "markdown",
      "metadata": {
        "id": "WlJS8luQoQV5"
      },
      "source": [
        "Below, we define our target words (`occupations`) and attribute words (`A` and `B`). Our target words consist of *occupations*, and our attribute words are *gendered*. We will use the WEAT test to determine if the word embeddings contain gender biases for certain occupations."
      ]
    },
    {
      "cell_type": "code",
      "execution_count": 7,
      "metadata": {
        "id": "H1OEkmNiX-AH"
      },
      "outputs": [],
      "source": [
        "# Target words (occupations)\n",
        "occupations = [\"programmer\", \"engineer\", \"scientist\", \"nurse\", \"teacher\", \"librarian\"]\n",
        "# Two sets of gendered attribute words, A and B\n",
        "A = [\"man\", \"male\", \"he\", \"boyish\"]\n",
        "B = [\"woman\", \"female\", \"she\", \"girlish\"]"
      ]
    },
    {
      "cell_type": "markdown",
      "metadata": {
        "id": "lvTau4w1s2es"
      },
      "source": [
        "- [ ] __TODO__: Implement the following function, `weat_association_score` which computes the association of a word _w_ with the attribute:\n",
        "\n",
        "$$s(w, A, B) = \\text{mean}_{a\\in A} \\cos(w, a) - \\text{mean}_{b\\in B} \\cos(w,b)$$\n",
        "\n",
        "*Hint: To prompt a GPT-like model, think about how to provide the information that the `glove` has an method `similarity` which can be called.*"
      ]
    },
    {
      "cell_type": "code",
      "execution_count": 8,
      "metadata": {
        "id": "FH7KHVgPYyl5"
      },
      "outputs": [],
      "source": [
        "def weat_association_score(w, A, B, glove):\n",
        "    \"\"\"Given a target word w, the set of attribute words A and B,\n",
        "    and the GloVe embeddings, returns the association score s(w, A, B).\n",
        "    \"\"\"\n",
        "    ###########################   YOUR CODE HERE  ##############################\n",
        "    sim_A = [glove.similarity(w, a) for a in A]\n",
        "    mean_sim_A = sum(sim_A) / len(A)\n",
        "    sim_B = [glove.similarity(w, b) for b in B]\n",
        "    mean_sim_B = sum(sim_B) / len(B)\n",
        "    return mean_sim_A - mean_sim_B\n",
        "    ############################################################################"
      ]
    },
    {
      "cell_type": "markdown",
      "metadata": {
        "id": "5VM9-DCewvsJ"
      },
      "source": [
        "Use the following code to check your implementation:"
      ]
    },
    {
      "cell_type": "code",
      "execution_count": 9,
      "metadata": {
        "id": "QlN4D0JRwgpu"
      },
      "outputs": [
        {
          "data": {
            "text/plain": [
              "True"
            ]
          },
          "execution_count": 9,
          "metadata": {},
          "output_type": "execute_result"
        }
      ],
      "source": [
        "np.isclose(weat_association_score(\"programmer\", A, B, glove), 0.019615129)"
      ]
    },
    {
      "cell_type": "markdown",
      "metadata": {
        "id": "Anbhmfiy_qiU"
      },
      "source": [
        "Now, compute the WEAT association score for each element of `occupations` and the attribute sets A and B. Include the printed out association scores in your pdf."
      ]
    },
    {
      "cell_type": "code",
      "execution_count": 10,
      "metadata": {
        "id": "4ld48gnL_ySM"
      },
      "outputs": [
        {
          "name": "stdout",
          "output_type": "stream",
          "text": [
            "Association score for programmer is: 0.019615095923654735\n",
            "Association score for engineer is: 0.05364736542105675\n",
            "Association score for scientist is: 0.06795817986130714\n",
            "Association score for nurse is: -0.09486919268965721\n",
            "Association score for teacher is: -0.018930237740278244\n",
            "Association score for librarian is: -0.024141353089362383\n"
          ]
        }
      ],
      "source": [
        "# TODO: Print out the weat association score for each occupation\n",
        "###########################   YOUR CODE HERE  ##############################\n",
        "for occupation in occupations:\n",
        "    score = weat_association_score(occupation, A, B, glove)\n",
        "    print(\"Association score for\", occupation, \"is:\", score)\n",
        "############################################################################"
      ]
    },
    {
      "attachments": {},
      "cell_type": "markdown",
      "metadata": {},
      "source": [
        "**ChatGPT Trace**\n",
        "\n",
        "![](assets/vOuT1kzh9n05nw6Xxfe-_VeY3IV5cOsqLQfCz0aYaM8.original.fullsize.png)"
      ]
    },
    {
      "attachments": {},
      "cell_type": "markdown",
      "metadata": {
        "id": "KzFpg3AFRAp0"
      },
      "source": [
        "## 7.3 Analyzing WEAT [1pt]\n",
        "\n",
        "   While WEAT makes intuitive sense by asserting that closeness in the embedding space indicates greater similarity, more recent work ([Ethayarajh et al. [2019]](https://aclanthology.org/P19-1166.pdf)) has further analyzed the mathematical assertions and found some flaws with this method. Analyzing edge cases is a good way to find logical inconsistencies with any algorithm, and WEAT in particular can behave strangely when A and B contain just one word each. "
      ]
    },
    {
      "cell_type": "markdown",
      "metadata": {
        "id": "NFvAf7jXWhrS"
      },
      "source": [
        "### 7.3.1 1-word subsets [0.5 pts] \\[Type 4\\]\n",
        "Find 1-word subsets of the original A and B that reverse the sign of the association score for at least some of the occupations"
      ]
    },
    {
      "cell_type": "code",
      "execution_count": 13,
      "metadata": {
        "id": "mEuECz_6PEMQ"
      },
      "outputs": [
        {
          "name": "stdout",
          "output_type": "stream",
          "text": [
            "Association score for teacher is: 0.058042705059051514\n",
            "Original score for teacher is: -0.018930237740278244\n",
            "The 1-word sets are: ['man'] ['female']\n",
            "Association score for librarian is: 0.06666575372219086\n",
            "Original score for librarian is: -0.024141353089362383\n",
            "The 1-word sets are: ['man'] ['female']\n",
            "Association score for nurse is: 0.35583968460559845\n",
            "Original score for nurse is: -0.09486919268965721\n",
            "The 1-word sets are: ['man'] ['girlish']\n",
            "Association score for teacher is: 0.4468337446451187\n",
            "Original score for teacher is: -0.018930237740278244\n",
            "The 1-word sets are: ['man'] ['girlish']\n",
            "Association score for librarian is: 0.27873520366847515\n",
            "Original score for librarian is: -0.024141353089362383\n",
            "The 1-word sets are: ['man'] ['girlish']\n",
            "Association score for programmer is: -0.011286124587059021\n",
            "Original score for programmer is: 0.019615095923654735\n",
            "The 1-word sets are: ['male'] ['woman']\n",
            "Association score for engineer is: -0.18472768366336823\n",
            "Original score for engineer is: 0.05364736542105675\n",
            "The 1-word sets are: ['male'] ['woman']\n",
            "Association score for scientist is: -0.16186094284057617\n",
            "Original score for scientist is: 0.06795817986130714\n",
            "The 1-word sets are: ['male'] ['woman']\n",
            "Association score for programmer is: -0.051630899310112\n",
            "Original score for programmer is: 0.019615095923654735\n",
            "The 1-word sets are: ['male'] ['female']\n",
            "Association score for engineer is: -0.08600880205631256\n",
            "Original score for engineer is: 0.05364736542105675\n",
            "The 1-word sets are: ['male'] ['female']\n",
            "Association score for scientist is: -0.06417012214660645\n",
            "Original score for scientist is: 0.06795817986130714\n",
            "The 1-word sets are: ['male'] ['female']\n",
            "Association score for programmer is: -0.02121761441230774\n",
            "Original score for programmer is: 0.019615095923654735\n",
            "The 1-word sets are: ['male'] ['she']\n",
            "Association score for engineer is: -0.21983717381954193\n",
            "Original score for engineer is: 0.05364736542105675\n",
            "The 1-word sets are: ['male'] ['she']\n",
            "Association score for scientist is: -0.13856497406959534\n",
            "Original score for scientist is: 0.06795817986130714\n",
            "The 1-word sets are: ['male'] ['she']\n",
            "Association score for nurse is: 0.3437433987855911\n",
            "Original score for nurse is: -0.09486919268965721\n",
            "The 1-word sets are: ['male'] ['girlish']\n",
            "Association score for teacher is: 0.34907539188861847\n",
            "Original score for teacher is: -0.018930237740278244\n",
            "The 1-word sets are: ['male'] ['girlish']\n",
            "Association score for librarian is: 0.17784558050334454\n",
            "Original score for librarian is: -0.024141353089362383\n",
            "The 1-word sets are: ['male'] ['girlish']\n",
            "Association score for programmer is: -0.00685197114944458\n",
            "Original score for programmer is: 0.019615095923654735\n",
            "The 1-word sets are: ['he'] ['female']\n",
            "Association score for teacher is: 0.08346575498580933\n",
            "Original score for teacher is: -0.018930237740278244\n",
            "The 1-word sets are: ['he'] ['female']\n",
            "Association score for librarian is: 0.15235765278339386\n",
            "Original score for librarian is: -0.024141353089362383\n",
            "The 1-word sets are: ['he'] ['female']\n",
            "Association score for nurse is: 0.2644778937101364\n",
            "Original score for nurse is: -0.09486919268965721\n",
            "The 1-word sets are: ['he'] ['girlish']\n",
            "Association score for teacher is: 0.4722567945718765\n",
            "Original score for teacher is: -0.018930237740278244\n",
            "The 1-word sets are: ['he'] ['girlish']\n",
            "Association score for librarian is: 0.36442710272967815\n",
            "Original score for librarian is: -0.024141353089362383\n",
            "The 1-word sets are: ['he'] ['girlish']\n",
            "Association score for programmer is: -0.1547197625041008\n",
            "Original score for programmer is: 0.019615095923654735\n",
            "The 1-word sets are: ['boyish'] ['woman']\n",
            "Association score for engineer is: -0.41798314452171326\n",
            "Original score for engineer is: 0.05364736542105675\n",
            "The 1-word sets are: ['boyish'] ['woman']\n",
            "Association score for scientist is: -0.3417776823043823\n",
            "Original score for scientist is: 0.06795817986130714\n",
            "The 1-word sets are: ['boyish'] ['woman']\n",
            "Association score for programmer is: -0.19506453722715378\n",
            "Original score for programmer is: 0.019615095923654735\n",
            "The 1-word sets are: ['boyish'] ['female']\n",
            "Association score for engineer is: -0.3192642629146576\n",
            "Original score for engineer is: 0.05364736542105675\n",
            "The 1-word sets are: ['boyish'] ['female']\n",
            "Association score for scientist is: -0.2440868616104126\n",
            "Original score for scientist is: 0.06795817986130714\n",
            "The 1-word sets are: ['boyish'] ['female']\n",
            "Association score for programmer is: -0.16465125232934952\n",
            "Original score for programmer is: 0.019615095923654735\n",
            "The 1-word sets are: ['boyish'] ['she']\n",
            "Association score for engineer is: -0.45309263467788696\n",
            "Original score for engineer is: 0.05364736542105675\n",
            "The 1-word sets are: ['boyish'] ['she']\n",
            "Association score for scientist is: -0.3184817135334015\n",
            "Original score for scientist is: 0.06795817986130714\n",
            "The 1-word sets are: ['boyish'] ['she']\n",
            "Association score for teacher is: 0.03795386850833893\n",
            "Original score for teacher is: -0.018930237740278244\n",
            "The 1-word sets are: ['boyish'] ['girlish']\n",
            "Association score for librarian is: 0.06820434145629406\n",
            "Original score for librarian is: -0.024141353089362383\n",
            "The 1-word sets are: ['boyish'] ['girlish']\n"
          ]
        }
      ],
      "source": [
        "## Original sets provided here for convenience - try commenting out all but one word from each set\n",
        "# Two sets of gendered attribute words, C and D\n",
        "C = [\"man\",\n",
        "     \"male\",\n",
        "     \"he\",\n",
        "     \"boyish\"\n",
        "     ]\n",
        "D = [\"woman\",\n",
        "     \"female\",\n",
        "     \"she\",\n",
        "     \"girlish\"\n",
        "     ]\n",
        "\n",
        "# TODO: Print out the weat association score for each word in occupations, with regards to C and D\n",
        "###########################   YOUR CODE HERE  ##############################\n",
        "for i in range(len(C)):\n",
        "    for j in range(len(D)):\n",
        "        C_subset = [C[i]]\n",
        "        D_subset = [D[j]]\n",
        "        for occupation in occupations:\n",
        "            score = weat_association_score(occupation, C_subset, D_subset, glove)\n",
        "            original_score = weat_association_score(occupation, A, B, glove)\n",
        "            # if the sign of the two scores are different\n",
        "            if np.sign(score) != np.sign(original_score):\n",
        "                print(\"Association score for\", occupation, \"is:\", score)\n",
        "                print(\"Original score for\", occupation, \"is:\", original_score)\n",
        "                print(\"The 1-word sets are:{}, {}\\n\".format(C_subset, D_subset))\n",
        "############################################################################"
      ]
    },
    {
      "cell_type": "markdown",
      "metadata": {
        "id": "SStZzhgNVcYA"
      },
      "source": [
        "### 7.3.2  How word frequency affects embedding similarity [0.5 pts] \\[Type 3\\] \\[EC\\]\n",
        "\n",
        "Consider the fact that the squared norm of a word embedding is linear in the log probability of the word in the training corpus. In other words, the more common a word is in the training corpus, the larger the norm of its word embedding. (See handout for more thorough description)\n",
        "    \n",
        "Briefly explain how this fact might contribute to the results from the previous section when using different attribute words. Provide your answers in no more than three sentences.\n",
        "\n",
        "*Hint 2: The paper cited above is a great resource if you are stuck.*"
      ]
    },
    {
      "cell_type": "markdown",
      "metadata": {},
      "source": [
        "**Answer**\n",
        "\n",
        "This fact shows that the association score in WEAT can be influenced by the frequency of words in the training corpus. The more common a word is in the corpus, the larger its norm in the word embedding, and the larger its impact on the association score. As a result, the results from the previous section could be biased towards more frequent words, leading to inaccuracies in the assessment of gender bias in the embeddings."
      ]
    }
  ],
  "metadata": {
    "colab": {
      "provenance": [],
      "toc_visible": true
    },
    "kernelspec": {
      "display_name": "Python 3",
      "language": "python",
      "name": "python3"
    },
    "language_info": {
      "codemirror_mode": {
        "name": "ipython",
        "version": 3
      },
      "file_extension": ".py",
      "mimetype": "text/x-python",
      "name": "python",
      "nbconvert_exporter": "python",
      "pygments_lexer": "ipython3",
      "version": "3.9.6"
    },
    "vscode": {
      "interpreter": {
        "hash": "31f2aee4e71d21fbe5cf8b01ff0e069b9275f58929596ceb00d14d90e3e16cd6"
      }
    }
  },
  "nbformat": 4,
  "nbformat_minor": 0
}
